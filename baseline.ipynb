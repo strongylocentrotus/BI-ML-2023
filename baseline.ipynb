{
 "cells": [
  {
   "cell_type": "markdown",
   "id": "46649f7a",
   "metadata": {
    "papermill": {
     "duration": 0.016128,
     "end_time": "2023-04-02T12:22:46.686531",
     "exception": false,
     "start_time": "2023-04-02T12:22:46.670403",
     "status": "completed"
    },
    "tags": []
   },
   "source": [
    "# <center> Предсказание победителя в Dota 2\n",
    "<center> <img src=\"https://meduza.io/impro/YnJZAHUW6WHz_JQm1uRPkTql_qAhbfxt3oFJLGH7CJg/fill/980/0/ce/1/aHR0cHM6Ly9tZWR1/emEuaW8vaW1hZ2Uv/YXR0YWNobWVudHMv/aW1hZ2VzLzAwNy8x/NTcvNjk1L29yaWdp/bmFsL0tMVThLbUti/ZG5pSzlibDA0Wmlw/WXcuanBn.webp\" width=\"700\" height=\"700\">"
   ]
  },
  {
   "cell_type": "markdown",
   "id": "4f105f5b",
   "metadata": {
    "papermill": {
     "duration": 0.013861,
     "end_time": "2023-04-02T12:22:46.715097",
     "exception": false,
     "start_time": "2023-04-02T12:22:46.701236",
     "status": "completed"
    },
    "tags": []
   },
   "source": [
    "[Почитать подбробнее](https://meduza.io/feature/2021/10/19/rossiyskaya-komanda-vyigrala-chempionat-mira-po-dota-2-i-poluchila-18-millionov-dollarov-postoyte-otkuda-takie-dengi-neuzheli-igrat-v-dotu-tak-slozhno)"
   ]
  },
  {
   "cell_type": "markdown",
   "id": "19c0d256",
   "metadata": {
    "papermill": {
     "duration": 0.013686,
     "end_time": "2023-04-02T12:22:46.744079",
     "exception": false,
     "start_time": "2023-04-02T12:22:46.730393",
     "status": "completed"
    },
    "tags": []
   },
   "source": [
    "#### [Оригинальная статья](https://arxiv.org/pdf/2106.01782.pdf)\n",
    "    \n",
    "### Начало\n",
    "\n",
    "Посмотрим на готовые признаки и сделаем первую посылку. \n",
    "\n",
    "1. [Описание данных](#Описание-данных)\n",
    "2. [Описание признаков](#Описание-признаков)\n",
    "3. [Наша первая модель](#Наша-первая-модель)\n",
    "4. [Посылка](#Посылка)\n",
    "\n",
    "### Первые шаги на пути в датасайенс\n",
    "\n",
    "5. [Кросс-валидация](#Кросс-валидация)\n",
    "6. [Что есть в json файлах?](#Что-есть-в-json-файлах?)\n",
    "7. [Feature engineering](#Feature-engineering)"
   ]
  },
  {
   "cell_type": "markdown",
   "id": "7464a926",
   "metadata": {
    "papermill": {
     "duration": 0.013641,
     "end_time": "2023-04-02T12:22:46.773192",
     "exception": false,
     "start_time": "2023-04-02T12:22:46.759551",
     "status": "completed"
    },
    "tags": []
   },
   "source": [
    "### Импорты"
   ]
  },
  {
   "cell_type": "code",
   "execution_count": 1,
   "id": "06fcea35",
   "metadata": {
    "execution": {
     "iopub.execute_input": "2023-04-02T12:22:46.803961Z",
     "iopub.status.busy": "2023-04-02T12:22:46.803235Z",
     "iopub.status.idle": "2023-04-02T12:22:49.325038Z",
     "shell.execute_reply": "2023-04-02T12:22:49.323394Z"
    },
    "papermill": {
     "duration": 2.541254,
     "end_time": "2023-04-02T12:22:49.328489",
     "exception": false,
     "start_time": "2023-04-02T12:22:46.787235",
     "status": "completed"
    },
    "tags": []
   },
   "outputs": [],
   "source": [
    "import os\n",
    "import json\n",
    "import pandas as pd\n",
    "import datetime\n",
    "import warnings\n",
    "import seaborn as sns\n",
    "import matplotlib.pyplot as plt\n",
    "from sklearn.model_selection import train_test_split, ShuffleSplit, cross_val_score\n",
    "from sklearn.ensemble import RandomForestClassifier\n",
    "from sklearn.metrics import roc_auc_score, accuracy_score\n",
    "from category_encoders import TargetEncoder\n",
    "\n",
    "%matplotlib inline"
   ]
  },
  {
   "cell_type": "code",
   "execution_count": 2,
   "id": "e4a864ca",
   "metadata": {
    "execution": {
     "iopub.execute_input": "2023-04-02T12:22:49.359685Z",
     "iopub.status.busy": "2023-04-02T12:22:49.359257Z",
     "iopub.status.idle": "2023-04-02T12:22:49.369946Z",
     "shell.execute_reply": "2023-04-02T12:22:49.368244Z"
    },
    "papermill": {
     "duration": 0.031141,
     "end_time": "2023-04-02T12:22:49.374278",
     "exception": false,
     "start_time": "2023-04-02T12:22:49.343137",
     "status": "completed"
    },
    "tags": []
   },
   "outputs": [
    {
     "name": "stdout",
     "output_type": "stream",
     "text": [
      "Directory path:  ../input\n",
      "Folder name:  ['bi-ml-competition-2023']\n",
      "File name:  []\n",
      "Directory path:  ../input/bi-ml-competition-2023\n",
      "Folder name:  []\n",
      "File name:  ['train_data.csv', 'test_raw_data.jsonl', 'test_data.csv', 'train_raw_data.jsonl', 'train_targets.csv']\n"
     ]
    }
   ],
   "source": [
    "from os import walk\n",
    "for (dirpath, dirnames, filenames) in walk(\"../input\"):\n",
    "    print(\"Directory path: \", dirpath)\n",
    "    print(\"Folder name: \", dirnames)\n",
    "    print(\"File name: \", filenames)"
   ]
  },
  {
   "cell_type": "code",
   "execution_count": 3,
   "id": "3ad6ecb9",
   "metadata": {
    "execution": {
     "iopub.execute_input": "2023-04-02T12:22:49.405508Z",
     "iopub.status.busy": "2023-04-02T12:22:49.405101Z",
     "iopub.status.idle": "2023-04-02T12:22:49.412530Z",
     "shell.execute_reply": "2023-04-02T12:22:49.410843Z"
    },
    "papermill": {
     "duration": 0.025771,
     "end_time": "2023-04-02T12:22:49.415157",
     "exception": false,
     "start_time": "2023-04-02T12:22:49.389386",
     "status": "completed"
    },
    "tags": []
   },
   "outputs": [],
   "source": [
    "SEED = 10801\n",
    "sns.set_style(style=\"whitegrid\")\n",
    "plt.rcParams[\"figure.figsize\"] = 12, 8\n",
    "warnings.filterwarnings(\"ignore\")"
   ]
  },
  {
   "cell_type": "markdown",
   "id": "75d51f7c",
   "metadata": {
    "papermill": {
     "duration": 0.013815,
     "end_time": "2023-04-02T12:22:49.443494",
     "exception": false,
     "start_time": "2023-04-02T12:22:49.429679",
     "status": "completed"
    },
    "tags": []
   },
   "source": [
    "## <left>Описание данных\n",
    "\n",
    "Файлы:\n",
    "\n",
    "- `sample_submission.csv`: пример файла-посылки\n",
    "- `train_raw_data.jsonl`, `test_raw_data.jsonl`: \"сырые\" данные \n",
    "- `train_data.csv`, `test_data.csv`: признаки, созданные авторами\n",
    "- `train_targets.csv`: результаты тренировочных игр"
   ]
  },
  {
   "cell_type": "markdown",
   "id": "f3790224",
   "metadata": {
    "papermill": {
     "duration": 0.014337,
     "end_time": "2023-04-02T12:22:49.472717",
     "exception": false,
     "start_time": "2023-04-02T12:22:49.458380",
     "status": "completed"
    },
    "tags": []
   },
   "source": [
    "## <left>Описание признаков\n",
    "    \n",
    "Набор простых признаков, описывающих игроков и команды в целом"
   ]
  },
  {
   "cell_type": "code",
   "execution_count": 4,
   "id": "45c7b7fa",
   "metadata": {
    "execution": {
     "iopub.execute_input": "2023-04-02T12:22:49.503657Z",
     "iopub.status.busy": "2023-04-02T12:22:49.503144Z",
     "iopub.status.idle": "2023-04-02T12:22:51.143822Z",
     "shell.execute_reply": "2023-04-02T12:22:51.142395Z"
    },
    "papermill": {
     "duration": 1.65975,
     "end_time": "2023-04-02T12:22:51.147002",
     "exception": false,
     "start_time": "2023-04-02T12:22:49.487252",
     "status": "completed"
    },
    "tags": []
   },
   "outputs": [],
   "source": [
    "PATH_TO_DATA = \"/kaggle/input/bi-ml-competition-2023\"\n",
    "\n",
    "df_train_features = pd.read_csv(os.path.join(PATH_TO_DATA, \n",
    "                                             \"train_data.csv\"), \n",
    "                                    index_col=\"match_id_hash\")\n",
    "df_train_targets = pd.read_csv(os.path.join(PATH_TO_DATA, \n",
    "                                            \"train_targets.csv\"), \n",
    "                                   index_col=\"match_id_hash\")"
   ]
  },
  {
   "cell_type": "code",
   "execution_count": 5,
   "id": "23616a13",
   "metadata": {
    "execution": {
     "iopub.execute_input": "2023-04-02T12:22:51.177645Z",
     "iopub.status.busy": "2023-04-02T12:22:51.177149Z",
     "iopub.status.idle": "2023-04-02T12:22:51.187987Z",
     "shell.execute_reply": "2023-04-02T12:22:51.186385Z"
    },
    "papermill": {
     "duration": 0.029855,
     "end_time": "2023-04-02T12:22:51.191156",
     "exception": false,
     "start_time": "2023-04-02T12:22:51.161301",
     "status": "completed"
    },
    "tags": []
   },
   "outputs": [
    {
     "data": {
      "text/plain": [
       "(31698, 245)"
      ]
     },
     "execution_count": 5,
     "metadata": {},
     "output_type": "execute_result"
    }
   ],
   "source": [
    "df_train_features.shape"
   ]
  },
  {
   "cell_type": "code",
   "execution_count": 6,
   "id": "0a26d6f6",
   "metadata": {
    "execution": {
     "iopub.execute_input": "2023-04-02T12:22:51.223870Z",
     "iopub.status.busy": "2023-04-02T12:22:51.223324Z",
     "iopub.status.idle": "2023-04-02T12:22:51.266456Z",
     "shell.execute_reply": "2023-04-02T12:22:51.264900Z"
    },
    "papermill": {
     "duration": 0.063179,
     "end_time": "2023-04-02T12:22:51.269901",
     "exception": false,
     "start_time": "2023-04-02T12:22:51.206722",
     "status": "completed"
    },
    "tags": []
   },
   "outputs": [
    {
     "data": {
      "text/html": [
       "<div>\n",
       "<style scoped>\n",
       "    .dataframe tbody tr th:only-of-type {\n",
       "        vertical-align: middle;\n",
       "    }\n",
       "\n",
       "    .dataframe tbody tr th {\n",
       "        vertical-align: top;\n",
       "    }\n",
       "\n",
       "    .dataframe thead th {\n",
       "        text-align: right;\n",
       "    }\n",
       "</style>\n",
       "<table border=\"1\" class=\"dataframe\">\n",
       "  <thead>\n",
       "    <tr style=\"text-align: right;\">\n",
       "      <th></th>\n",
       "      <th>game_time</th>\n",
       "      <th>game_mode</th>\n",
       "      <th>lobby_type</th>\n",
       "      <th>objectives_len</th>\n",
       "      <th>chat_len</th>\n",
       "      <th>r1_hero_id</th>\n",
       "      <th>r1_kills</th>\n",
       "      <th>r1_deaths</th>\n",
       "      <th>r1_assists</th>\n",
       "      <th>r1_denies</th>\n",
       "      <th>...</th>\n",
       "      <th>d5_stuns</th>\n",
       "      <th>d5_creeps_stacked</th>\n",
       "      <th>d5_camps_stacked</th>\n",
       "      <th>d5_rune_pickups</th>\n",
       "      <th>d5_firstblood_claimed</th>\n",
       "      <th>d5_teamfight_participation</th>\n",
       "      <th>d5_towers_killed</th>\n",
       "      <th>d5_roshans_killed</th>\n",
       "      <th>d5_obs_placed</th>\n",
       "      <th>d5_sen_placed</th>\n",
       "    </tr>\n",
       "    <tr>\n",
       "      <th>match_id_hash</th>\n",
       "      <th></th>\n",
       "      <th></th>\n",
       "      <th></th>\n",
       "      <th></th>\n",
       "      <th></th>\n",
       "      <th></th>\n",
       "      <th></th>\n",
       "      <th></th>\n",
       "      <th></th>\n",
       "      <th></th>\n",
       "      <th></th>\n",
       "      <th></th>\n",
       "      <th></th>\n",
       "      <th></th>\n",
       "      <th></th>\n",
       "      <th></th>\n",
       "      <th></th>\n",
       "      <th></th>\n",
       "      <th></th>\n",
       "      <th></th>\n",
       "      <th></th>\n",
       "    </tr>\n",
       "  </thead>\n",
       "  <tbody>\n",
       "    <tr>\n",
       "      <th>b9c57c450ce74a2af79c9ce96fac144d</th>\n",
       "      <td>658</td>\n",
       "      <td>4</td>\n",
       "      <td>0</td>\n",
       "      <td>3</td>\n",
       "      <td>10</td>\n",
       "      <td>15</td>\n",
       "      <td>7</td>\n",
       "      <td>2</td>\n",
       "      <td>0</td>\n",
       "      <td>7</td>\n",
       "      <td>...</td>\n",
       "      <td>0.000000</td>\n",
       "      <td>0</td>\n",
       "      <td>0</td>\n",
       "      <td>0</td>\n",
       "      <td>0</td>\n",
       "      <td>0.00</td>\n",
       "      <td>0</td>\n",
       "      <td>0</td>\n",
       "      <td>0</td>\n",
       "      <td>0</td>\n",
       "    </tr>\n",
       "    <tr>\n",
       "      <th>6db558535151ea18ca70a6892197db41</th>\n",
       "      <td>21</td>\n",
       "      <td>23</td>\n",
       "      <td>0</td>\n",
       "      <td>0</td>\n",
       "      <td>0</td>\n",
       "      <td>101</td>\n",
       "      <td>0</td>\n",
       "      <td>0</td>\n",
       "      <td>0</td>\n",
       "      <td>0</td>\n",
       "      <td>...</td>\n",
       "      <td>0.000000</td>\n",
       "      <td>0</td>\n",
       "      <td>0</td>\n",
       "      <td>0</td>\n",
       "      <td>0</td>\n",
       "      <td>0.00</td>\n",
       "      <td>0</td>\n",
       "      <td>0</td>\n",
       "      <td>0</td>\n",
       "      <td>0</td>\n",
       "    </tr>\n",
       "    <tr>\n",
       "      <th>19c39fe2af2b547e48708ca005c6ae74</th>\n",
       "      <td>160</td>\n",
       "      <td>22</td>\n",
       "      <td>7</td>\n",
       "      <td>0</td>\n",
       "      <td>0</td>\n",
       "      <td>57</td>\n",
       "      <td>0</td>\n",
       "      <td>0</td>\n",
       "      <td>0</td>\n",
       "      <td>1</td>\n",
       "      <td>...</td>\n",
       "      <td>0.000000</td>\n",
       "      <td>0</td>\n",
       "      <td>0</td>\n",
       "      <td>0</td>\n",
       "      <td>0</td>\n",
       "      <td>0.00</td>\n",
       "      <td>0</td>\n",
       "      <td>0</td>\n",
       "      <td>0</td>\n",
       "      <td>0</td>\n",
       "    </tr>\n",
       "    <tr>\n",
       "      <th>c96d629dc0c39f0c616d1949938a6ba6</th>\n",
       "      <td>1016</td>\n",
       "      <td>22</td>\n",
       "      <td>0</td>\n",
       "      <td>1</td>\n",
       "      <td>0</td>\n",
       "      <td>119</td>\n",
       "      <td>0</td>\n",
       "      <td>3</td>\n",
       "      <td>3</td>\n",
       "      <td>5</td>\n",
       "      <td>...</td>\n",
       "      <td>8.264696</td>\n",
       "      <td>0</td>\n",
       "      <td>0</td>\n",
       "      <td>3</td>\n",
       "      <td>0</td>\n",
       "      <td>0.25</td>\n",
       "      <td>0</td>\n",
       "      <td>0</td>\n",
       "      <td>3</td>\n",
       "      <td>0</td>\n",
       "    </tr>\n",
       "    <tr>\n",
       "      <th>156c88bff4e9c4668b0f53df3d870f1b</th>\n",
       "      <td>582</td>\n",
       "      <td>22</td>\n",
       "      <td>7</td>\n",
       "      <td>2</td>\n",
       "      <td>2</td>\n",
       "      <td>12</td>\n",
       "      <td>3</td>\n",
       "      <td>1</td>\n",
       "      <td>2</td>\n",
       "      <td>9</td>\n",
       "      <td>...</td>\n",
       "      <td>15.762911</td>\n",
       "      <td>3</td>\n",
       "      <td>1</td>\n",
       "      <td>0</td>\n",
       "      <td>1</td>\n",
       "      <td>0.50</td>\n",
       "      <td>0</td>\n",
       "      <td>0</td>\n",
       "      <td>3</td>\n",
       "      <td>0</td>\n",
       "    </tr>\n",
       "  </tbody>\n",
       "</table>\n",
       "<p>5 rows × 245 columns</p>\n",
       "</div>"
      ],
      "text/plain": [
       "                                  game_time  game_mode  lobby_type  \\\n",
       "match_id_hash                                                        \n",
       "b9c57c450ce74a2af79c9ce96fac144d        658          4           0   \n",
       "6db558535151ea18ca70a6892197db41         21         23           0   \n",
       "19c39fe2af2b547e48708ca005c6ae74        160         22           7   \n",
       "c96d629dc0c39f0c616d1949938a6ba6       1016         22           0   \n",
       "156c88bff4e9c4668b0f53df3d870f1b        582         22           7   \n",
       "\n",
       "                                  objectives_len  chat_len  r1_hero_id  \\\n",
       "match_id_hash                                                            \n",
       "b9c57c450ce74a2af79c9ce96fac144d               3        10          15   \n",
       "6db558535151ea18ca70a6892197db41               0         0         101   \n",
       "19c39fe2af2b547e48708ca005c6ae74               0         0          57   \n",
       "c96d629dc0c39f0c616d1949938a6ba6               1         0         119   \n",
       "156c88bff4e9c4668b0f53df3d870f1b               2         2          12   \n",
       "\n",
       "                                  r1_kills  r1_deaths  r1_assists  r1_denies  \\\n",
       "match_id_hash                                                                  \n",
       "b9c57c450ce74a2af79c9ce96fac144d         7          2           0          7   \n",
       "6db558535151ea18ca70a6892197db41         0          0           0          0   \n",
       "19c39fe2af2b547e48708ca005c6ae74         0          0           0          1   \n",
       "c96d629dc0c39f0c616d1949938a6ba6         0          3           3          5   \n",
       "156c88bff4e9c4668b0f53df3d870f1b         3          1           2          9   \n",
       "\n",
       "                                  ...   d5_stuns  d5_creeps_stacked  \\\n",
       "match_id_hash                     ...                                 \n",
       "b9c57c450ce74a2af79c9ce96fac144d  ...   0.000000                  0   \n",
       "6db558535151ea18ca70a6892197db41  ...   0.000000                  0   \n",
       "19c39fe2af2b547e48708ca005c6ae74  ...   0.000000                  0   \n",
       "c96d629dc0c39f0c616d1949938a6ba6  ...   8.264696                  0   \n",
       "156c88bff4e9c4668b0f53df3d870f1b  ...  15.762911                  3   \n",
       "\n",
       "                                  d5_camps_stacked  d5_rune_pickups  \\\n",
       "match_id_hash                                                         \n",
       "b9c57c450ce74a2af79c9ce96fac144d                 0                0   \n",
       "6db558535151ea18ca70a6892197db41                 0                0   \n",
       "19c39fe2af2b547e48708ca005c6ae74                 0                0   \n",
       "c96d629dc0c39f0c616d1949938a6ba6                 0                3   \n",
       "156c88bff4e9c4668b0f53df3d870f1b                 1                0   \n",
       "\n",
       "                                  d5_firstblood_claimed  \\\n",
       "match_id_hash                                             \n",
       "b9c57c450ce74a2af79c9ce96fac144d                      0   \n",
       "6db558535151ea18ca70a6892197db41                      0   \n",
       "19c39fe2af2b547e48708ca005c6ae74                      0   \n",
       "c96d629dc0c39f0c616d1949938a6ba6                      0   \n",
       "156c88bff4e9c4668b0f53df3d870f1b                      1   \n",
       "\n",
       "                                  d5_teamfight_participation  \\\n",
       "match_id_hash                                                  \n",
       "b9c57c450ce74a2af79c9ce96fac144d                        0.00   \n",
       "6db558535151ea18ca70a6892197db41                        0.00   \n",
       "19c39fe2af2b547e48708ca005c6ae74                        0.00   \n",
       "c96d629dc0c39f0c616d1949938a6ba6                        0.25   \n",
       "156c88bff4e9c4668b0f53df3d870f1b                        0.50   \n",
       "\n",
       "                                  d5_towers_killed  d5_roshans_killed  \\\n",
       "match_id_hash                                                           \n",
       "b9c57c450ce74a2af79c9ce96fac144d                 0                  0   \n",
       "6db558535151ea18ca70a6892197db41                 0                  0   \n",
       "19c39fe2af2b547e48708ca005c6ae74                 0                  0   \n",
       "c96d629dc0c39f0c616d1949938a6ba6                 0                  0   \n",
       "156c88bff4e9c4668b0f53df3d870f1b                 0                  0   \n",
       "\n",
       "                                  d5_obs_placed  d5_sen_placed  \n",
       "match_id_hash                                                   \n",
       "b9c57c450ce74a2af79c9ce96fac144d              0              0  \n",
       "6db558535151ea18ca70a6892197db41              0              0  \n",
       "19c39fe2af2b547e48708ca005c6ae74              0              0  \n",
       "c96d629dc0c39f0c616d1949938a6ba6              3              0  \n",
       "156c88bff4e9c4668b0f53df3d870f1b              3              0  \n",
       "\n",
       "[5 rows x 245 columns]"
      ]
     },
     "execution_count": 6,
     "metadata": {},
     "output_type": "execute_result"
    }
   ],
   "source": [
    "df_train_features.head()"
   ]
  },
  {
   "cell_type": "markdown",
   "id": "c82e6931",
   "metadata": {
    "papermill": {
     "duration": 0.015563,
     "end_time": "2023-04-02T12:22:51.302432",
     "exception": false,
     "start_time": "2023-04-02T12:22:51.286869",
     "status": "completed"
    },
    "tags": []
   },
   "source": [
    "Имеем ~32 тысячи наблюдений, каждое из которых характеризуется уникальным `match_id_hash` (захэшированное id матча), и 245 признаков. `game_time` показывает момент времени, в который получены эти данные. То есть по сути это не длительность самого матча, а например, его середина, таким образом, в итоге мы сможем получить модель, которая будет предсказывать вероятность победы каждой из команд в течение матча (хорошо подходит для букмекеров)."
   ]
  },
  {
   "cell_type": "markdown",
   "id": "c05ac8d6",
   "metadata": {
    "papermill": {
     "duration": 0.015305,
     "end_time": "2023-04-02T12:22:51.333988",
     "exception": false,
     "start_time": "2023-04-02T12:22:51.318683",
     "status": "completed"
    },
    "tags": []
   },
   "source": [
    "Нас интересует поле `radiant_win` (так называется одна из команд, вторая - dire). Остальные колоки здесь по сути получены из \"будущего\" и есть только для тренировочных данных, поэтому на них можно просто посмотреть)."
   ]
  },
  {
   "cell_type": "code",
   "execution_count": 7,
   "id": "59f6138b",
   "metadata": {
    "execution": {
     "iopub.execute_input": "2023-04-02T12:22:51.368678Z",
     "iopub.status.busy": "2023-04-02T12:22:51.367330Z",
     "iopub.status.idle": "2023-04-02T12:22:51.382496Z",
     "shell.execute_reply": "2023-04-02T12:22:51.381128Z"
    },
    "papermill": {
     "duration": 0.035287,
     "end_time": "2023-04-02T12:22:51.385117",
     "exception": false,
     "start_time": "2023-04-02T12:22:51.349830",
     "status": "completed"
    },
    "tags": []
   },
   "outputs": [
    {
     "data": {
      "text/html": [
       "<div>\n",
       "<style scoped>\n",
       "    .dataframe tbody tr th:only-of-type {\n",
       "        vertical-align: middle;\n",
       "    }\n",
       "\n",
       "    .dataframe tbody tr th {\n",
       "        vertical-align: top;\n",
       "    }\n",
       "\n",
       "    .dataframe thead th {\n",
       "        text-align: right;\n",
       "    }\n",
       "</style>\n",
       "<table border=\"1\" class=\"dataframe\">\n",
       "  <thead>\n",
       "    <tr style=\"text-align: right;\">\n",
       "      <th></th>\n",
       "      <th>game_time</th>\n",
       "      <th>radiant_win</th>\n",
       "      <th>duration</th>\n",
       "      <th>time_remaining</th>\n",
       "      <th>next_roshan_team</th>\n",
       "    </tr>\n",
       "    <tr>\n",
       "      <th>match_id_hash</th>\n",
       "      <th></th>\n",
       "      <th></th>\n",
       "      <th></th>\n",
       "      <th></th>\n",
       "      <th></th>\n",
       "    </tr>\n",
       "  </thead>\n",
       "  <tbody>\n",
       "    <tr>\n",
       "      <th>b9c57c450ce74a2af79c9ce96fac144d</th>\n",
       "      <td>658</td>\n",
       "      <td>True</td>\n",
       "      <td>1154</td>\n",
       "      <td>496</td>\n",
       "      <td>NaN</td>\n",
       "    </tr>\n",
       "    <tr>\n",
       "      <th>6db558535151ea18ca70a6892197db41</th>\n",
       "      <td>21</td>\n",
       "      <td>True</td>\n",
       "      <td>1503</td>\n",
       "      <td>1482</td>\n",
       "      <td>Radiant</td>\n",
       "    </tr>\n",
       "    <tr>\n",
       "      <th>19c39fe2af2b547e48708ca005c6ae74</th>\n",
       "      <td>160</td>\n",
       "      <td>False</td>\n",
       "      <td>2063</td>\n",
       "      <td>1903</td>\n",
       "      <td>NaN</td>\n",
       "    </tr>\n",
       "    <tr>\n",
       "      <th>c96d629dc0c39f0c616d1949938a6ba6</th>\n",
       "      <td>1016</td>\n",
       "      <td>True</td>\n",
       "      <td>2147</td>\n",
       "      <td>1131</td>\n",
       "      <td>Radiant</td>\n",
       "    </tr>\n",
       "    <tr>\n",
       "      <th>156c88bff4e9c4668b0f53df3d870f1b</th>\n",
       "      <td>582</td>\n",
       "      <td>False</td>\n",
       "      <td>1927</td>\n",
       "      <td>1345</td>\n",
       "      <td>Dire</td>\n",
       "    </tr>\n",
       "  </tbody>\n",
       "</table>\n",
       "</div>"
      ],
      "text/plain": [
       "                                  game_time  radiant_win  duration  \\\n",
       "match_id_hash                                                        \n",
       "b9c57c450ce74a2af79c9ce96fac144d        658         True      1154   \n",
       "6db558535151ea18ca70a6892197db41         21         True      1503   \n",
       "19c39fe2af2b547e48708ca005c6ae74        160        False      2063   \n",
       "c96d629dc0c39f0c616d1949938a6ba6       1016         True      2147   \n",
       "156c88bff4e9c4668b0f53df3d870f1b        582        False      1927   \n",
       "\n",
       "                                  time_remaining next_roshan_team  \n",
       "match_id_hash                                                      \n",
       "b9c57c450ce74a2af79c9ce96fac144d             496              NaN  \n",
       "6db558535151ea18ca70a6892197db41            1482          Radiant  \n",
       "19c39fe2af2b547e48708ca005c6ae74            1903              NaN  \n",
       "c96d629dc0c39f0c616d1949938a6ba6            1131          Radiant  \n",
       "156c88bff4e9c4668b0f53df3d870f1b            1345             Dire  "
      ]
     },
     "execution_count": 7,
     "metadata": {},
     "output_type": "execute_result"
    }
   ],
   "source": [
    "df_train_targets.head()"
   ]
  },
  {
   "cell_type": "code",
   "execution_count": 8,
   "id": "4b0a8adb",
   "metadata": {
    "execution": {
     "iopub.execute_input": "2023-04-02T12:22:51.418743Z",
     "iopub.status.busy": "2023-04-02T12:22:51.417673Z",
     "iopub.status.idle": "2023-04-02T12:22:51.428397Z",
     "shell.execute_reply": "2023-04-02T12:22:51.426464Z"
    },
    "papermill": {
     "duration": 0.030913,
     "end_time": "2023-04-02T12:22:51.431551",
     "exception": false,
     "start_time": "2023-04-02T12:22:51.400638",
     "status": "completed"
    },
    "tags": []
   },
   "outputs": [
    {
     "data": {
      "text/plain": [
       "['r1', 'd1', 'r2', 'd2', 'r3', 'd3', 'r4', 'd4', 'r5', 'd5']"
      ]
     },
     "execution_count": 8,
     "metadata": {},
     "output_type": "execute_result"
    }
   ],
   "source": [
    "# Префиксы колонок игроков\n",
    "players_id = []\n",
    "for i in range(1, 6):\n",
    "    players_id.append(\"r\" + str(i))\n",
    "    players_id.append(\"d\" + str(i))\n",
    "players_id"
   ]
  },
  {
   "cell_type": "code",
   "execution_count": 9,
   "id": "978a974c",
   "metadata": {
    "execution": {
     "iopub.execute_input": "2023-04-02T12:22:51.465350Z",
     "iopub.status.busy": "2023-04-02T12:22:51.464104Z",
     "iopub.status.idle": "2023-04-02T12:22:53.725238Z",
     "shell.execute_reply": "2023-04-02T12:22:53.724062Z"
    },
    "papermill": {
     "duration": 2.281343,
     "end_time": "2023-04-02T12:22:53.728230",
     "exception": false,
     "start_time": "2023-04-02T12:22:51.446887",
     "status": "completed"
    },
    "tags": []
   },
   "outputs": [],
   "source": [
    "# Используем TargetEncoder для шифрования категориальных признаков [\"game_mode\", \"lobby_type\", \"hero_id\"]\n",
    "# TargetEncoder - способ шифрования категориальных переменных, при котором последние заменяются вероятностью получить определенный таргет при данной категории\n",
    "# (референс - https://contrib.scikit-learn.org/category_encoders/targetencoder.html)\n",
    "#\n",
    "# Данный метод не увеличивает размерность данных и позволяет относительно легко закодировать переменные с множественными градациями.\n",
    "# Ограничением метода является его склонность к переучиванию - тем не менее, это можно проверить по точности предсказаний на X_valid.\n",
    "# \n",
    "\n",
    "encoder = TargetEncoder()\n",
    "df_train_features['game_mode'] = df_train_features.game_mode.astype('category')\n",
    "\n",
    "df_train_features['lobby_type'] = df_train_features.lobby_type.astype('category')\n",
    "\n",
    "for el in players_id:\n",
    "    df_train_features[el + '_hero_id'] = df_train_features[el + '_hero_id'].astype('category')\n",
    "    \n",
    "df_train_features = encoder.fit_transform(df_train_features,df_train_targets['radiant_win'])"
   ]
  },
  {
   "cell_type": "code",
   "execution_count": 10,
   "id": "f64f778d",
   "metadata": {
    "execution": {
     "iopub.execute_input": "2023-04-02T12:22:53.760313Z",
     "iopub.status.busy": "2023-04-02T12:22:53.759895Z",
     "iopub.status.idle": "2023-04-02T12:22:53.773520Z",
     "shell.execute_reply": "2023-04-02T12:22:53.772287Z"
    },
    "papermill": {
     "duration": 0.033004,
     "end_time": "2023-04-02T12:22:53.776281",
     "exception": false,
     "start_time": "2023-04-02T12:22:53.743277",
     "status": "completed"
    },
    "tags": []
   },
   "outputs": [
    {
     "data": {
      "text/plain": [
       "TargetEncoder(cols=['game_mode', 'lobby_type', 'r1_hero_id', 'r2_hero_id',\n",
       "                    'r3_hero_id', 'r4_hero_id', 'r5_hero_id', 'd1_hero_id',\n",
       "                    'd2_hero_id', 'd3_hero_id', 'd4_hero_id', 'd5_hero_id'])"
      ]
     },
     "execution_count": 10,
     "metadata": {},
     "output_type": "execute_result"
    }
   ],
   "source": [
    "# Encoder содержит информацию о переменных game_mode, lobby_type, hero_id\n",
    "encoder"
   ]
  },
  {
   "cell_type": "code",
   "execution_count": 11,
   "id": "c6e53e97",
   "metadata": {
    "execution": {
     "iopub.execute_input": "2023-04-02T12:22:53.809810Z",
     "iopub.status.busy": "2023-04-02T12:22:53.809360Z",
     "iopub.status.idle": "2023-04-02T12:22:53.834242Z",
     "shell.execute_reply": "2023-04-02T12:22:53.832965Z"
    },
    "papermill": {
     "duration": 0.044699,
     "end_time": "2023-04-02T12:22:53.836953",
     "exception": false,
     "start_time": "2023-04-02T12:22:53.792254",
     "status": "completed"
    },
    "tags": []
   },
   "outputs": [
    {
     "data": {
      "text/html": [
       "<div>\n",
       "<style scoped>\n",
       "    .dataframe tbody tr th:only-of-type {\n",
       "        vertical-align: middle;\n",
       "    }\n",
       "\n",
       "    .dataframe tbody tr th {\n",
       "        vertical-align: top;\n",
       "    }\n",
       "\n",
       "    .dataframe thead th {\n",
       "        text-align: right;\n",
       "    }\n",
       "</style>\n",
       "<table border=\"1\" class=\"dataframe\">\n",
       "  <thead>\n",
       "    <tr style=\"text-align: right;\">\n",
       "      <th></th>\n",
       "      <th>game_time</th>\n",
       "      <th>game_mode</th>\n",
       "      <th>lobby_type</th>\n",
       "      <th>objectives_len</th>\n",
       "      <th>chat_len</th>\n",
       "      <th>r1_hero_id</th>\n",
       "      <th>r1_kills</th>\n",
       "      <th>r1_deaths</th>\n",
       "      <th>r1_assists</th>\n",
       "      <th>r1_denies</th>\n",
       "      <th>...</th>\n",
       "      <th>d5_stuns</th>\n",
       "      <th>d5_creeps_stacked</th>\n",
       "      <th>d5_camps_stacked</th>\n",
       "      <th>d5_rune_pickups</th>\n",
       "      <th>d5_firstblood_claimed</th>\n",
       "      <th>d5_teamfight_participation</th>\n",
       "      <th>d5_towers_killed</th>\n",
       "      <th>d5_roshans_killed</th>\n",
       "      <th>d5_obs_placed</th>\n",
       "      <th>d5_sen_placed</th>\n",
       "    </tr>\n",
       "    <tr>\n",
       "      <th>match_id_hash</th>\n",
       "      <th></th>\n",
       "      <th></th>\n",
       "      <th></th>\n",
       "      <th></th>\n",
       "      <th></th>\n",
       "      <th></th>\n",
       "      <th></th>\n",
       "      <th></th>\n",
       "      <th></th>\n",
       "      <th></th>\n",
       "      <th></th>\n",
       "      <th></th>\n",
       "      <th></th>\n",
       "      <th></th>\n",
       "      <th></th>\n",
       "      <th></th>\n",
       "      <th></th>\n",
       "      <th></th>\n",
       "      <th></th>\n",
       "      <th></th>\n",
       "      <th></th>\n",
       "    </tr>\n",
       "  </thead>\n",
       "  <tbody>\n",
       "    <tr>\n",
       "      <th>b9c57c450ce74a2af79c9ce96fac144d</th>\n",
       "      <td>658</td>\n",
       "      <td>0.513034</td>\n",
       "      <td>0.524230</td>\n",
       "      <td>3</td>\n",
       "      <td>10</td>\n",
       "      <td>0.410855</td>\n",
       "      <td>7</td>\n",
       "      <td>2</td>\n",
       "      <td>0</td>\n",
       "      <td>7</td>\n",
       "      <td>...</td>\n",
       "      <td>0.000000</td>\n",
       "      <td>0</td>\n",
       "      <td>0</td>\n",
       "      <td>0</td>\n",
       "      <td>0</td>\n",
       "      <td>0.00</td>\n",
       "      <td>0</td>\n",
       "      <td>0</td>\n",
       "      <td>0</td>\n",
       "      <td>0</td>\n",
       "    </tr>\n",
       "    <tr>\n",
       "      <th>6db558535151ea18ca70a6892197db41</th>\n",
       "      <td>21</td>\n",
       "      <td>0.530063</td>\n",
       "      <td>0.524230</td>\n",
       "      <td>0</td>\n",
       "      <td>0</td>\n",
       "      <td>0.570201</td>\n",
       "      <td>0</td>\n",
       "      <td>0</td>\n",
       "      <td>0</td>\n",
       "      <td>0</td>\n",
       "      <td>...</td>\n",
       "      <td>0.000000</td>\n",
       "      <td>0</td>\n",
       "      <td>0</td>\n",
       "      <td>0</td>\n",
       "      <td>0</td>\n",
       "      <td>0.00</td>\n",
       "      <td>0</td>\n",
       "      <td>0</td>\n",
       "      <td>0</td>\n",
       "      <td>0</td>\n",
       "    </tr>\n",
       "    <tr>\n",
       "      <th>19c39fe2af2b547e48708ca005c6ae74</th>\n",
       "      <td>160</td>\n",
       "      <td>0.527997</td>\n",
       "      <td>0.526681</td>\n",
       "      <td>0</td>\n",
       "      <td>0</td>\n",
       "      <td>0.590308</td>\n",
       "      <td>0</td>\n",
       "      <td>0</td>\n",
       "      <td>0</td>\n",
       "      <td>1</td>\n",
       "      <td>...</td>\n",
       "      <td>0.000000</td>\n",
       "      <td>0</td>\n",
       "      <td>0</td>\n",
       "      <td>0</td>\n",
       "      <td>0</td>\n",
       "      <td>0.00</td>\n",
       "      <td>0</td>\n",
       "      <td>0</td>\n",
       "      <td>0</td>\n",
       "      <td>0</td>\n",
       "    </tr>\n",
       "    <tr>\n",
       "      <th>c96d629dc0c39f0c616d1949938a6ba6</th>\n",
       "      <td>1016</td>\n",
       "      <td>0.527997</td>\n",
       "      <td>0.524230</td>\n",
       "      <td>1</td>\n",
       "      <td>0</td>\n",
       "      <td>0.525886</td>\n",
       "      <td>0</td>\n",
       "      <td>3</td>\n",
       "      <td>3</td>\n",
       "      <td>5</td>\n",
       "      <td>...</td>\n",
       "      <td>8.264696</td>\n",
       "      <td>0</td>\n",
       "      <td>0</td>\n",
       "      <td>3</td>\n",
       "      <td>0</td>\n",
       "      <td>0.25</td>\n",
       "      <td>0</td>\n",
       "      <td>0</td>\n",
       "      <td>3</td>\n",
       "      <td>0</td>\n",
       "    </tr>\n",
       "    <tr>\n",
       "      <th>156c88bff4e9c4668b0f53df3d870f1b</th>\n",
       "      <td>582</td>\n",
       "      <td>0.527997</td>\n",
       "      <td>0.526681</td>\n",
       "      <td>2</td>\n",
       "      <td>2</td>\n",
       "      <td>0.534091</td>\n",
       "      <td>3</td>\n",
       "      <td>1</td>\n",
       "      <td>2</td>\n",
       "      <td>9</td>\n",
       "      <td>...</td>\n",
       "      <td>15.762911</td>\n",
       "      <td>3</td>\n",
       "      <td>1</td>\n",
       "      <td>0</td>\n",
       "      <td>1</td>\n",
       "      <td>0.50</td>\n",
       "      <td>0</td>\n",
       "      <td>0</td>\n",
       "      <td>3</td>\n",
       "      <td>0</td>\n",
       "    </tr>\n",
       "  </tbody>\n",
       "</table>\n",
       "<p>5 rows × 245 columns</p>\n",
       "</div>"
      ],
      "text/plain": [
       "                                  game_time  game_mode  lobby_type  \\\n",
       "match_id_hash                                                        \n",
       "b9c57c450ce74a2af79c9ce96fac144d        658   0.513034    0.524230   \n",
       "6db558535151ea18ca70a6892197db41         21   0.530063    0.524230   \n",
       "19c39fe2af2b547e48708ca005c6ae74        160   0.527997    0.526681   \n",
       "c96d629dc0c39f0c616d1949938a6ba6       1016   0.527997    0.524230   \n",
       "156c88bff4e9c4668b0f53df3d870f1b        582   0.527997    0.526681   \n",
       "\n",
       "                                  objectives_len  chat_len  r1_hero_id  \\\n",
       "match_id_hash                                                            \n",
       "b9c57c450ce74a2af79c9ce96fac144d               3        10    0.410855   \n",
       "6db558535151ea18ca70a6892197db41               0         0    0.570201   \n",
       "19c39fe2af2b547e48708ca005c6ae74               0         0    0.590308   \n",
       "c96d629dc0c39f0c616d1949938a6ba6               1         0    0.525886   \n",
       "156c88bff4e9c4668b0f53df3d870f1b               2         2    0.534091   \n",
       "\n",
       "                                  r1_kills  r1_deaths  r1_assists  r1_denies  \\\n",
       "match_id_hash                                                                  \n",
       "b9c57c450ce74a2af79c9ce96fac144d         7          2           0          7   \n",
       "6db558535151ea18ca70a6892197db41         0          0           0          0   \n",
       "19c39fe2af2b547e48708ca005c6ae74         0          0           0          1   \n",
       "c96d629dc0c39f0c616d1949938a6ba6         0          3           3          5   \n",
       "156c88bff4e9c4668b0f53df3d870f1b         3          1           2          9   \n",
       "\n",
       "                                  ...   d5_stuns  d5_creeps_stacked  \\\n",
       "match_id_hash                     ...                                 \n",
       "b9c57c450ce74a2af79c9ce96fac144d  ...   0.000000                  0   \n",
       "6db558535151ea18ca70a6892197db41  ...   0.000000                  0   \n",
       "19c39fe2af2b547e48708ca005c6ae74  ...   0.000000                  0   \n",
       "c96d629dc0c39f0c616d1949938a6ba6  ...   8.264696                  0   \n",
       "156c88bff4e9c4668b0f53df3d870f1b  ...  15.762911                  3   \n",
       "\n",
       "                                  d5_camps_stacked  d5_rune_pickups  \\\n",
       "match_id_hash                                                         \n",
       "b9c57c450ce74a2af79c9ce96fac144d                 0                0   \n",
       "6db558535151ea18ca70a6892197db41                 0                0   \n",
       "19c39fe2af2b547e48708ca005c6ae74                 0                0   \n",
       "c96d629dc0c39f0c616d1949938a6ba6                 0                3   \n",
       "156c88bff4e9c4668b0f53df3d870f1b                 1                0   \n",
       "\n",
       "                                  d5_firstblood_claimed  \\\n",
       "match_id_hash                                             \n",
       "b9c57c450ce74a2af79c9ce96fac144d                      0   \n",
       "6db558535151ea18ca70a6892197db41                      0   \n",
       "19c39fe2af2b547e48708ca005c6ae74                      0   \n",
       "c96d629dc0c39f0c616d1949938a6ba6                      0   \n",
       "156c88bff4e9c4668b0f53df3d870f1b                      1   \n",
       "\n",
       "                                  d5_teamfight_participation  \\\n",
       "match_id_hash                                                  \n",
       "b9c57c450ce74a2af79c9ce96fac144d                        0.00   \n",
       "6db558535151ea18ca70a6892197db41                        0.00   \n",
       "19c39fe2af2b547e48708ca005c6ae74                        0.00   \n",
       "c96d629dc0c39f0c616d1949938a6ba6                        0.25   \n",
       "156c88bff4e9c4668b0f53df3d870f1b                        0.50   \n",
       "\n",
       "                                  d5_towers_killed  d5_roshans_killed  \\\n",
       "match_id_hash                                                           \n",
       "b9c57c450ce74a2af79c9ce96fac144d                 0                  0   \n",
       "6db558535151ea18ca70a6892197db41                 0                  0   \n",
       "19c39fe2af2b547e48708ca005c6ae74                 0                  0   \n",
       "c96d629dc0c39f0c616d1949938a6ba6                 0                  0   \n",
       "156c88bff4e9c4668b0f53df3d870f1b                 0                  0   \n",
       "\n",
       "                                  d5_obs_placed  d5_sen_placed  \n",
       "match_id_hash                                                   \n",
       "b9c57c450ce74a2af79c9ce96fac144d              0              0  \n",
       "6db558535151ea18ca70a6892197db41              0              0  \n",
       "19c39fe2af2b547e48708ca005c6ae74              0              0  \n",
       "c96d629dc0c39f0c616d1949938a6ba6              3              0  \n",
       "156c88bff4e9c4668b0f53df3d870f1b              3              0  \n",
       "\n",
       "[5 rows x 245 columns]"
      ]
     },
     "execution_count": 11,
     "metadata": {},
     "output_type": "execute_result"
    }
   ],
   "source": [
    "df_train_features.head()"
   ]
  },
  {
   "cell_type": "markdown",
   "id": "34d36acb",
   "metadata": {
    "papermill": {
     "duration": 0.015134,
     "end_time": "2023-04-02T12:22:53.867805",
     "exception": false,
     "start_time": "2023-04-02T12:22:53.852671",
     "status": "completed"
    },
    "tags": []
   },
   "source": [
    "## <left>Наша первая модель"
   ]
  },
  {
   "cell_type": "code",
   "execution_count": 12,
   "id": "bd52de64",
   "metadata": {
    "execution": {
     "iopub.execute_input": "2023-04-02T12:22:53.901242Z",
     "iopub.status.busy": "2023-04-02T12:22:53.900701Z",
     "iopub.status.idle": "2023-04-02T12:22:53.935041Z",
     "shell.execute_reply": "2023-04-02T12:22:53.933544Z"
    },
    "papermill": {
     "duration": 0.054597,
     "end_time": "2023-04-02T12:22:53.938003",
     "exception": false,
     "start_time": "2023-04-02T12:22:53.883406",
     "status": "completed"
    },
    "tags": []
   },
   "outputs": [],
   "source": [
    "X = df_train_features.values\n",
    "y = df_train_targets[\"radiant_win\"].values.astype(\"int8\")"
   ]
  },
  {
   "cell_type": "code",
   "execution_count": 13,
   "id": "6de1ce95",
   "metadata": {
    "execution": {
     "iopub.execute_input": "2023-04-02T12:22:53.971270Z",
     "iopub.status.busy": "2023-04-02T12:22:53.970839Z",
     "iopub.status.idle": "2023-04-02T12:22:54.075791Z",
     "shell.execute_reply": "2023-04-02T12:22:54.074452Z"
    },
    "papermill": {
     "duration": 0.124876,
     "end_time": "2023-04-02T12:22:54.078592",
     "exception": false,
     "start_time": "2023-04-02T12:22:53.953716",
     "status": "completed"
    },
    "tags": []
   },
   "outputs": [],
   "source": [
    "X_train, X_valid, y_train, y_valid = train_test_split(X, y, \n",
    "                                                      test_size=0.3, \n",
    "                                                      random_state=SEED)"
   ]
  },
  {
   "cell_type": "markdown",
   "id": "4318345b",
   "metadata": {
    "papermill": {
     "duration": 0.015402,
     "end_time": "2023-04-02T12:22:54.109638",
     "exception": false,
     "start_time": "2023-04-02T12:22:54.094236",
     "status": "completed"
    },
    "tags": []
   },
   "source": [
    "#### Обучим случайный лес"
   ]
  },
  {
   "cell_type": "code",
   "execution_count": 14,
   "id": "490a59a7",
   "metadata": {
    "execution": {
     "iopub.execute_input": "2023-04-02T12:22:54.143404Z",
     "iopub.status.busy": "2023-04-02T12:22:54.142579Z",
     "iopub.status.idle": "2023-04-02T12:23:07.045766Z",
     "shell.execute_reply": "2023-04-02T12:23:07.044118Z"
    },
    "papermill": {
     "duration": 12.923155,
     "end_time": "2023-04-02T12:23:07.048449",
     "exception": false,
     "start_time": "2023-04-02T12:22:54.125294",
     "status": "completed"
    },
    "tags": []
   },
   "outputs": [
    {
     "name": "stdout",
     "output_type": "stream",
     "text": [
      "CPU times: user 50 s, sys: 117 ms, total: 50.1 s\n",
      "Wall time: 12.9 s\n"
     ]
    },
    {
     "data": {
      "text/plain": [
       "RandomForestClassifier(max_depth=10, n_estimators=300, n_jobs=-1,\n",
       "                       random_state=10801)"
      ]
     },
     "execution_count": 14,
     "metadata": {},
     "output_type": "execute_result"
    }
   ],
   "source": [
    "%%time\n",
    "rf_model = RandomForestClassifier(n_estimators=300, max_depth=10, n_jobs=-1, random_state=SEED)\n",
    "rf_model.fit(X_train, y_train)\n",
    "\n",
    "# Увеличим глубину дерева до 10"
   ]
  },
  {
   "cell_type": "markdown",
   "id": "1579190a",
   "metadata": {
    "papermill": {
     "duration": 0.015158,
     "end_time": "2023-04-02T12:23:07.079088",
     "exception": false,
     "start_time": "2023-04-02T12:23:07.063930",
     "status": "completed"
    },
    "tags": []
   },
   "source": [
    "#### Сделаем предсказания и оценим качество на отложенной части данных"
   ]
  },
  {
   "cell_type": "code",
   "execution_count": 15,
   "id": "5a54fa4e",
   "metadata": {
    "execution": {
     "iopub.execute_input": "2023-04-02T12:23:07.112333Z",
     "iopub.status.busy": "2023-04-02T12:23:07.111402Z",
     "iopub.status.idle": "2023-04-02T12:23:07.424143Z",
     "shell.execute_reply": "2023-04-02T12:23:07.423017Z"
    },
    "papermill": {
     "duration": 0.332513,
     "end_time": "2023-04-02T12:23:07.427036",
     "exception": false,
     "start_time": "2023-04-02T12:23:07.094523",
     "status": "completed"
    },
    "tags": []
   },
   "outputs": [],
   "source": [
    "y_pred = rf_model.predict_proba(X_valid)[:, 1]"
   ]
  },
  {
   "cell_type": "code",
   "execution_count": 16,
   "id": "bcf115e6",
   "metadata": {
    "execution": {
     "iopub.execute_input": "2023-04-02T12:23:07.461220Z",
     "iopub.status.busy": "2023-04-02T12:23:07.460285Z",
     "iopub.status.idle": "2023-04-02T12:23:07.474003Z",
     "shell.execute_reply": "2023-04-02T12:23:07.472682Z"
    },
    "papermill": {
     "duration": 0.033554,
     "end_time": "2023-04-02T12:23:07.476394",
     "exception": false,
     "start_time": "2023-04-02T12:23:07.442840",
     "status": "completed"
    },
    "tags": []
   },
   "outputs": [
    {
     "name": "stdout",
     "output_type": "stream",
     "text": [
      "ROC-AUC score на отложенной части: 0.7963755050109935\n"
     ]
    }
   ],
   "source": [
    "valid_score = roc_auc_score(y_valid, y_pred)\n",
    "print(\"ROC-AUC score на отложенной части:\", valid_score)\n",
    "\n"
   ]
  },
  {
   "cell_type": "markdown",
   "id": "dee58c06",
   "metadata": {
    "papermill": {
     "duration": 0.016366,
     "end_time": "2023-04-02T12:23:07.508689",
     "exception": false,
     "start_time": "2023-04-02T12:23:07.492323",
     "status": "completed"
    },
    "tags": []
   },
   "source": [
    "Посмотрим на accuracy:"
   ]
  },
  {
   "cell_type": "code",
   "execution_count": 17,
   "id": "d5e8372b",
   "metadata": {
    "execution": {
     "iopub.execute_input": "2023-04-02T12:23:07.547070Z",
     "iopub.status.busy": "2023-04-02T12:23:07.546291Z",
     "iopub.status.idle": "2023-04-02T12:23:07.555096Z",
     "shell.execute_reply": "2023-04-02T12:23:07.553308Z"
    },
    "papermill": {
     "duration": 0.031446,
     "end_time": "2023-04-02T12:23:07.558378",
     "exception": false,
     "start_time": "2023-04-02T12:23:07.526932",
     "status": "completed"
    },
    "tags": []
   },
   "outputs": [
    {
     "name": "stdout",
     "output_type": "stream",
     "text": [
      "Accuracy score (p > 0.5) на отложенной части: 0.7080967402733964\n"
     ]
    }
   ],
   "source": [
    "valid_accuracy = accuracy_score(y_valid, y_pred > 0.5)\n",
    "print(\"Accuracy score (p > 0.5) на отложенной части:\", valid_accuracy)\n",
    "\n",
    "# Как мы видим на test_split, использование TargetEncoder и большая глубина дерева увеличивают accuracy на X_valid.\n",
    "# Это показатель того, что модель ещё можно обучать. Используем cross-validation как более эффективный метод регуляризации."
   ]
  },
  {
   "cell_type": "markdown",
   "id": "e12caaac",
   "metadata": {
    "papermill": {
     "duration": 0.01782,
     "end_time": "2023-04-02T12:23:07.594196",
     "exception": false,
     "start_time": "2023-04-02T12:23:07.576376",
     "status": "completed"
    },
    "tags": []
   },
   "source": [
    "## <left>Посылка"
   ]
  },
  {
   "cell_type": "code",
   "execution_count": 18,
   "id": "c73f3ddd",
   "metadata": {
    "execution": {
     "iopub.execute_input": "2023-04-02T12:23:07.630497Z",
     "iopub.status.busy": "2023-04-02T12:23:07.630009Z",
     "iopub.status.idle": "2023-04-02T12:23:08.449303Z",
     "shell.execute_reply": "2023-04-02T12:23:08.447844Z"
    },
    "papermill": {
     "duration": 0.841019,
     "end_time": "2023-04-02T12:23:08.452688",
     "exception": false,
     "start_time": "2023-04-02T12:23:07.611669",
     "status": "completed"
    },
    "tags": []
   },
   "outputs": [],
   "source": [
    "df_test_features = pd.read_csv(os.path.join(PATH_TO_DATA, \"test_data.csv\"), \n",
    "                                   index_col=\"match_id_hash\")\n",
    "\n",
    "# Используем ту же кодировку категориальных признаков в test датасете, как и для validation датасета.\n",
    "# ВАЖНО: чтобы избежать переобучения, в случае test датасета мы используем encoder.transform, \n",
    "# который игнорирует информацию о зависимой переменной (в отличие от encoder.fit_transform для train, где мы обучаем encoder)\n",
    "\n",
    "df_test_features['game_mode'] = df_test_features.game_mode.astype('category')\n",
    "\n",
    "df_test_features['lobby_type'] = df_test_features.lobby_type.astype('category')\n",
    "\n",
    "for el in players_id:\n",
    "    df_test_features[el + '_hero_id'] = df_test_features[el + '_hero_id'].astype('category')\n",
    "\n",
    "df_test_features = encoder.transform(df_test_features)\n",
    "\n",
    "X_test = df_test_features.values\n",
    "y_test_pred = rf_model.predict_proba(X_test)[:, 1]\n",
    "\n",
    "df_submission = pd.DataFrame({\"radiant_win_prob\": y_test_pred}, \n",
    "                                 index=df_test_features.index)"
   ]
  },
  {
   "cell_type": "code",
   "execution_count": 19,
   "id": "07a4c88a",
   "metadata": {
    "execution": {
     "iopub.execute_input": "2023-04-02T12:23:08.488683Z",
     "iopub.status.busy": "2023-04-02T12:23:08.488212Z",
     "iopub.status.idle": "2023-04-02T12:23:08.494513Z",
     "shell.execute_reply": "2023-04-02T12:23:08.493176Z"
    },
    "papermill": {
     "duration": 0.027657,
     "end_time": "2023-04-02T12:23:08.497234",
     "exception": false,
     "start_time": "2023-04-02T12:23:08.469577",
     "status": "completed"
    },
    "tags": []
   },
   "outputs": [],
   "source": [
    "# submission_filename = \"submission_{}.csv\".format(\n",
    "#     datetime.datetime.now().strftime(\"%Y-%m-%d_%H-%M-%S\"))\n",
    "# df_submission.to_csv(submission_filename)\n",
    "# print(\"Файл посылки сохранен, как: {}\".format(submission_filename))"
   ]
  },
  {
   "cell_type": "markdown",
   "id": "94dbf634",
   "metadata": {
    "papermill": {
     "duration": 0.016041,
     "end_time": "2023-04-02T12:23:08.529940",
     "exception": false,
     "start_time": "2023-04-02T12:23:08.513899",
     "status": "completed"
    },
    "tags": []
   },
   "source": [
    "## <left>Кросс-валидация"
   ]
  },
  {
   "cell_type": "markdown",
   "id": "c23ad355",
   "metadata": {
    "papermill": {
     "duration": 0.016187,
     "end_time": "2023-04-02T12:23:08.562492",
     "exception": false,
     "start_time": "2023-04-02T12:23:08.546305",
     "status": "completed"
    },
    "tags": []
   },
   "source": [
    "Во многих случаях кросс-валидация оказывается лучше простого разбиения на test и train. Воспользуемся `ShuffleSplit` чтобы создать 5 70%/30% наборов данных."
   ]
  },
  {
   "cell_type": "code",
   "execution_count": 20,
   "id": "793ee139",
   "metadata": {
    "execution": {
     "iopub.execute_input": "2023-04-02T12:23:08.597679Z",
     "iopub.status.busy": "2023-04-02T12:23:08.597233Z",
     "iopub.status.idle": "2023-04-02T12:23:08.603609Z",
     "shell.execute_reply": "2023-04-02T12:23:08.601956Z"
    },
    "papermill": {
     "duration": 0.027631,
     "end_time": "2023-04-02T12:23:08.606503",
     "exception": false,
     "start_time": "2023-04-02T12:23:08.578872",
     "status": "completed"
    },
    "tags": []
   },
   "outputs": [],
   "source": [
    "# CV - метод который чаще всего используют вместе с TargetEncoding. При каждом разбиении данных на train и validation\n",
    "# новый validation set будет иметь категории, которые не встречаются в train set. \n",
    "# Чем больше мы поставим разбиений, тем с большей вероятностью поймаем случаи с разными категориями в train и validation,\n",
    "# и среднее значение ROC-AUC будет лучше отражать реальную обучаемость нашей модели.\n",
    "\n",
    "cv = ShuffleSplit(n_splits=5, test_size=0.3, random_state=SEED)"
   ]
  },
  {
   "cell_type": "code",
   "execution_count": 21,
   "id": "f012f1fa",
   "metadata": {
    "execution": {
     "iopub.execute_input": "2023-04-02T12:23:08.641904Z",
     "iopub.status.busy": "2023-04-02T12:23:08.640859Z",
     "iopub.status.idle": "2023-04-02T12:24:23.769201Z",
     "shell.execute_reply": "2023-04-02T12:24:23.767722Z"
    },
    "papermill": {
     "duration": 75.165808,
     "end_time": "2023-04-02T12:24:23.788740",
     "exception": false,
     "start_time": "2023-04-02T12:23:08.622932",
     "status": "completed"
    },
    "tags": []
   },
   "outputs": [
    {
     "name": "stdout",
     "output_type": "stream",
     "text": [
      "CPU times: user 9.8 s, sys: 864 ms, total: 10.7 s\n",
      "Wall time: 1min 15s\n"
     ]
    }
   ],
   "source": [
    "%%time\n",
    "rf_model = RandomForestClassifier(n_estimators=300, max_depth=10, n_jobs=-1, random_state=SEED)\n",
    "cv_scores_rf = cross_val_score(rf_model, X, y, cv=cv, scoring=\"roc_auc\")"
   ]
  },
  {
   "cell_type": "code",
   "execution_count": 22,
   "id": "2d1acfae",
   "metadata": {
    "execution": {
     "iopub.execute_input": "2023-04-02T12:24:23.825909Z",
     "iopub.status.busy": "2023-04-02T12:24:23.825420Z",
     "iopub.status.idle": "2023-04-02T12:24:23.834236Z",
     "shell.execute_reply": "2023-04-02T12:24:23.832696Z"
    },
    "papermill": {
     "duration": 0.030692,
     "end_time": "2023-04-02T12:24:23.837173",
     "exception": false,
     "start_time": "2023-04-02T12:24:23.806481",
     "status": "completed"
    },
    "tags": []
   },
   "outputs": [
    {
     "data": {
      "text/plain": [
       "array([0.79637551, 0.79348633, 0.78773831, 0.7916593 , 0.79352819])"
      ]
     },
     "execution_count": 22,
     "metadata": {},
     "output_type": "execute_result"
    }
   ],
   "source": [
    "cv_scores_rf"
   ]
  },
  {
   "cell_type": "code",
   "execution_count": 23,
   "id": "266b9512",
   "metadata": {
    "execution": {
     "iopub.execute_input": "2023-04-02T12:24:23.873380Z",
     "iopub.status.busy": "2023-04-02T12:24:23.872879Z",
     "iopub.status.idle": "2023-04-02T12:24:23.880190Z",
     "shell.execute_reply": "2023-04-02T12:24:23.878478Z"
    },
    "papermill": {
     "duration": 0.029201,
     "end_time": "2023-04-02T12:24:23.883336",
     "exception": false,
     "start_time": "2023-04-02T12:24:23.854135",
     "status": "completed"
    },
    "tags": []
   },
   "outputs": [
    {
     "name": "stdout",
     "output_type": "stream",
     "text": [
      "Среднее значение ROC-AUC на кросс-валидации: 0.7925575257877382\n"
     ]
    }
   ],
   "source": [
    "print(f\"Среднее значение ROC-AUC на кросс-валидации: {cv_scores_rf.mean()}\")"
   ]
  },
  {
   "cell_type": "markdown",
   "id": "d54786b0",
   "metadata": {
    "papermill": {
     "duration": 0.016864,
     "end_time": "2023-04-02T12:24:23.917609",
     "exception": false,
     "start_time": "2023-04-02T12:24:23.900745",
     "status": "completed"
    },
    "tags": []
   },
   "source": [
    "## <left>Что есть в json файлах?"
   ]
  },
  {
   "cell_type": "markdown",
   "id": "7c962422",
   "metadata": {
    "papermill": {
     "duration": 0.01633,
     "end_time": "2023-04-02T12:24:23.951235",
     "exception": false,
     "start_time": "2023-04-02T12:24:23.934905",
     "status": "completed"
    },
    "tags": []
   },
   "source": [
    "Описание сырых данных можно найти в `train_matches.jsonl` и `test_matches.jsonl`. Каждый файл содержит одну запись для каждого матча в [JSON](https://en.wikipedia.org/wiki/JSON) формате. Его легко превратить в питоновский объект при помощи метода `json.loads`."
   ]
  },
  {
   "cell_type": "code",
   "execution_count": 24,
   "id": "5d9e8e6e",
   "metadata": {
    "execution": {
     "iopub.execute_input": "2023-04-02T12:24:23.987142Z",
     "iopub.status.busy": "2023-04-02T12:24:23.986616Z",
     "iopub.status.idle": "2023-04-02T12:24:24.417492Z",
     "shell.execute_reply": "2023-04-02T12:24:24.416184Z"
    },
    "papermill": {
     "duration": 0.452678,
     "end_time": "2023-04-02T12:24:24.420650",
     "exception": false,
     "start_time": "2023-04-02T12:24:23.967972",
     "status": "completed"
    },
    "tags": []
   },
   "outputs": [],
   "source": [
    "with open(os.path.join(PATH_TO_DATA, \"train_raw_data.jsonl\")) as fin:\n",
    "    # прочтем 419 строку\n",
    "    for i in range(419):\n",
    "        line = fin.readline()\n",
    "    \n",
    "    # переведем JSON в питоновский словарь \n",
    "    match = json.loads(line)"
   ]
  },
  {
   "cell_type": "code",
   "execution_count": 25,
   "id": "1a4a13e6",
   "metadata": {
    "execution": {
     "iopub.execute_input": "2023-04-02T12:24:24.457678Z",
     "iopub.status.busy": "2023-04-02T12:24:24.456266Z",
     "iopub.status.idle": "2023-04-02T12:24:24.470386Z",
     "shell.execute_reply": "2023-04-02T12:24:24.468731Z"
    },
    "papermill": {
     "duration": 0.036453,
     "end_time": "2023-04-02T12:24:24.473837",
     "exception": false,
     "start_time": "2023-04-02T12:24:24.437384",
     "status": "completed"
    },
    "tags": []
   },
   "outputs": [
    {
     "name": "stdout",
     "output_type": "stream",
     "text": [
      "game_time\n",
      "match_id_hash\n",
      "teamfights\n",
      "objectives\n",
      "chat\n",
      "game_mode\n",
      "lobby_type\n",
      "players\n",
      "targets\n"
     ]
    },
    {
     "data": {
      "text/plain": [
       "[{'time': 53.154,\n",
       "  'type': 'CHAT_MESSAGE_FIRSTBLOOD',\n",
       "  'slot': 2,\n",
       "  'key': 7,\n",
       "  'player_slot': 2},\n",
       " {'time': 947.135, 'type': 'CHAT_MESSAGE_TOWER_KILL', 'team': 2, 'slot': -1},\n",
       " {'time': 1069.106,\n",
       "  'type': 'CHAT_MESSAGE_TOWER_KILL',\n",
       "  'team': 2,\n",
       "  'slot': 0,\n",
       "  'player_slot': 0},\n",
       " {'time': 1116.761, 'type': 'CHAT_MESSAGE_TOWER_KILL', 'team': 3, 'slot': -1},\n",
       " {'time': 1153.485, 'type': 'CHAT_MESSAGE_TOWER_KILL', 'team': 3, 'slot': -1},\n",
       " {'time': 1282.254,\n",
       "  'type': 'CHAT_MESSAGE_TOWER_KILL',\n",
       "  'team': 2,\n",
       "  'slot': 2,\n",
       "  'player_slot': 2},\n",
       " {'time': 1510.065,\n",
       "  'type': 'CHAT_MESSAGE_TOWER_DENY',\n",
       "  'team': 60,\n",
       "  'slot': 7,\n",
       "  'player_slot': 130},\n",
       " {'time': 1544.323,\n",
       "  'type': 'CHAT_MESSAGE_TOWER_DENY',\n",
       "  'team': 60,\n",
       "  'slot': 4,\n",
       "  'player_slot': 4},\n",
       " {'time': 1719.222,\n",
       "  'type': 'CHAT_MESSAGE_TOWER_KILL',\n",
       "  'team': 2,\n",
       "  'slot': 2,\n",
       "  'player_slot': 2},\n",
       " {'time': 1778.892, 'type': 'CHAT_MESSAGE_ROSHAN_KILL', 'team': 2},\n",
       " {'time': 1779.828, 'type': 'CHAT_MESSAGE_AEGIS', 'slot': 2, 'player_slot': 2},\n",
       " {'time': 1860.704,\n",
       "  'type': 'CHAT_MESSAGE_TOWER_KILL',\n",
       "  'team': 2,\n",
       "  'slot': 2,\n",
       "  'player_slot': 2},\n",
       " {'time': 1892.479, 'type': 'CHAT_MESSAGE_TOWER_KILL', 'team': 2, 'slot': -1},\n",
       " {'time': 1901.309, 'type': 'CHAT_MESSAGE_TOWER_KILL', 'team': 3, 'slot': -1},\n",
       " {'time': 1903.249, 'type': 'CHAT_MESSAGE_BARRACKS_KILL', 'key': '1'},\n",
       " {'time': 1905.924, 'type': 'CHAT_MESSAGE_BARRACKS_KILL', 'key': '2'},\n",
       " {'time': 1990.947,\n",
       "  'type': 'CHAT_MESSAGE_TOWER_KILL',\n",
       "  'team': 2,\n",
       "  'slot': 2,\n",
       "  'player_slot': 2}]"
      ]
     },
     "execution_count": 25,
     "metadata": {},
     "output_type": "execute_result"
    }
   ],
   "source": [
    "# Проверим категории в исходном json и поле objectives\n",
    "for key, value in match.items():\n",
    "    print(key)\n",
    "\n",
    "match[\"objectives\"]"
   ]
  },
  {
   "cell_type": "code",
   "execution_count": 26,
   "id": "0bafc17d",
   "metadata": {
    "execution": {
     "iopub.execute_input": "2023-04-02T12:24:24.511296Z",
     "iopub.status.busy": "2023-04-02T12:24:24.509819Z",
     "iopub.status.idle": "2023-04-02T12:24:24.518967Z",
     "shell.execute_reply": "2023-04-02T12:24:24.517691Z"
    },
    "papermill": {
     "duration": 0.030593,
     "end_time": "2023-04-02T12:24:24.521544",
     "exception": false,
     "start_time": "2023-04-02T12:24:24.490951",
     "status": "completed"
    },
    "tags": []
   },
   "outputs": [
    {
     "data": {
      "text/plain": [
       "(2, 4, 16)"
      ]
     },
     "execution_count": 26,
     "metadata": {},
     "output_type": "execute_result"
    }
   ],
   "source": [
    "player = match[\"players\"][0]\n",
    "player[\"kills\"], player[\"deaths\"], player[\"assists\"]"
   ]
  },
  {
   "cell_type": "markdown",
   "id": "d7ffabeb",
   "metadata": {
    "papermill": {
     "duration": 0.016206,
     "end_time": "2023-04-02T12:24:24.554824",
     "exception": false,
     "start_time": "2023-04-02T12:24:24.538618",
     "status": "completed"
    },
    "tags": []
   },
   "source": [
    "KDA - может быть неплохим признаком, этот показатель считается как:\n",
    "    \n",
    "<center>$KDA = \\frac{K + A}{D}$"
   ]
  },
  {
   "cell_type": "markdown",
   "id": "8be8da24",
   "metadata": {
    "papermill": {
     "duration": 0.015975,
     "end_time": "2023-04-02T12:24:24.587275",
     "exception": false,
     "start_time": "2023-04-02T12:24:24.571300",
     "status": "completed"
    },
    "tags": []
   },
   "source": [
    "Информация о количестве использованных способностей:"
   ]
  },
  {
   "cell_type": "code",
   "execution_count": 27,
   "id": "6b5c3887",
   "metadata": {
    "execution": {
     "iopub.execute_input": "2023-04-02T12:24:24.623558Z",
     "iopub.status.busy": "2023-04-02T12:24:24.621643Z",
     "iopub.status.idle": "2023-04-02T12:24:24.631383Z",
     "shell.execute_reply": "2023-04-02T12:24:24.630262Z"
    },
    "papermill": {
     "duration": 0.030053,
     "end_time": "2023-04-02T12:24:24.633921",
     "exception": false,
     "start_time": "2023-04-02T12:24:24.603868",
     "status": "completed"
    },
    "tags": []
   },
   "outputs": [
    {
     "data": {
      "text/plain": [
       "{'lich_dark_ritual': 26,\n",
       " 'lich_frost_nova': 30,\n",
       " 'lich_frost_armor': 63,\n",
       " 'lich_chain_frost': 7}"
      ]
     },
     "execution_count": 27,
     "metadata": {},
     "output_type": "execute_result"
    }
   ],
   "source": [
    "player[\"ability_uses\"]"
   ]
  },
  {
   "cell_type": "code",
   "execution_count": 28,
   "id": "3d869cd1",
   "metadata": {
    "execution": {
     "iopub.execute_input": "2023-04-02T12:24:24.672205Z",
     "iopub.status.busy": "2023-04-02T12:24:24.670839Z",
     "iopub.status.idle": "2023-04-02T12:24:25.196043Z",
     "shell.execute_reply": "2023-04-02T12:24:25.194690Z"
    },
    "papermill": {
     "duration": 0.548411,
     "end_time": "2023-04-02T12:24:25.200137",
     "exception": false,
     "start_time": "2023-04-02T12:24:24.651726",
     "status": "completed"
    },
    "tags": []
   },
   "outputs": [
    {
     "data": {
      "image/png": "[encoded data removed]",
      "text/plain": [
       "<Figure size 1200x800 with 1 Axes>"
      ]
     },
     "metadata": {},
     "output_type": "display_data"
    }
   ],
   "source": [
    "for i, player in enumerate(match[\"players\"]):\n",
    "    plt.plot(player[\"times\"], player[\"xp_t\"], label=str(i+1))\n",
    "\n",
    "plt.legend()\n",
    "plt.xlabel(\"Time, s\")\n",
    "plt.ylabel(\"XP\")\n",
    "plt.title(\"XP change for all players\");"
   ]
  },
  {
   "cell_type": "markdown",
   "id": "d823f45d",
   "metadata": {
    "papermill": {
     "duration": 0.018307,
     "end_time": "2023-04-02T12:24:25.237274",
     "exception": false,
     "start_time": "2023-04-02T12:24:25.218967",
     "status": "completed"
    },
    "tags": []
   },
   "source": [
    "#### Сделаем чтение файла с сырыми данными и добавление новых признаков удобным"
   ]
  },
  {
   "cell_type": "markdown",
   "id": "96a4997b",
   "metadata": {
    "papermill": {
     "duration": 0.018304,
     "end_time": "2023-04-02T12:24:25.274406",
     "exception": false,
     "start_time": "2023-04-02T12:24:25.256102",
     "status": "completed"
    },
    "tags": []
   },
   "source": [
    "В этот раз для чтение `json` файлов лучше использовать библиотеку `ujson`, иначе все будет слишком долго :("
   ]
  },
  {
   "cell_type": "code",
   "execution_count": 29,
   "id": "ee3be11a",
   "metadata": {
    "execution": {
     "iopub.execute_input": "2023-04-02T12:24:25.315844Z",
     "iopub.status.busy": "2023-04-02T12:24:25.314268Z",
     "iopub.status.idle": "2023-04-02T12:24:25.335625Z",
     "shell.execute_reply": "2023-04-02T12:24:25.334210Z"
    },
    "papermill": {
     "duration": 0.04476,
     "end_time": "2023-04-02T12:24:25.338646",
     "exception": false,
     "start_time": "2023-04-02T12:24:25.293886",
     "status": "completed"
    },
    "tags": []
   },
   "outputs": [],
   "source": [
    "try:\n",
    "    import ujson as json\n",
    "except ModuleNotFoundError:\n",
    "    import json\n",
    "    print (\"Подумайте об установке ujson, чтобы работать с JSON объектами быстрее\")\n",
    "    \n",
    "try:\n",
    "    from tqdm.notebook import tqdm\n",
    "except ModuleNotFoundError:\n",
    "    tqdm_notebook = lambda x: x\n",
    "    print (\"Подумайте об установке tqdm, чтобы следить за прогрессом\")\n",
    "\n",
    "    \n",
    "def read_matches(matches_file, total_matches=31698, n_matches_to_read=None):\n",
    "    \"\"\"\n",
    "    Аргумент\n",
    "    -------\n",
    "    matches_file: JSON файл с сырыми данными\n",
    "    \n",
    "    Результат\n",
    "    ---------\n",
    "    Возвращает записи о каждом матче\n",
    "    \"\"\"\n",
    "    \n",
    "    if n_matches_to_read is None:\n",
    "        n_matches_to_read = total_matches\n",
    "        \n",
    "    c = 0\n",
    "    with open(matches_file) as fin:\n",
    "        for line in tqdm(fin, total=total_matches):\n",
    "            if c >= n_matches_to_read:\n",
    "                break\n",
    "            else:\n",
    "                c += 1\n",
    "                yield json.loads(line)"
   ]
  },
  {
   "cell_type": "markdown",
   "id": "78a719d5",
   "metadata": {
    "papermill": {
     "duration": 0.019029,
     "end_time": "2023-04-02T12:24:25.378191",
     "exception": false,
     "start_time": "2023-04-02T12:24:25.359162",
     "status": "completed"
    },
    "tags": []
   },
   "source": [
    "#### Чтение данных в цикле\n",
    "\n",
    "Чтение всех данных занимает 1-2 минуты, поэтому для начала можно попробовать следующее:\n",
    "\n",
    "1. Читать 10-50 игр\n",
    "2. Написать код для работы с этими JSON объектами\n",
    "3. Убедиться, что все работает\n",
    "4. Запустить код на всем датасете\n",
    "5. Сохранить результат в `pickle` файл, чтобы в следующий раз не переделывать все заново"
   ]
  },
  {
   "cell_type": "markdown",
   "id": "e6e231e7",
   "metadata": {
    "papermill": {
     "duration": 0.018981,
     "end_time": "2023-04-02T12:24:25.416423",
     "exception": false,
     "start_time": "2023-04-02T12:24:25.397442",
     "status": "completed"
    },
    "tags": []
   },
   "source": [
    "## <left>Feature engineering"
   ]
  },
  {
   "cell_type": "markdown",
   "id": "2bad6ca3",
   "metadata": {
    "papermill": {
     "duration": 0.018769,
     "end_time": "2023-04-02T12:24:25.454383",
     "exception": false,
     "start_time": "2023-04-02T12:24:25.435614",
     "status": "completed"
    },
    "tags": []
   },
   "source": [
    "Напишем функцию, которая поможет нам легче добавлять новые признаки."
   ]
  },
  {
   "cell_type": "code",
   "execution_count": 30,
   "id": "26342f76",
   "metadata": {
    "execution": {
     "iopub.execute_input": "2023-04-02T12:24:25.498244Z",
     "iopub.status.busy": "2023-04-02T12:24:25.497737Z",
     "iopub.status.idle": "2023-04-02T12:24:25.523842Z",
     "shell.execute_reply": "2023-04-02T12:24:25.522544Z"
    },
    "papermill": {
     "duration": 0.05226,
     "end_time": "2023-04-02T12:24:25.526939",
     "exception": false,
     "start_time": "2023-04-02T12:24:25.474679",
     "status": "completed"
    },
    "tags": []
   },
   "outputs": [],
   "source": [
    "def add_new_features(df_features, matches_file):\n",
    "    \"\"\"\n",
    "    Аргуенты\n",
    "    -------\n",
    "    df_features: таблица с данными\n",
    "    matches_file: JSON файл с сырыми данными\n",
    "    \n",
    "    Результат\n",
    "    ---------\n",
    "    Добавляет новые признаки в таблицу\n",
    "    \"\"\"\n",
    "    \n",
    "    for match in read_matches(matches_file):\n",
    "        match_id_hash = match['match_id_hash']\n",
    "\n",
    "        # Посчитаем количество разрушенных вышек обеими командами\n",
    "        radiant_tower_kills = 0\n",
    "        dire_tower_kills = 0\n",
    "        radiant_roshan_kills = 0\n",
    "        dire_roshan_kills = 0\n",
    "        for objective in match[\"objectives\"]:\n",
    "            if objective[\"type\"] == \"CHAT_MESSAGE_TOWER_KILL\":\n",
    "                if objective[\"team\"] == 2:\n",
    "                    radiant_tower_kills += 1\n",
    "                if objective[\"team\"] == 3:\n",
    "                    dire_tower_kills += 1\n",
    "            if objective[\"type\"] == \"CHAT_MESSAGE_ROSHAN_KILL\":\n",
    "                if objective[\"team\"] == 2:\n",
    "                    radiant_roshan_kills += 1\n",
    "                if objective[\"team\"] == 3:\n",
    "                    dire_roshan_kills += 1\n",
    "\n",
    "        df_features.loc[match_id_hash, \"radiant_tower_kills\"] = radiant_tower_kills\n",
    "        df_features.loc[match_id_hash, \"dire_tower_kills\"] = dire_tower_kills\n",
    "        df_features.loc[match_id_hash, \"diff_tower_kills\"] = radiant_tower_kills - dire_tower_kills\n",
    "        \n",
    "        # ... (/¯◡ ‿ ◡)/¯☆*:・ﾟ добавляем новые признаки ...\n",
    "        \n",
    "        # Считаем количество взятых рошанов обеими командами (дает золото всей команде и артефакт Aegis)\n",
    "        df_features.loc[match_id_hash, \"radiant_roshan_kills\"] = radiant_roshan_kills\n",
    "        df_features.loc[match_id_hash, \"dire_roshan_kills\"] = dire_roshan_kills\n",
    "        df_features.loc[match_id_hash, \"diff_roshan_kills\"] = radiant_roshan_kills - dire_roshan_kills\n",
    "        \n",
    "        radiant_team_gold = 0\n",
    "        dire_team_gold = 0\n",
    "        radiant_team_dmg = 0\n",
    "        dire_team_dmg = 0\n",
    "        radiant_team_xp = 0\n",
    "        dire_team_xp = 0\n",
    "        \n",
    "        # Если игроки идут в том же порядке, как и в df_train_features\n",
    "        for i, player in enumerate(match[\"players\"][:5]):\n",
    "            \n",
    "            # KDA игроков команды Radiant\n",
    "            if player[\"deaths\"] >0 :\n",
    "                df_features.loc[match_id_hash, \"r\" + str(i+1) + \"_kda\"] = (player[\"kills\"] + player[\"assists\"])/player[\"deaths\"]\n",
    "            else:\n",
    "                df_features.loc[match_id_hash, \"r\" + str(i+1) + \"_kda\"] = (player[\"kills\"] + player[\"assists\"])\n",
    "                \n",
    "            radiant_team_gold += player[\"gold\"]\n",
    "            radiant_team_xp += player[\"xp\"]\n",
    "            \n",
    "            # Урон по героям игроков команды Radiant\n",
    "            df_features.loc[match_id_hash, \"r\" + str(i+1) + \"_hero_dmg\"] = sum([value for key, value in player['damage'].items() if 'hero' in key.lower()])\n",
    "            radiant_team_dmg += sum([value for key, value in player['damage'].items() if 'hero' in key.lower()])\n",
    "            \n",
    "            # Изменения в золоте по сравнению с первой половиной матча игроков команды Radiant\n",
    "            if len(player['gold_t']):\n",
    "                df_features.loc[match_id_hash, \"r\" + str(i+1) + \"_gold_increase\"] = player['gold'] - player['gold_t'][len(player['gold_t'])//2]\n",
    "            else:\n",
    "                df_features.loc[match_id_hash, \"r\" + str(i+1) + \"_gold_increase\"] = 0\n",
    "            \n",
    "        for i, player in enumerate(match[\"players\"][5:]):\n",
    "            \n",
    "            #KDA игроков команды Dire\n",
    "            if player[\"deaths\"] >0 :\n",
    "                df_features.loc[match_id_hash, \"d\" + str(i+1) + \"_kda\"] = (player[\"kills\"] + player[\"assists\"])/player[\"deaths\"]\n",
    "            else:\n",
    "                df_features.loc[match_id_hash, \"d\" + str(i+1) + \"_kda\"] = (player[\"kills\"] + player[\"assists\"])\n",
    "                \n",
    "            dire_team_gold += player[\"gold\"]\n",
    "            dire_team_xp += player[\"xp\"]\n",
    "            \n",
    "            # Урон по героям игроков команды Dire\n",
    "            df_features.loc[match_id_hash, \"d\" + str(i+1) + \"_hero_dmg\"] = sum([value for key, value in player['damage'].items() if 'hero' in key.lower()])\n",
    "            dire_team_dmg = sum([value for key, value in player['damage'].items() if 'hero' in key.lower()])\n",
    "            \n",
    "            # Изменения в золоте по сравнению с первой половиной матча игроков команды Dire\n",
    "            if len(player['gold_t']):\n",
    "                df_features.loc[match_id_hash, \"d\" + str(i+1) + \"_gold_increase\"] = player['gold'] - player['gold_t'][len(player['gold_t'])//2]\n",
    "            else:\n",
    "                df_features.loc[match_id_hash, \"d\" + str(i+1) + \"_gold_increase\"] = 0\n",
    "        \n",
    "        # Общая разница по золоту между командами\n",
    "        # Это вторая метрика, связанная с золотом, так как оригинальная статья использует этот признак как универсальный показатель успеха игроков\n",
    "        df_features.loc[match_id_hash, \"radiant_team_gold\"] = radiant_team_gold\n",
    "        df_features.loc[match_id_hash, \"dire_team_gold\"] = dire_team_gold\n",
    "        df_features.loc[match_id_hash, \"diff_team_gold\"] = radiant_team_gold - dire_team_gold\n",
    "        \n",
    "        # Общая разница в уроне по персонажам\n",
    "        df_features.loc[match_id_hash, \"radiant_team_dmg\"] = radiant_team_dmg\n",
    "        df_features.loc[match_id_hash, \"dire_team_dmg\"] = dire_team_dmg\n",
    "        df_features.loc[match_id_hash, \"diff_team_dmg\"] = radiant_team_dmg - dire_team_dmg\n",
    "        \n",
    "        # Общая разница в полученном опыте\n",
    "        df_features.loc[match_id_hash, \"radiant_team_xp\"] = radiant_team_xp\n",
    "        df_features.loc[match_id_hash, \"dire_team_xp\"] = dire_team_xp\n",
    "        df_features.loc[match_id_hash, \"diff_team_xp\"] = radiant_team_xp - dire_team_xp\n",
    "        \n",
    "\n",
    "        \n",
    "        "
   ]
  },
  {
   "cell_type": "code",
   "execution_count": 31,
   "id": "a015f1ce",
   "metadata": {
    "execution": {
     "iopub.execute_input": "2023-04-02T12:24:25.568789Z",
     "iopub.status.busy": "2023-04-02T12:24:25.568337Z",
     "iopub.status.idle": "2023-04-02T12:34:00.061580Z",
     "shell.execute_reply": "2023-04-02T12:34:00.060111Z"
    },
    "papermill": {
     "duration": 574.517364,
     "end_time": "2023-04-02T12:34:00.064503",
     "exception": false,
     "start_time": "2023-04-02T12:24:25.547139",
     "status": "completed"
    },
    "tags": []
   },
   "outputs": [
    {
     "data": {
      "application/vnd.jupyter.widget-view+json": {
       "model_id": "d9178eeee16641e980e784f1185eb3b1",
       "version_major": 2,
       "version_minor": 0
      },
      "text/plain": [
       "  0%|          | 0/31698 [00:00<?, ?it/s]"
      ]
     },
     "metadata": {},
     "output_type": "display_data"
    }
   ],
   "source": [
    "# Скопируем таблицу с признаками\n",
    "df_train_features_extended = df_train_features.copy()\n",
    "\n",
    "# Добавим новые\n",
    "add_new_features(df_train_features_extended, \n",
    "                 os.path.join(PATH_TO_DATA, \n",
    "                              \"train_raw_data.jsonl\"))"
   ]
  },
  {
   "cell_type": "code",
   "execution_count": 32,
   "id": "23f61aaa",
   "metadata": {
    "execution": {
     "iopub.execute_input": "2023-04-02T12:34:00.106940Z",
     "iopub.status.busy": "2023-04-02T12:34:00.106267Z",
     "iopub.status.idle": "2023-04-02T12:34:00.140046Z",
     "shell.execute_reply": "2023-04-02T12:34:00.139065Z"
    },
    "papermill": {
     "duration": 0.058126,
     "end_time": "2023-04-02T12:34:00.142845",
     "exception": false,
     "start_time": "2023-04-02T12:34:00.084719",
     "status": "completed"
    },
    "tags": []
   },
   "outputs": [
    {
     "data": {
      "text/html": [
       "<div>\n",
       "<style scoped>\n",
       "    .dataframe tbody tr th:only-of-type {\n",
       "        vertical-align: middle;\n",
       "    }\n",
       "\n",
       "    .dataframe tbody tr th {\n",
       "        vertical-align: top;\n",
       "    }\n",
       "\n",
       "    .dataframe thead th {\n",
       "        text-align: right;\n",
       "    }\n",
       "</style>\n",
       "<table border=\"1\" class=\"dataframe\">\n",
       "  <thead>\n",
       "    <tr style=\"text-align: right;\">\n",
       "      <th></th>\n",
       "      <th>game_time</th>\n",
       "      <th>game_mode</th>\n",
       "      <th>lobby_type</th>\n",
       "      <th>objectives_len</th>\n",
       "      <th>chat_len</th>\n",
       "      <th>r1_hero_id</th>\n",
       "      <th>r1_kills</th>\n",
       "      <th>r1_deaths</th>\n",
       "      <th>r1_assists</th>\n",
       "      <th>r1_denies</th>\n",
       "      <th>...</th>\n",
       "      <th>d5_gold_increase</th>\n",
       "      <th>radiant_team_gold</th>\n",
       "      <th>dire_team_gold</th>\n",
       "      <th>diff_team_gold</th>\n",
       "      <th>radiant_team_dmg</th>\n",
       "      <th>dire_team_dmg</th>\n",
       "      <th>diff_team_dmg</th>\n",
       "      <th>radiant_team_xp</th>\n",
       "      <th>dire_team_xp</th>\n",
       "      <th>diff_team_xp</th>\n",
       "    </tr>\n",
       "    <tr>\n",
       "      <th>match_id_hash</th>\n",
       "      <th></th>\n",
       "      <th></th>\n",
       "      <th></th>\n",
       "      <th></th>\n",
       "      <th></th>\n",
       "      <th></th>\n",
       "      <th></th>\n",
       "      <th></th>\n",
       "      <th></th>\n",
       "      <th></th>\n",
       "      <th></th>\n",
       "      <th></th>\n",
       "      <th></th>\n",
       "      <th></th>\n",
       "      <th></th>\n",
       "      <th></th>\n",
       "      <th></th>\n",
       "      <th></th>\n",
       "      <th></th>\n",
       "      <th></th>\n",
       "      <th></th>\n",
       "    </tr>\n",
       "  </thead>\n",
       "  <tbody>\n",
       "    <tr>\n",
       "      <th>b9c57c450ce74a2af79c9ce96fac144d</th>\n",
       "      <td>658</td>\n",
       "      <td>0.513034</td>\n",
       "      <td>0.524230</td>\n",
       "      <td>3</td>\n",
       "      <td>10</td>\n",
       "      <td>0.410855</td>\n",
       "      <td>7</td>\n",
       "      <td>2</td>\n",
       "      <td>0</td>\n",
       "      <td>7</td>\n",
       "      <td>...</td>\n",
       "      <td>542.0</td>\n",
       "      <td>18172.0</td>\n",
       "      <td>13144.0</td>\n",
       "      <td>5028.0</td>\n",
       "      <td>17463.0</td>\n",
       "      <td>926.0</td>\n",
       "      <td>16537.0</td>\n",
       "      <td>17566.0</td>\n",
       "      <td>12925.0</td>\n",
       "      <td>4641.0</td>\n",
       "    </tr>\n",
       "    <tr>\n",
       "      <th>6db558535151ea18ca70a6892197db41</th>\n",
       "      <td>21</td>\n",
       "      <td>0.530063</td>\n",
       "      <td>0.524230</td>\n",
       "      <td>0</td>\n",
       "      <td>0</td>\n",
       "      <td>0.570201</td>\n",
       "      <td>0</td>\n",
       "      <td>0</td>\n",
       "      <td>0</td>\n",
       "      <td>0</td>\n",
       "      <td>...</td>\n",
       "      <td>95.0</td>\n",
       "      <td>880.0</td>\n",
       "      <td>480.0</td>\n",
       "      <td>400.0</td>\n",
       "      <td>70.0</td>\n",
       "      <td>0.0</td>\n",
       "      <td>70.0</td>\n",
       "      <td>0.0</td>\n",
       "      <td>0.0</td>\n",
       "      <td>0.0</td>\n",
       "    </tr>\n",
       "    <tr>\n",
       "      <th>19c39fe2af2b547e48708ca005c6ae74</th>\n",
       "      <td>160</td>\n",
       "      <td>0.527997</td>\n",
       "      <td>0.526681</td>\n",
       "      <td>0</td>\n",
       "      <td>0</td>\n",
       "      <td>0.590308</td>\n",
       "      <td>0</td>\n",
       "      <td>0</td>\n",
       "      <td>0</td>\n",
       "      <td>1</td>\n",
       "      <td>...</td>\n",
       "      <td>326.0</td>\n",
       "      <td>2947.0</td>\n",
       "      <td>1843.0</td>\n",
       "      <td>1104.0</td>\n",
       "      <td>2270.0</td>\n",
       "      <td>0.0</td>\n",
       "      <td>2270.0</td>\n",
       "      <td>2942.0</td>\n",
       "      <td>2513.0</td>\n",
       "      <td>429.0</td>\n",
       "    </tr>\n",
       "    <tr>\n",
       "      <th>c96d629dc0c39f0c616d1949938a6ba6</th>\n",
       "      <td>1016</td>\n",
       "      <td>0.527997</td>\n",
       "      <td>0.524230</td>\n",
       "      <td>1</td>\n",
       "      <td>0</td>\n",
       "      <td>0.525886</td>\n",
       "      <td>0</td>\n",
       "      <td>3</td>\n",
       "      <td>3</td>\n",
       "      <td>5</td>\n",
       "      <td>...</td>\n",
       "      <td>1903.0</td>\n",
       "      <td>23650.0</td>\n",
       "      <td>20819.0</td>\n",
       "      <td>2831.0</td>\n",
       "      <td>23872.0</td>\n",
       "      <td>1218.0</td>\n",
       "      <td>22654.0</td>\n",
       "      <td>26116.0</td>\n",
       "      <td>27341.0</td>\n",
       "      <td>-1225.0</td>\n",
       "    </tr>\n",
       "    <tr>\n",
       "      <th>156c88bff4e9c4668b0f53df3d870f1b</th>\n",
       "      <td>582</td>\n",
       "      <td>0.527997</td>\n",
       "      <td>0.526681</td>\n",
       "      <td>2</td>\n",
       "      <td>2</td>\n",
       "      <td>0.534091</td>\n",
       "      <td>3</td>\n",
       "      <td>1</td>\n",
       "      <td>2</td>\n",
       "      <td>9</td>\n",
       "      <td>...</td>\n",
       "      <td>783.0</td>\n",
       "      <td>12628.0</td>\n",
       "      <td>13418.0</td>\n",
       "      <td>-790.0</td>\n",
       "      <td>9830.0</td>\n",
       "      <td>1888.0</td>\n",
       "      <td>7942.0</td>\n",
       "      <td>13044.0</td>\n",
       "      <td>13598.0</td>\n",
       "      <td>-554.0</td>\n",
       "    </tr>\n",
       "    <tr>\n",
       "      <th>df50f738c454d430a33b2bf90cb9ef1a</th>\n",
       "      <td>636</td>\n",
       "      <td>0.527997</td>\n",
       "      <td>0.526681</td>\n",
       "      <td>1</td>\n",
       "      <td>5</td>\n",
       "      <td>0.522463</td>\n",
       "      <td>1</td>\n",
       "      <td>1</td>\n",
       "      <td>0</td>\n",
       "      <td>3</td>\n",
       "      <td>...</td>\n",
       "      <td>2988.0</td>\n",
       "      <td>11422.0</td>\n",
       "      <td>15938.0</td>\n",
       "      <td>-4516.0</td>\n",
       "      <td>9442.0</td>\n",
       "      <td>3569.0</td>\n",
       "      <td>5873.0</td>\n",
       "      <td>11875.0</td>\n",
       "      <td>16068.0</td>\n",
       "      <td>-4193.0</td>\n",
       "    </tr>\n",
       "    <tr>\n",
       "      <th>7469e9440ea3d19b211a484647c7126e</th>\n",
       "      <td>1054</td>\n",
       "      <td>0.527997</td>\n",
       "      <td>0.524230</td>\n",
       "      <td>8</td>\n",
       "      <td>5</td>\n",
       "      <td>0.575563</td>\n",
       "      <td>1</td>\n",
       "      <td>3</td>\n",
       "      <td>10</td>\n",
       "      <td>4</td>\n",
       "      <td>...</td>\n",
       "      <td>3759.0</td>\n",
       "      <td>27200.0</td>\n",
       "      <td>27107.0</td>\n",
       "      <td>93.0</td>\n",
       "      <td>23217.0</td>\n",
       "      <td>6136.0</td>\n",
       "      <td>17081.0</td>\n",
       "      <td>26068.0</td>\n",
       "      <td>25212.0</td>\n",
       "      <td>856.0</td>\n",
       "    </tr>\n",
       "    <tr>\n",
       "      <th>0aa1c6d7630433a93fe42da5ac810368</th>\n",
       "      <td>1797</td>\n",
       "      <td>0.527997</td>\n",
       "      <td>0.526681</td>\n",
       "      <td>9</td>\n",
       "      <td>2</td>\n",
       "      <td>0.555178</td>\n",
       "      <td>1</td>\n",
       "      <td>5</td>\n",
       "      <td>2</td>\n",
       "      <td>1</td>\n",
       "      <td>...</td>\n",
       "      <td>4345.0</td>\n",
       "      <td>50645.0</td>\n",
       "      <td>55254.0</td>\n",
       "      <td>-4609.0</td>\n",
       "      <td>57051.0</td>\n",
       "      <td>4550.0</td>\n",
       "      <td>52501.0</td>\n",
       "      <td>55732.0</td>\n",
       "      <td>65908.0</td>\n",
       "      <td>-10176.0</td>\n",
       "    </tr>\n",
       "    <tr>\n",
       "      <th>892b5d40992e4b334e159f99b2bb55e6</th>\n",
       "      <td>605</td>\n",
       "      <td>0.527997</td>\n",
       "      <td>0.526681</td>\n",
       "      <td>0</td>\n",
       "      <td>5</td>\n",
       "      <td>0.504425</td>\n",
       "      <td>0</td>\n",
       "      <td>1</td>\n",
       "      <td>3</td>\n",
       "      <td>1</td>\n",
       "      <td>...</td>\n",
       "      <td>1756.0</td>\n",
       "      <td>13431.0</td>\n",
       "      <td>12183.0</td>\n",
       "      <td>1248.0</td>\n",
       "      <td>12807.0</td>\n",
       "      <td>1177.0</td>\n",
       "      <td>11630.0</td>\n",
       "      <td>14501.0</td>\n",
       "      <td>14362.0</td>\n",
       "      <td>139.0</td>\n",
       "    </tr>\n",
       "    <tr>\n",
       "      <th>44eb0c077ca68678bb9bfead29e9c455</th>\n",
       "      <td>1514</td>\n",
       "      <td>0.527997</td>\n",
       "      <td>0.526681</td>\n",
       "      <td>6</td>\n",
       "      <td>3</td>\n",
       "      <td>0.578512</td>\n",
       "      <td>2</td>\n",
       "      <td>6</td>\n",
       "      <td>6</td>\n",
       "      <td>4</td>\n",
       "      <td>...</td>\n",
       "      <td>4468.0</td>\n",
       "      <td>37973.0</td>\n",
       "      <td>45618.0</td>\n",
       "      <td>-7645.0</td>\n",
       "      <td>34072.0</td>\n",
       "      <td>7251.0</td>\n",
       "      <td>26821.0</td>\n",
       "      <td>44824.0</td>\n",
       "      <td>46664.0</td>\n",
       "      <td>-1840.0</td>\n",
       "    </tr>\n",
       "  </tbody>\n",
       "</table>\n",
       "<p>10 rows × 290 columns</p>\n",
       "</div>"
      ],
      "text/plain": [
       "                                  game_time  game_mode  lobby_type  \\\n",
       "match_id_hash                                                        \n",
       "b9c57c450ce74a2af79c9ce96fac144d        658   0.513034    0.524230   \n",
       "6db558535151ea18ca70a6892197db41         21   0.530063    0.524230   \n",
       "19c39fe2af2b547e48708ca005c6ae74        160   0.527997    0.526681   \n",
       "c96d629dc0c39f0c616d1949938a6ba6       1016   0.527997    0.524230   \n",
       "156c88bff4e9c4668b0f53df3d870f1b        582   0.527997    0.526681   \n",
       "df50f738c454d430a33b2bf90cb9ef1a        636   0.527997    0.526681   \n",
       "7469e9440ea3d19b211a484647c7126e       1054   0.527997    0.524230   \n",
       "0aa1c6d7630433a93fe42da5ac810368       1797   0.527997    0.526681   \n",
       "892b5d40992e4b334e159f99b2bb55e6        605   0.527997    0.526681   \n",
       "44eb0c077ca68678bb9bfead29e9c455       1514   0.527997    0.526681   \n",
       "\n",
       "                                  objectives_len  chat_len  r1_hero_id  \\\n",
       "match_id_hash                                                            \n",
       "b9c57c450ce74a2af79c9ce96fac144d               3        10    0.410855   \n",
       "6db558535151ea18ca70a6892197db41               0         0    0.570201   \n",
       "19c39fe2af2b547e48708ca005c6ae74               0         0    0.590308   \n",
       "c96d629dc0c39f0c616d1949938a6ba6               1         0    0.525886   \n",
       "156c88bff4e9c4668b0f53df3d870f1b               2         2    0.534091   \n",
       "df50f738c454d430a33b2bf90cb9ef1a               1         5    0.522463   \n",
       "7469e9440ea3d19b211a484647c7126e               8         5    0.575563   \n",
       "0aa1c6d7630433a93fe42da5ac810368               9         2    0.555178   \n",
       "892b5d40992e4b334e159f99b2bb55e6               0         5    0.504425   \n",
       "44eb0c077ca68678bb9bfead29e9c455               6         3    0.578512   \n",
       "\n",
       "                                  r1_kills  r1_deaths  r1_assists  r1_denies  \\\n",
       "match_id_hash                                                                  \n",
       "b9c57c450ce74a2af79c9ce96fac144d         7          2           0          7   \n",
       "6db558535151ea18ca70a6892197db41         0          0           0          0   \n",
       "19c39fe2af2b547e48708ca005c6ae74         0          0           0          1   \n",
       "c96d629dc0c39f0c616d1949938a6ba6         0          3           3          5   \n",
       "156c88bff4e9c4668b0f53df3d870f1b         3          1           2          9   \n",
       "df50f738c454d430a33b2bf90cb9ef1a         1          1           0          3   \n",
       "7469e9440ea3d19b211a484647c7126e         1          3          10          4   \n",
       "0aa1c6d7630433a93fe42da5ac810368         1          5           2          1   \n",
       "892b5d40992e4b334e159f99b2bb55e6         0          1           3          1   \n",
       "44eb0c077ca68678bb9bfead29e9c455         2          6           6          4   \n",
       "\n",
       "                                  ...  d5_gold_increase  radiant_team_gold  \\\n",
       "match_id_hash                     ...                                        \n",
       "b9c57c450ce74a2af79c9ce96fac144d  ...             542.0            18172.0   \n",
       "6db558535151ea18ca70a6892197db41  ...              95.0              880.0   \n",
       "19c39fe2af2b547e48708ca005c6ae74  ...             326.0             2947.0   \n",
       "c96d629dc0c39f0c616d1949938a6ba6  ...            1903.0            23650.0   \n",
       "156c88bff4e9c4668b0f53df3d870f1b  ...             783.0            12628.0   \n",
       "df50f738c454d430a33b2bf90cb9ef1a  ...            2988.0            11422.0   \n",
       "7469e9440ea3d19b211a484647c7126e  ...            3759.0            27200.0   \n",
       "0aa1c6d7630433a93fe42da5ac810368  ...            4345.0            50645.0   \n",
       "892b5d40992e4b334e159f99b2bb55e6  ...            1756.0            13431.0   \n",
       "44eb0c077ca68678bb9bfead29e9c455  ...            4468.0            37973.0   \n",
       "\n",
       "                                  dire_team_gold  diff_team_gold  \\\n",
       "match_id_hash                                                      \n",
       "b9c57c450ce74a2af79c9ce96fac144d         13144.0          5028.0   \n",
       "6db558535151ea18ca70a6892197db41           480.0           400.0   \n",
       "19c39fe2af2b547e48708ca005c6ae74          1843.0          1104.0   \n",
       "c96d629dc0c39f0c616d1949938a6ba6         20819.0          2831.0   \n",
       "156c88bff4e9c4668b0f53df3d870f1b         13418.0          -790.0   \n",
       "df50f738c454d430a33b2bf90cb9ef1a         15938.0         -4516.0   \n",
       "7469e9440ea3d19b211a484647c7126e         27107.0            93.0   \n",
       "0aa1c6d7630433a93fe42da5ac810368         55254.0         -4609.0   \n",
       "892b5d40992e4b334e159f99b2bb55e6         12183.0          1248.0   \n",
       "44eb0c077ca68678bb9bfead29e9c455         45618.0         -7645.0   \n",
       "\n",
       "                                  radiant_team_dmg  dire_team_dmg  \\\n",
       "match_id_hash                                                       \n",
       "b9c57c450ce74a2af79c9ce96fac144d           17463.0          926.0   \n",
       "6db558535151ea18ca70a6892197db41              70.0            0.0   \n",
       "19c39fe2af2b547e48708ca005c6ae74            2270.0            0.0   \n",
       "c96d629dc0c39f0c616d1949938a6ba6           23872.0         1218.0   \n",
       "156c88bff4e9c4668b0f53df3d870f1b            9830.0         1888.0   \n",
       "df50f738c454d430a33b2bf90cb9ef1a            9442.0         3569.0   \n",
       "7469e9440ea3d19b211a484647c7126e           23217.0         6136.0   \n",
       "0aa1c6d7630433a93fe42da5ac810368           57051.0         4550.0   \n",
       "892b5d40992e4b334e159f99b2bb55e6           12807.0         1177.0   \n",
       "44eb0c077ca68678bb9bfead29e9c455           34072.0         7251.0   \n",
       "\n",
       "                                  diff_team_dmg  radiant_team_xp  \\\n",
       "match_id_hash                                                      \n",
       "b9c57c450ce74a2af79c9ce96fac144d        16537.0          17566.0   \n",
       "6db558535151ea18ca70a6892197db41           70.0              0.0   \n",
       "19c39fe2af2b547e48708ca005c6ae74         2270.0           2942.0   \n",
       "c96d629dc0c39f0c616d1949938a6ba6        22654.0          26116.0   \n",
       "156c88bff4e9c4668b0f53df3d870f1b         7942.0          13044.0   \n",
       "df50f738c454d430a33b2bf90cb9ef1a         5873.0          11875.0   \n",
       "7469e9440ea3d19b211a484647c7126e        17081.0          26068.0   \n",
       "0aa1c6d7630433a93fe42da5ac810368        52501.0          55732.0   \n",
       "892b5d40992e4b334e159f99b2bb55e6        11630.0          14501.0   \n",
       "44eb0c077ca68678bb9bfead29e9c455        26821.0          44824.0   \n",
       "\n",
       "                                  dire_team_xp  diff_team_xp  \n",
       "match_id_hash                                                 \n",
       "b9c57c450ce74a2af79c9ce96fac144d       12925.0        4641.0  \n",
       "6db558535151ea18ca70a6892197db41           0.0           0.0  \n",
       "19c39fe2af2b547e48708ca005c6ae74        2513.0         429.0  \n",
       "c96d629dc0c39f0c616d1949938a6ba6       27341.0       -1225.0  \n",
       "156c88bff4e9c4668b0f53df3d870f1b       13598.0        -554.0  \n",
       "df50f738c454d430a33b2bf90cb9ef1a       16068.0       -4193.0  \n",
       "7469e9440ea3d19b211a484647c7126e       25212.0         856.0  \n",
       "0aa1c6d7630433a93fe42da5ac810368       65908.0      -10176.0  \n",
       "892b5d40992e4b334e159f99b2bb55e6       14362.0         139.0  \n",
       "44eb0c077ca68678bb9bfead29e9c455       46664.0       -1840.0  \n",
       "\n",
       "[10 rows x 290 columns]"
      ]
     },
     "execution_count": 32,
     "metadata": {},
     "output_type": "execute_result"
    }
   ],
   "source": [
    "df_train_features_extended.head(10)"
   ]
  },
  {
   "cell_type": "code",
   "execution_count": 33,
   "id": "bbf98390",
   "metadata": {
    "execution": {
     "iopub.execute_input": "2023-04-02T12:34:00.186215Z",
     "iopub.status.busy": "2023-04-02T12:34:00.185517Z",
     "iopub.status.idle": "2023-04-02T12:36:41.131436Z",
     "shell.execute_reply": "2023-04-02T12:36:41.129926Z"
    },
    "papermill": {
     "duration": 160.990644,
     "end_time": "2023-04-02T12:36:41.153523",
     "exception": false,
     "start_time": "2023-04-02T12:34:00.162879",
     "status": "completed"
    },
    "tags": []
   },
   "outputs": [
    {
     "name": "stdout",
     "output_type": "stream",
     "text": [
      "CPU times: user 157 ms, sys: 223 ms, total: 380 ms\n",
      "Wall time: 2min 40s\n"
     ]
    }
   ],
   "source": [
    "%%time\n",
    "cv_scores_base = cross_val_score(rf_model, X, y, cv=cv, scoring=\"roc_auc\", n_jobs=-1)\n",
    "cv_scores_extended = cross_val_score(rf_model, df_train_features_extended.values, y, \n",
    "                                     cv=cv, scoring=\"roc_auc\", n_jobs=-1)"
   ]
  },
  {
   "cell_type": "code",
   "execution_count": 34,
   "id": "fc120ae5",
   "metadata": {
    "execution": {
     "iopub.execute_input": "2023-04-02T12:36:41.196808Z",
     "iopub.status.busy": "2023-04-02T12:36:41.196301Z",
     "iopub.status.idle": "2023-04-02T12:36:41.203405Z",
     "shell.execute_reply": "2023-04-02T12:36:41.202120Z"
    },
    "papermill": {
     "duration": 0.03213,
     "end_time": "2023-04-02T12:36:41.206148",
     "exception": false,
     "start_time": "2023-04-02T12:36:41.174018",
     "status": "completed"
    },
    "tags": []
   },
   "outputs": [
    {
     "name": "stdout",
     "output_type": "stream",
     "text": [
      "ROC-AUC на кросс-валидации для базовых признаков: 0.7925575257877382\n",
      "ROC-AUC на кросс-валидации для новых признаков: 0.8190755271592135\n"
     ]
    }
   ],
   "source": [
    "print(f\"ROC-AUC на кросс-валидации для базовых признаков: {cv_scores_base.mean()}\")\n",
    "print(f\"ROC-AUC на кросс-валидации для новых признаков: {cv_scores_extended.mean()}\")"
   ]
  },
  {
   "cell_type": "markdown",
   "id": "67a1a4b2",
   "metadata": {
    "papermill": {
     "duration": 0.02569,
     "end_time": "2023-04-02T12:36:41.252007",
     "exception": false,
     "start_time": "2023-04-02T12:36:41.226317",
     "status": "completed"
    },
    "tags": []
   },
   "source": [
    "Видно, что случайный лес стал работать немного лучше при добавлении новых признаков. A еще нужно, наверное, как-то по-умному закодировать категориальные признаки."
   ]
  },
  {
   "cell_type": "markdown",
   "id": "14e2b831",
   "metadata": {
    "papermill": {
     "duration": 0.019848,
     "end_time": "2023-04-02T12:36:41.292652",
     "exception": false,
     "start_time": "2023-04-02T12:36:41.272804",
     "status": "completed"
    },
    "tags": []
   },
   "source": [
    "Дальше дело за малым. Добавляйте новые признаки, пробуйте другие методы, которые мы изучили, а также что-то интересное, что мы не прошли. Удачи!"
   ]
  },
  {
   "cell_type": "code",
   "execution_count": 35,
   "id": "d9fbbd61",
   "metadata": {
    "execution": {
     "iopub.execute_input": "2023-04-02T12:36:41.334848Z",
     "iopub.status.busy": "2023-04-02T12:36:41.334378Z",
     "iopub.status.idle": "2023-04-02T12:38:27.904133Z",
     "shell.execute_reply": "2023-04-02T12:38:27.902784Z"
    },
    "papermill": {
     "duration": 106.593949,
     "end_time": "2023-04-02T12:38:27.906807",
     "exception": false,
     "start_time": "2023-04-02T12:36:41.312858",
     "status": "completed"
    },
    "tags": []
   },
   "outputs": [
    {
     "data": {
      "application/vnd.jupyter.widget-view+json": {
       "model_id": "03dfe1301b9b4f029a5f086744655a31",
       "version_major": 2,
       "version_minor": 0
      },
      "text/plain": [
       "  0%|          | 0/31698 [00:00<?, ?it/s]"
      ]
     },
     "metadata": {},
     "output_type": "display_data"
    }
   ],
   "source": [
    "# Скопируем тестовую таблицу с признаками\n",
    "df_test_features_extended = df_test_features.copy()\n",
    "\n",
    "# Добавим новые\n",
    "add_new_features(df_test_features_extended, \n",
    "                 os.path.join(PATH_TO_DATA, \n",
    "                              \"test_raw_data.jsonl\"))"
   ]
  },
  {
   "cell_type": "code",
   "execution_count": 36,
   "id": "c222ef95",
   "metadata": {
    "execution": {
     "iopub.execute_input": "2023-04-02T12:38:27.949593Z",
     "iopub.status.busy": "2023-04-02T12:38:27.949180Z",
     "iopub.status.idle": "2023-04-02T12:38:27.995641Z",
     "shell.execute_reply": "2023-04-02T12:38:27.994261Z"
    },
    "papermill": {
     "duration": 0.071352,
     "end_time": "2023-04-02T12:38:27.998642",
     "exception": false,
     "start_time": "2023-04-02T12:38:27.927290",
     "status": "completed"
    },
    "tags": []
   },
   "outputs": [],
   "source": [
    "# Используем расширенный X; y остаётся таким же\n",
    "X = df_train_features_extended.values\n",
    "y = df_train_targets[\"radiant_win\"].values.astype(\"int8\")"
   ]
  },
  {
   "cell_type": "code",
   "execution_count": 37,
   "id": "1a80b9c9",
   "metadata": {
    "execution": {
     "iopub.execute_input": "2023-04-02T12:38:28.040103Z",
     "iopub.status.busy": "2023-04-02T12:38:28.039663Z",
     "iopub.status.idle": "2023-04-02T12:38:28.158948Z",
     "shell.execute_reply": "2023-04-02T12:38:28.157309Z"
    },
    "papermill": {
     "duration": 0.143692,
     "end_time": "2023-04-02T12:38:28.162064",
     "exception": false,
     "start_time": "2023-04-02T12:38:28.018372",
     "status": "completed"
    },
    "tags": []
   },
   "outputs": [],
   "source": [
    "# Разбиваем X, y на train, valid в отношении 70/30 \n",
    "X_train, X_valid, y_train, y_valid = train_test_split(X, y, \n",
    "                                                      test_size=0.3, \n",
    "                                                      random_state=SEED)"
   ]
  },
  {
   "cell_type": "code",
   "execution_count": 38,
   "id": "2b33c2dd",
   "metadata": {
    "execution": {
     "iopub.execute_input": "2023-04-02T12:38:28.206472Z",
     "iopub.status.busy": "2023-04-02T12:38:28.205925Z",
     "iopub.status.idle": "2023-04-02T12:38:44.715573Z",
     "shell.execute_reply": "2023-04-02T12:38:44.713961Z"
    },
    "papermill": {
     "duration": 16.535788,
     "end_time": "2023-04-02T12:38:44.718423",
     "exception": false,
     "start_time": "2023-04-02T12:38:28.182635",
     "status": "completed"
    },
    "tags": []
   },
   "outputs": [
    {
     "name": "stdout",
     "output_type": "stream",
     "text": [
      "CPU times: user 1min 2s, sys: 107 ms, total: 1min 2s\n",
      "Wall time: 16.5 s\n"
     ]
    },
    {
     "data": {
      "text/plain": [
       "RandomForestClassifier(max_depth=10, n_estimators=300, n_jobs=-1,\n",
       "                       random_state=10801)"
      ]
     },
     "execution_count": 38,
     "metadata": {},
     "output_type": "execute_result"
    }
   ],
   "source": [
    "%%time\n",
    "rf_model = RandomForestClassifier(n_estimators=300, max_depth=10, n_jobs=-1, random_state=SEED)\n",
    "rf_model.fit(X_train, y_train)\n",
    "\n",
    "# Тренируем модель заново на расширенном X_train, чтобы она совпадала по количеству параметров с расширенным X_test"
   ]
  },
  {
   "cell_type": "code",
   "execution_count": 39,
   "id": "b4092b5d",
   "metadata": {
    "execution": {
     "iopub.execute_input": "2023-04-02T12:38:44.761160Z",
     "iopub.status.busy": "2023-04-02T12:38:44.760435Z",
     "iopub.status.idle": "2023-04-02T12:38:45.078139Z",
     "shell.execute_reply": "2023-04-02T12:38:45.076736Z"
    },
    "papermill": {
     "duration": 0.342178,
     "end_time": "2023-04-02T12:38:45.081032",
     "exception": false,
     "start_time": "2023-04-02T12:38:44.738854",
     "status": "completed"
    },
    "tags": []
   },
   "outputs": [],
   "source": [
    "y_pred = rf_model.predict_proba(X_valid)[:, 1]"
   ]
  },
  {
   "cell_type": "code",
   "execution_count": 40,
   "id": "9dbec89a",
   "metadata": {
    "execution": {
     "iopub.execute_input": "2023-04-02T12:38:45.122805Z",
     "iopub.status.busy": "2023-04-02T12:38:45.122377Z",
     "iopub.status.idle": "2023-04-02T12:38:45.134464Z",
     "shell.execute_reply": "2023-04-02T12:38:45.132478Z"
    },
    "papermill": {
     "duration": 0.037171,
     "end_time": "2023-04-02T12:38:45.138103",
     "exception": false,
     "start_time": "2023-04-02T12:38:45.100932",
     "status": "completed"
    },
    "tags": []
   },
   "outputs": [
    {
     "name": "stdout",
     "output_type": "stream",
     "text": [
      "ROC-AUC score на отложенной части: 0.8185111032345894\n"
     ]
    }
   ],
   "source": [
    "valid_score = roc_auc_score(y_valid, y_pred)\n",
    "print(\"ROC-AUC score на отложенной части:\", valid_score)\n",
    "\n",
    "# Ожидаем похожий результат на test выборке"
   ]
  },
  {
   "cell_type": "code",
   "execution_count": 41,
   "id": "a715a61b",
   "metadata": {
    "execution": {
     "iopub.execute_input": "2023-04-02T12:38:45.180625Z",
     "iopub.status.busy": "2023-04-02T12:38:45.180231Z",
     "iopub.status.idle": "2023-04-02T12:38:45.510016Z",
     "shell.execute_reply": "2023-04-02T12:38:45.508326Z"
    },
    "papermill": {
     "duration": 0.354558,
     "end_time": "2023-04-02T12:38:45.513197",
     "exception": false,
     "start_time": "2023-04-02T12:38:45.158639",
     "status": "completed"
    },
    "tags": []
   },
   "outputs": [],
   "source": [
    "# Используем расширенный X_test\n",
    "X_test = df_test_features_extended.values\n",
    "y_test_pred = rf_model.predict_proba(X_test)[:, 1]\n",
    "\n",
    "df_submission = pd.DataFrame({\"radiant_win_prob\": y_test_pred}, \n",
    "                                 index=df_test_features_extended.index)"
   ]
  },
  {
   "cell_type": "code",
   "execution_count": 42,
   "id": "22897a0d",
   "metadata": {
    "execution": {
     "iopub.execute_input": "2023-04-02T12:38:45.556994Z",
     "iopub.status.busy": "2023-04-02T12:38:45.556483Z",
     "iopub.status.idle": "2023-04-02T12:38:45.590100Z",
     "shell.execute_reply": "2023-04-02T12:38:45.588076Z"
    },
    "papermill": {
     "duration": 0.059176,
     "end_time": "2023-04-02T12:38:45.593244",
     "exception": false,
     "start_time": "2023-04-02T12:38:45.534068",
     "status": "completed"
    },
    "tags": []
   },
   "outputs": [
    {
     "name": "stdout",
     "output_type": "stream",
     "text": [
      "Файл посылки сохранен, как: submission.csv\n"
     ]
    }
   ],
   "source": [
    "# Насколько я поняла, для финальной посылки нужен \"submission.csv\"\n",
    "submission_filename = \"submission.csv\"\n",
    "df_submission.to_csv(submission_filename)\n",
    "print(\"Файл посылки сохранен, как: {}\".format(submission_filename))"
   ]
  }
 ],
 "metadata": {
  "kernelspec": {
   "display_name": "Python 3",
   "language": "python",
   "name": "python3"
  },
  "language_info": {
   "codemirror_mode": {
    "name": "ipython",
    "version": 3
   },
   "file_extension": ".py",
   "mimetype": "text/x-python",
   "name": "python",
   "nbconvert_exporter": "python",
   "pygments_lexer": "ipython3",
   "version": "3.7.12"
  },
  "papermill": {
   "default_parameters": {},
   "duration": 973.303633,
   "end_time": "2023-04-02T12:38:48.244207",
   "environment_variables": {},
   "exception": null,
   "input_path": "__notebook__.ipynb",
   "output_path": "__notebook__.ipynb",
   "parameters": {},
   "start_time": "2023-04-02T12:22:34.940574",
   "version": "2.4.0"
  },
  "widgets": {
   "application/vnd.jupyter.widget-state+json": {
    "state": {
     "03dfe1301b9b4f029a5f086744655a31": {
      "model_module": "@jupyter-widgets/controls",
      "model_module_version": "1.5.0",
      "model_name": "HBoxModel",
      "state": {
       "_dom_classes": [],
       "_model_module": "@jupyter-widgets/controls",
       "_model_module_version": "1.5.0",
       "_model_name": "HBoxModel",
       "_view_count": null,
       "_view_module": "@jupyter-widgets/controls",
       "_view_module_version": "1.5.0",
       "_view_name": "HBoxView",
       "box_style": "",
       "children": [
        "IPY_MODEL_6af33e1f79c54898abdea830f434c3ff",
        "IPY_MODEL_b7eea1d79e1f475e8806a8a63ac7e0d7",
        "IPY_MODEL_54a2d6dc98b14668867cce331140e852"
       ],
       "layout": "IPY_MODEL_c233e285966f4647b4a0155f4f4d5e53"
      }
     },
     "2ac843642b9d4da392d20f9ac10c106c": {
      "model_module": "@jupyter-widgets/base",
      "model_module_version": "1.2.0",
      "model_name": "LayoutModel",
      "state": {
       "_model_module": "@jupyter-widgets/base",
       "_model_module_version": "1.2.0",
       "_model_name": "LayoutModel",
       "_view_count": null,
       "_view_module": "@jupyter-widgets/base",
       "_view_module_version": "1.2.0",
       "_view_name": "LayoutView",
       "align_content": null,
       "align_items": null,
       "align_self": null,
       "border": null,
       "bottom": null,
       "display": null,
       "flex": null,
       "flex_flow": null,
       "grid_area": null,
       "grid_auto_columns": null,
       "grid_auto_flow": null,
       "grid_auto_rows": null,
       "grid_column": null,
       "grid_gap": null,
       "grid_row": null,
       "grid_template_areas": null,
       "grid_template_columns": null,
       "grid_template_rows": null,
       "height": null,
       "justify_content": null,
       "justify_items": null,
       "left": null,
       "margin": null,
       "max_height": null,
       "max_width": null,
       "min_height": null,
       "min_width": null,
       "object_fit": null,
       "object_position": null,
       "order": null,
       "overflow": null,
       "overflow_x": null,
       "overflow_y": null,
       "padding": null,
       "right": null,
       "top": null,
       "visibility": null,
       "width": null
      }
     },
     "422997ee994f4bc28dc2ad6d16aefeb8": {
      "model_module": "@jupyter-widgets/base",
      "model_module_version": "1.2.0",
      "model_name": "LayoutModel",
      "state": {
       "_model_module": "@jupyter-widgets/base",
       "_model_module_version": "1.2.0",
       "_model_name": "LayoutModel",
       "_view_count": null,
       "_view_module": "@jupyter-widgets/base",
       "_view_module_version": "1.2.0",
       "_view_name": "LayoutView",
       "align_content": null,
       "align_items": null,
       "align_self": null,
       "border": null,
       "bottom": null,
       "display": null,
       "flex": null,
       "flex_flow": null,
       "grid_area": null,
       "grid_auto_columns": null,
       "grid_auto_flow": null,
       "grid_auto_rows": null,
       "grid_column": null,
       "grid_gap": null,
       "grid_row": null,
       "grid_template_areas": null,
       "grid_template_columns": null,
       "grid_template_rows": null,
       "height": null,
       "justify_content": null,
       "justify_items": null,
       "left": null,
       "margin": null,
       "max_height": null,
       "max_width": null,
       "min_height": null,
       "min_width": null,
       "object_fit": null,
       "object_position": null,
       "order": null,
       "overflow": null,
       "overflow_x": null,
       "overflow_y": null,
       "padding": null,
       "right": null,
       "top": null,
       "visibility": null,
       "width": null
      }
     },
     "54a2d6dc98b14668867cce331140e852": {
      "model_module": "@jupyter-widgets/controls",
      "model_module_version": "1.5.0",
      "model_name": "HTMLModel",
      "state": {
       "_dom_classes": [],
       "_model_module": "@jupyter-widgets/controls",
       "_model_module_version": "1.5.0",
       "_model_name": "HTMLModel",
       "_view_count": null,
       "_view_module": "@jupyter-widgets/controls",
       "_view_module_version": "1.5.0",
       "_view_name": "HTMLView",
       "description": "",
       "description_tooltip": null,
       "layout": "IPY_MODEL_eb3c2f805f864c86b81a769b674a15d4",
       "placeholder": "​",
       "style": "IPY_MODEL_e28fc37ed80d41b8a1c33856e97bcb3d",
       "value": " 7977/31698 [01:46&lt;05:01, 78.61it/s]"
      }
     },
     "5dd199be14884483ac7e52f0da7eb874": {
      "model_module": "@jupyter-widgets/controls",
      "model_module_version": "1.5.0",
      "model_name": "DescriptionStyleModel",
      "state": {
       "_model_module": "@jupyter-widgets/controls",
       "_model_module_version": "1.5.0",
       "_model_name": "DescriptionStyleModel",
       "_view_count": null,
       "_view_module": "@jupyter-widgets/base",
       "_view_module_version": "1.2.0",
       "_view_name": "StyleView",
       "description_width": ""
      }
     },
     "6af33e1f79c54898abdea830f434c3ff": {
      "model_module": "@jupyter-widgets/controls",
      "model_module_version": "1.5.0",
      "model_name": "HTMLModel",
      "state": {
       "_dom_classes": [],
       "_model_module": "@jupyter-widgets/controls",
       "_model_module_version": "1.5.0",
       "_model_name": "HTMLModel",
       "_view_count": null,
       "_view_module": "@jupyter-widgets/controls",
       "_view_module_version": "1.5.0",
       "_view_name": "HTMLView",
       "description": "",
       "description_tooltip": null,
       "layout": "IPY_MODEL_83bcd6f8a1944c53834d0b7be9bac969",
       "placeholder": "​",
       "style": "IPY_MODEL_5dd199be14884483ac7e52f0da7eb874",
       "value": " 25%"
      }
     },
     "83bcd6f8a1944c53834d0b7be9bac969": {
      "model_module": "@jupyter-widgets/base",
      "model_module_version": "1.2.0",
      "model_name": "LayoutModel",
      "state": {
       "_model_module": "@jupyter-widgets/base",
       "_model_module_version": "1.2.0",
       "_model_name": "LayoutModel",
       "_view_count": null,
       "_view_module": "@jupyter-widgets/base",
       "_view_module_version": "1.2.0",
       "_view_name": "LayoutView",
       "align_content": null,
       "align_items": null,
       "align_self": null,
       "border": null,
       "bottom": null,
       "display": null,
       "flex": null,
       "flex_flow": null,
       "grid_area": null,
       "grid_auto_columns": null,
       "grid_auto_flow": null,
       "grid_auto_rows": null,
       "grid_column": null,
       "grid_gap": null,
       "grid_row": null,
       "grid_template_areas": null,
       "grid_template_columns": null,
       "grid_template_rows": null,
       "height": null,
       "justify_content": null,
       "justify_items": null,
       "left": null,
       "margin": null,
       "max_height": null,
       "max_width": null,
       "min_height": null,
       "min_width": null,
       "object_fit": null,
       "object_position": null,
       "order": null,
       "overflow": null,
       "overflow_x": null,
       "overflow_y": null,
       "padding": null,
       "right": null,
       "top": null,
       "visibility": null,
       "width": null
      }
     },
     "88854fcdcf0f4098a8ce8cf6fcf45520": {
      "model_module": "@jupyter-widgets/base",
      "model_module_version": "1.2.0",
      "model_name": "LayoutModel",
      "state": {
       "_model_module": "@jupyter-widgets/base",
       "_model_module_version": "1.2.0",
       "_model_name": "LayoutModel",
       "_view_count": null,
       "_view_module": "@jupyter-widgets/base",
       "_view_module_version": "1.2.0",
       "_view_name": "LayoutView",
       "align_content": null,
       "align_items": null,
       "align_self": null,
       "border": null,
       "bottom": null,
       "display": null,
       "flex": null,
       "flex_flow": null,
       "grid_area": null,
       "grid_auto_columns": null,
       "grid_auto_flow": null,
       "grid_auto_rows": null,
       "grid_column": null,
       "grid_gap": null,
       "grid_row": null,
       "grid_template_areas": null,
       "grid_template_columns": null,
       "grid_template_rows": null,
       "height": null,
       "justify_content": null,
       "justify_items": null,
       "left": null,
       "margin": null,
       "max_height": null,
       "max_width": null,
       "min_height": null,
       "min_width": null,
       "object_fit": null,
       "object_position": null,
       "order": null,
       "overflow": null,
       "overflow_x": null,
       "overflow_y": null,
       "padding": null,
       "right": null,
       "top": null,
       "visibility": null,
       "width": null
      }
     },
     "9f90f4fb17a4474ba5a80190cc8647f5": {
      "model_module": "@jupyter-widgets/controls",
      "model_module_version": "1.5.0",
      "model_name": "ProgressStyleModel",
      "state": {
       "_model_module": "@jupyter-widgets/controls",
       "_model_module_version": "1.5.0",
       "_model_name": "ProgressStyleModel",
       "_view_count": null,
       "_view_module": "@jupyter-widgets/base",
       "_view_module_version": "1.2.0",
       "_view_name": "StyleView",
       "bar_color": null,
       "description_width": ""
      }
     },
     "a7355fda4dc442f9ac05fe2b89b32ae9": {
      "model_module": "@jupyter-widgets/controls",
      "model_module_version": "1.5.0",
      "model_name": "DescriptionStyleModel",
      "state": {
       "_model_module": "@jupyter-widgets/controls",
       "_model_module_version": "1.5.0",
       "_model_name": "DescriptionStyleModel",
       "_view_count": null,
       "_view_module": "@jupyter-widgets/base",
       "_view_module_version": "1.2.0",
       "_view_name": "StyleView",
       "description_width": ""
      }
     },
     "b7eea1d79e1f475e8806a8a63ac7e0d7": {
      "model_module": "@jupyter-widgets/controls",
      "model_module_version": "1.5.0",
      "model_name": "FloatProgressModel",
      "state": {
       "_dom_classes": [],
       "_model_module": "@jupyter-widgets/controls",
       "_model_module_version": "1.5.0",
       "_model_name": "FloatProgressModel",
       "_view_count": null,
       "_view_module": "@jupyter-widgets/controls",
       "_view_module_version": "1.5.0",
       "_view_name": "ProgressView",
       "bar_style": "danger",
       "description": "",
       "description_tooltip": null,
       "layout": "IPY_MODEL_bc18f58fe2144c208179cd872e2f3d97",
       "max": 31698.0,
       "min": 0.0,
       "orientation": "horizontal",
       "style": "IPY_MODEL_9f90f4fb17a4474ba5a80190cc8647f5",
       "value": 7977.0
      }
     },
     "bb4e704e76594096b2d42231a17f4e03": {
      "model_module": "@jupyter-widgets/controls",
      "model_module_version": "1.5.0",
      "model_name": "FloatProgressModel",
      "state": {
       "_dom_classes": [],
       "_model_module": "@jupyter-widgets/controls",
       "_model_module_version": "1.5.0",
       "_model_name": "FloatProgressModel",
       "_view_count": null,
       "_view_module": "@jupyter-widgets/controls",
       "_view_module_version": "1.5.0",
       "_view_name": "ProgressView",
       "bar_style": "success",
       "description": "",
       "description_tooltip": null,
       "layout": "IPY_MODEL_422997ee994f4bc28dc2ad6d16aefeb8",
       "max": 31698.0,
       "min": 0.0,
       "orientation": "horizontal",
       "style": "IPY_MODEL_d9c552ad35b54bb4a58af609f4944bde",
       "value": 31698.0
      }
     },
     "bc18f58fe2144c208179cd872e2f3d97": {
      "model_module": "@jupyter-widgets/base",
      "model_module_version": "1.2.0",
      "model_name": "LayoutModel",
      "state": {
       "_model_module": "@jupyter-widgets/base",
       "_model_module_version": "1.2.0",
       "_model_name": "LayoutModel",
       "_view_count": null,
       "_view_module": "@jupyter-widgets/base",
       "_view_module_version": "1.2.0",
       "_view_name": "LayoutView",
       "align_content": null,
       "align_items": null,
       "align_self": null,
       "border": null,
       "bottom": null,
       "display": null,
       "flex": null,
       "flex_flow": null,
       "grid_area": null,
       "grid_auto_columns": null,
       "grid_auto_flow": null,
       "grid_auto_rows": null,
       "grid_column": null,
       "grid_gap": null,
       "grid_row": null,
       "grid_template_areas": null,
       "grid_template_columns": null,
       "grid_template_rows": null,
       "height": null,
       "justify_content": null,
       "justify_items": null,
       "left": null,
       "margin": null,
       "max_height": null,
       "max_width": null,
       "min_height": null,
       "min_width": null,
       "object_fit": null,
       "object_position": null,
       "order": null,
       "overflow": null,
       "overflow_x": null,
       "overflow_y": null,
       "padding": null,
       "right": null,
       "top": null,
       "visibility": null,
       "width": null
      }
     },
     "c233e285966f4647b4a0155f4f4d5e53": {
      "model_module": "@jupyter-widgets/base",
      "model_module_version": "1.2.0",
      "model_name": "LayoutModel",
      "state": {
       "_model_module": "@jupyter-widgets/base",
       "_model_module_version": "1.2.0",
       "_model_name": "LayoutModel",
       "_view_count": null,
       "_view_module": "@jupyter-widgets/base",
       "_view_module_version": "1.2.0",
       "_view_name": "LayoutView",
       "align_content": null,
       "align_items": null,
       "align_self": null,
       "border": null,
       "bottom": null,
       "display": null,
       "flex": null,
       "flex_flow": null,
       "grid_area": null,
       "grid_auto_columns": null,
       "grid_auto_flow": null,
       "grid_auto_rows": null,
       "grid_column": null,
       "grid_gap": null,
       "grid_row": null,
       "grid_template_areas": null,
       "grid_template_columns": null,
       "grid_template_rows": null,
       "height": null,
       "justify_content": null,
       "justify_items": null,
       "left": null,
       "margin": null,
       "max_height": null,
       "max_width": null,
       "min_height": null,
       "min_width": null,
       "object_fit": null,
       "object_position": null,
       "order": null,
       "overflow": null,
       "overflow_x": null,
       "overflow_y": null,
       "padding": null,
       "right": null,
       "top": null,
       "visibility": null,
       "width": null
      }
     },
     "cdc545ad1a514c0aba96eeccea65a401": {
      "model_module": "@jupyter-widgets/controls",
      "model_module_version": "1.5.0",
      "model_name": "DescriptionStyleModel",
      "state": {
       "_model_module": "@jupyter-widgets/controls",
       "_model_module_version": "1.5.0",
       "_model_name": "DescriptionStyleModel",
       "_view_count": null,
       "_view_module": "@jupyter-widgets/base",
       "_view_module_version": "1.2.0",
       "_view_name": "StyleView",
       "description_width": ""
      }
     },
     "d4981567f25044c3a6d6b5435edc2f4b": {
      "model_module": "@jupyter-widgets/controls",
      "model_module_version": "1.5.0",
      "model_name": "HTMLModel",
      "state": {
       "_dom_classes": [],
       "_model_module": "@jupyter-widgets/controls",
       "_model_module_version": "1.5.0",
       "_model_name": "HTMLModel",
       "_view_count": null,
       "_view_module": "@jupyter-widgets/controls",
       "_view_module_version": "1.5.0",
       "_view_name": "HTMLView",
       "description": "",
       "description_tooltip": null,
       "layout": "IPY_MODEL_2ac843642b9d4da392d20f9ac10c106c",
       "placeholder": "​",
       "style": "IPY_MODEL_cdc545ad1a514c0aba96eeccea65a401",
       "value": "100%"
      }
     },
     "d56a4d2a34574abb9165571e2e2caf1c": {
      "model_module": "@jupyter-widgets/base",
      "model_module_version": "1.2.0",
      "model_name": "LayoutModel",
      "state": {
       "_model_module": "@jupyter-widgets/base",
       "_model_module_version": "1.2.0",
       "_model_name": "LayoutModel",
       "_view_count": null,
       "_view_module": "@jupyter-widgets/base",
       "_view_module_version": "1.2.0",
       "_view_name": "LayoutView",
       "align_content": null,
       "align_items": null,
       "align_self": null,
       "border": null,
       "bottom": null,
       "display": null,
       "flex": null,
       "flex_flow": null,
       "grid_area": null,
       "grid_auto_columns": null,
       "grid_auto_flow": null,
       "grid_auto_rows": null,
       "grid_column": null,
       "grid_gap": null,
       "grid_row": null,
       "grid_template_areas": null,
       "grid_template_columns": null,
       "grid_template_rows": null,
       "height": null,
       "justify_content": null,
       "justify_items": null,
       "left": null,
       "margin": null,
       "max_height": null,
       "max_width": null,
       "min_height": null,
       "min_width": null,
       "object_fit": null,
       "object_position": null,
       "order": null,
       "overflow": null,
       "overflow_x": null,
       "overflow_y": null,
       "padding": null,
       "right": null,
       "top": null,
       "visibility": null,
       "width": null
      }
     },
     "d9178eeee16641e980e784f1185eb3b1": {
      "model_module": "@jupyter-widgets/controls",
      "model_module_version": "1.5.0",
      "model_name": "HBoxModel",
      "state": {
       "_dom_classes": [],
       "_model_module": "@jupyter-widgets/controls",
       "_model_module_version": "1.5.0",
       "_model_name": "HBoxModel",
       "_view_count": null,
       "_view_module": "@jupyter-widgets/controls",
       "_view_module_version": "1.5.0",
       "_view_name": "HBoxView",
       "box_style": "",
       "children": [
        "IPY_MODEL_d4981567f25044c3a6d6b5435edc2f4b",
        "IPY_MODEL_bb4e704e76594096b2d42231a17f4e03",
        "IPY_MODEL_f649599c9bc84a478ad39bb2ceb1d1e1"
       ],
       "layout": "IPY_MODEL_d56a4d2a34574abb9165571e2e2caf1c"
      }
     },
     "d9c552ad35b54bb4a58af609f4944bde": {
      "model_module": "@jupyter-widgets/controls",
      "model_module_version": "1.5.0",
      "model_name": "ProgressStyleModel",
      "state": {
       "_model_module": "@jupyter-widgets/controls",
       "_model_module_version": "1.5.0",
       "_model_name": "ProgressStyleModel",
       "_view_count": null,
       "_view_module": "@jupyter-widgets/base",
       "_view_module_version": "1.2.0",
       "_view_name": "StyleView",
       "bar_color": null,
       "description_width": ""
      }
     },
     "e28fc37ed80d41b8a1c33856e97bcb3d": {
      "model_module": "@jupyter-widgets/controls",
      "model_module_version": "1.5.0",
      "model_name": "DescriptionStyleModel",
      "state": {
       "_model_module": "@jupyter-widgets/controls",
       "_model_module_version": "1.5.0",
       "_model_name": "DescriptionStyleModel",
       "_view_count": null,
       "_view_module": "@jupyter-widgets/base",
       "_view_module_version": "1.2.0",
       "_view_name": "StyleView",
       "description_width": ""
      }
     },
     "eb3c2f805f864c86b81a769b674a15d4": {
      "model_module": "@jupyter-widgets/base",
      "model_module_version": "1.2.0",
      "model_name": "LayoutModel",
      "state": {
       "_model_module": "@jupyter-widgets/base",
       "_model_module_version": "1.2.0",
       "_model_name": "LayoutModel",
       "_view_count": null,
       "_view_module": "@jupyter-widgets/base",
       "_view_module_version": "1.2.0",
       "_view_name": "LayoutView",
       "align_content": null,
       "align_items": null,
       "align_self": null,
       "border": null,
       "bottom": null,
       "display": null,
       "flex": null,
       "flex_flow": null,
       "grid_area": null,
       "grid_auto_columns": null,
       "grid_auto_flow": null,
       "grid_auto_rows": null,
       "grid_column": null,
       "grid_gap": null,
       "grid_row": null,
       "grid_template_areas": null,
       "grid_template_columns": null,
       "grid_template_rows": null,
       "height": null,
       "justify_content": null,
       "justify_items": null,
       "left": null,
       "margin": null,
       "max_height": null,
       "max_width": null,
       "min_height": null,
       "min_width": null,
       "object_fit": null,
       "object_position": null,
       "order": null,
       "overflow": null,
       "overflow_x": null,
       "overflow_y": null,
       "padding": null,
       "right": null,
       "top": null,
       "visibility": null,
       "width": null
      }
     },
     "f649599c9bc84a478ad39bb2ceb1d1e1": {
      "model_module": "@jupyter-widgets/controls",
      "model_module_version": "1.5.0",
      "model_name": "HTMLModel",
      "state": {
       "_dom_classes": [],
       "_model_module": "@jupyter-widgets/controls",
       "_model_module_version": "1.5.0",
       "_model_name": "HTMLModel",
       "_view_count": null,
       "_view_module": "@jupyter-widgets/controls",
       "_view_module_version": "1.5.0",
       "_view_name": "HTMLView",
       "description": "",
       "description_tooltip": null,
       "layout": "IPY_MODEL_88854fcdcf0f4098a8ce8cf6fcf45520",
       "placeholder": "​",
       "style": "IPY_MODEL_a7355fda4dc442f9ac05fe2b89b32ae9",
       "value": " 31698/31698 [09:34&lt;00:00, 57.44it/s]"
      }
     }
    },
    "version_major": 2,
    "version_minor": 0
   }
  }
 },
 "nbformat": 4,
 "nbformat_minor": 5
}
