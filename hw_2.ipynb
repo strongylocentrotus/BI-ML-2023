{
  "cells": [
    {
      "cell_type": "markdown",
      "metadata": {
        "id": "view-in-github",
        "colab_type": "text"
      },
      "source": [
        "<a href=\"https://colab.research.google.com/github/strongylocentrotus/BI-ML-2023/blob/hw_2/hw_2.ipynb\" target=\"_parent\"><img src=\"https://colab.research.google.com/assets/colab-badge.svg\" alt=\"Open In Colab\"/></a>"
      ]
    },
    {
      "cell_type": "markdown",
      "id": "88fe2596-8e7c-4c97-b347-7468994508f8",
      "metadata": {
        "id": "88fe2596-8e7c-4c97-b347-7468994508f8"
      },
      "source": [
        "# Домашнее задание №2 - Линейные модели. Градиентный спуск"
      ]
    },
    {
      "cell_type": "markdown",
      "id": "44123a57-0d05-4714-8fec-f4f4c6d254e0",
      "metadata": {
        "id": "44123a57-0d05-4714-8fec-f4f4c6d254e0"
      },
      "source": [
        "В этом домашнем задании мы с вами научимся обучать линейные модели регрессии и классификации при помощи очень мощного, но в то же время довольно понятного алгоритма, который называется **градиетный спуск**. Помимо линейных моделей он используется и для обучения самых сложных нейронных сетей! Также мы потренируемся применять готовые реализации линейных моделей для задач регрессии и бинарной классификации."
      ]
    },
    {
      "cell_type": "code",
      "execution_count": null,
      "id": "a204ec7b-1f3c-439c-8a9e-0abbe270e696",
      "metadata": {
        "id": "a204ec7b-1f3c-439c-8a9e-0abbe270e696"
      },
      "outputs": [],
      "source": [
        "import numpy as np\n",
        "import matplotlib.pyplot as plt\n",
        "import numpy as np\n",
        "import seaborn as sns\n",
        "import random\n",
        "import pandas as pd\n",
        "\n",
        "from matplotlib import cm\n",
        "from mpl_toolkits.mplot3d import Axes3D\n",
        "from sklearn.exceptions import NotFittedError\n",
        "from sklearn.linear_model import (LinearRegression,\n",
        "                                  LogisticRegression)\n",
        "from sklearn.datasets import fetch_california_housing\n",
        "from sklearn.preprocessing import StandardScaler\n",
        "from sklearn.pipeline import Pipeline\n",
        "from sklearn.datasets import make_classification\n",
        "from sklearn.metrics import (r2_score,ConfusionMatrixDisplay,\n",
        "                             RocCurveDisplay,\n",
        "                             roc_auc_score,\n",
        "                             mean_squared_error)\n",
        "from sklearn.model_selection import train_test_split"
      ]
    },
    {
      "cell_type": "code",
      "execution_count": null,
      "id": "340f9411-bcff-4fae-a4a7-3c42361de2f4",
      "metadata": {
        "id": "340f9411-bcff-4fae-a4a7-3c42361de2f4"
      },
      "outputs": [],
      "source": [
        "plt.rcParams[\"figure.figsize\"] = 12, 9\n",
        "sns.set_style(\"whitegrid\")\n",
        "\n",
        "SEED = 111\n",
        "random.seed(SEED)\n",
        "np.random.seed(SEED)"
      ]
    },
    {
      "cell_type": "markdown",
      "id": "585743eb-64a7-473e-832d-4e11ffb6ba87",
      "metadata": {
        "id": "585743eb-64a7-473e-832d-4e11ffb6ba87"
      },
      "source": [
        "#### Маленькое теоретическое отступление\n",
        "\n",
        "Основное свойство антиградиента (-1 * градиент) &ndash; он указывает в сторону наискорейшего убывания функции в данной точке. Соответственно, будет логично стартовать из некоторой точки, сдвинуться в сторону антиградиента, пересчитать антиградиент и снова сдвинуться в его сторону и т.д. Запишем это более формально.\n",
        "\n",
        "Пусть $w_0$ &ndash; начальный набор параметров (коэффициентов линейной модели) ((например, нулевой или сгенерированный из некоторого, случайного распределения)). Тогда обычный градиентный спуск состоит в повторении следующих шагов до сходимости:\n",
        "\n",
        "\n",
        "$$\n",
        "    w_{k + 1} = w_{k} - \\eta \\nabla_{w} Q(w_{k}),\n",
        "$$\n",
        "\n",
        "где $\\nabla_{w} Q(w_{k})$ &ndash; градиент функции потерь в точке $w_k$, а $\\eta$ &ndash; скорость обучения (learning rate).\n",
        "\n",
        "Градиентный спуск обычно останавливают, когда прошло заданное максимальное количество итераций или когда графиент близок к нулю (т.е. наши параметры практически не меняются). Для реализации второго варианта считают норму градиента (по сути длину вектора). Это можно сделать несколькими способами:\n",
        "\n",
        "$$\n",
        "l1_{norm} = \\sum{|w_i|}\n",
        "$$\n",
        "\n",
        "$$\n",
        "l2_{norm} = \\sum{(w_i)^{2}}\n",
        "$$\n",
        "\n",
        "Попробуем разобраться на простом примере. Рассмотрим функцию от двух переменных:\n",
        "$f(x, y) = \\sin^2 x + \\sin^2 y$"
      ]
    },
    {
      "cell_type": "code",
      "execution_count": null,
      "id": "cb249259-87ef-456f-a904-402b90c82521",
      "metadata": {
        "id": "cb249259-87ef-456f-a904-402b90c82521"
      },
      "outputs": [],
      "source": [
        "def f(w):\n",
        "    \"\"\"\n",
        "    :param w: np.array(np.float) вектор из 2-х элементов\n",
        "    :return: np.float\n",
        "    \"\"\"\n",
        "    \n",
        "    return np.sum(np.sin(w)**2)"
      ]
    },
    {
      "cell_type": "markdown",
      "id": "115abe74-2f98-4a02-858b-2693dec08355",
      "metadata": {
        "id": "115abe74-2f98-4a02-858b-2693dec08355"
      },
      "source": [
        "Обратите внимание, что $x$ - numpy-array вектор длины 2."
      ]
    },
    {
      "cell_type": "markdown",
      "id": "635ed65b-4e40-4924-924b-54253bb8c6d9",
      "metadata": {
        "id": "635ed65b-4e40-4924-924b-54253bb8c6d9"
      },
      "source": [
        "***Reminder:***  \n",
        "Что мы хотим? Мы хотим найти минимум этой функции (в машинном обучении мы обычно хотим найти минимум **функции потерь**, например, MSE), а точнее найти $w_1$ и $w_2$ такие, что при них значение $f(w_1, w_2)$ минимально, то есть *точку экстремума*.  \n",
        "  \n",
        "Как мы будем искать эту точку? Используем методы оптимизации (в нашем случае - *минимизации*). Одним из таких методов и является **градиентный спуск**."
      ]
    },
    {
      "cell_type": "markdown",
      "id": "27c32299-e7e3-4600-bf00-064d197f6864",
      "metadata": {
        "id": "27c32299-e7e3-4600-bf00-064d197f6864"
      },
      "source": [
        "### Задание 1. Градиентный спуск для функции $f$ (1 балл)"
      ]
    },
    {
      "cell_type": "markdown",
      "id": "c2262d3e-8f6f-4921-af13-e74e4c4e6bbb",
      "metadata": {
        "id": "c2262d3e-8f6f-4921-af13-e74e4c4e6bbb"
      },
      "source": [
        "Реализуйте функцию, которая будет осуществлять градиентный спуск для функции $f$:\n",
        "\n",
        "*Примечание:* Вам нужно посчитать частные производные именно **аналитически** и **переписать их в код**, а не считать производные численно (через отношение приращения функции к приращению аргумента) -- в этих двух случаях могут различаться ответы, поэтому будьте внимательны."
      ]
    },
    {
      "cell_type": "code",
      "execution_count": null,
      "id": "aa083d99-7a02-4b6e-8548-9c9ebee381c7",
      "metadata": {
        "id": "aa083d99-7a02-4b6e-8548-9c9ebee381c7"
      },
      "outputs": [],
      "source": [
        "def grad_f(w): \n",
        "    \"\"\"\n",
        "    Градиент функциии f, определенной выше.\n",
        "        :param w: np.array[2]: float вектор из 2-х элементов\n",
        "        :return: np.array[2]: float вектор из 2-х элементов\n",
        "    \"\"\"\n",
        "    \n",
        "    return np.array([np.cos(w[0])*np.sin(w[0])*2, np.cos(w[1])*np.sin(w[1])*2])"
      ]
    },
    {
      "cell_type": "markdown",
      "id": "9d184304-6bbd-4626-93c1-56e62fc9f343",
      "metadata": {
        "id": "9d184304-6bbd-4626-93c1-56e62fc9f343"
      },
      "source": [
        "Проверим, что градиент принимает вектор из двух чисел и выдает на этой точке верное значение"
      ]
    },
    {
      "cell_type": "code",
      "execution_count": null,
      "id": "29698da3-07ca-45f6-baff-dd49c82db8c8",
      "metadata": {
        "id": "29698da3-07ca-45f6-baff-dd49c82db8c8"
      },
      "outputs": [],
      "source": [
        "assert np.allclose(grad_f(np.array([1, 2])), \n",
        "                   np.array([0.90929743, -0.7568025])), \"Что-то не так!\""
      ]
    },
    {
      "cell_type": "code",
      "execution_count": null,
      "id": "0088604b-1d75-4d83-bda8-0d08e909c2cb",
      "metadata": {
        "id": "0088604b-1d75-4d83-bda8-0d08e909c2cb"
      },
      "outputs": [],
      "source": [
        "def grad_descent_2d(f, grad_f, lr, num_iter=100, x0=None):\n",
        "    \"\"\"\n",
        "    Функция, которая реализует градиентный спуск в минимум для функции f от двух переменных. \n",
        "        :param f: скалярная функция двух переменных\n",
        "        :param grad_f: функция, возвращающая градиент функции f (устроена как реализованная вами выше grad_f)\n",
        "        :param lr: learning rate алгоритма\n",
        "        :param num_iter: количество итераций градиентного спуска\n",
        "        :return: np.array[num_iter, 2] пар вида (x, f(x))\n",
        "    \"\"\"\n",
        "    \n",
        "    w0 = np.random.random(2)\n",
        "\n",
        "    # будем сохранять значения аргументов и значений функции \n",
        "    # в процессе град. спуска в переменную history\n",
        "    history = []\n",
        "\n",
        "    # итерация цикла == шаг градиентнго спуска\n",
        "    curr_w = w0.copy()\n",
        "    for iter_num in range(num_iter):\n",
        "        entry = np.hstack((curr_w, f(curr_w)))\n",
        "        history.append(entry)\n",
        "    \n",
        "        curr_w -= lr * grad_f(curr_w)\n",
        "\n",
        "    return np.vstack(history)"
      ]
    },
    {
      "cell_type": "markdown",
      "id": "01ec67a6-4bac-4d6f-808d-6551cf7a32b4",
      "metadata": {
        "id": "01ec67a6-4bac-4d6f-808d-6551cf7a32b4"
      },
      "source": [
        "Визуализируем точки градиентного спуска на 3D-графике нашей функции. Звездочками будут обозначены точки (тройки $w_1, w_2, f(w_1, w_2)$), по которым Ваш алгоритм градиентного спуска двигался к минимуму (Для того, чтобы написовать этот график, мы и сохраняли значения $cur\\_w_1, cur\\_w_2, f(cur\\_w_1, cur\\_w_2)$ в `steps` в процессе спуска).\n",
        "\n",
        "Если у Вас правильно написана функция `grad_descent_2d`, то звездочки на картинке должны сходиться к одной из точек минимума функции. Вы можете менять начальные приближения алгоритма, значения `lr` и `num_iter` и получать разные результаты."
      ]
    },
    {
      "cell_type": "code",
      "execution_count": null,
      "id": "67bda638-aa89-4e33-a4cd-bfd52a3178e7",
      "metadata": {
        "id": "67bda638-aa89-4e33-a4cd-bfd52a3178e7"
      },
      "outputs": [],
      "source": [
        "def gradient_desc_vis(f, grad_f, lr=0.1, num_iter=20):\n",
        "    steps = grad_descent_2d(f, grad_f, lr=lr, num_iter=num_iter)\n",
        "    \n",
        "    X, Y = np.meshgrid(np.linspace(-3, 3, 100), np.linspace(-3, 3, 100))\n",
        "\n",
        "    fig = plt.figure(figsize=(16, 10))\n",
        "    ax = fig.add_subplot(projection=\"3d\")\n",
        "\n",
        "    zs = np.array([f(np.array([x,y]))\n",
        "                  for x, y in zip(np.ravel(X), np.ravel(Y))])\n",
        "    Z = zs.reshape(X.shape)\n",
        "\n",
        "\n",
        "    ax.plot_surface(X, Y, Z, cmap=cm.coolwarm, zorder=2)\n",
        "\n",
        "    ax.plot(xs=steps[:, 0], ys=steps[:, 1], zs=steps[:, 2],\n",
        "            marker=\"*\", markersize=20, zorder=3, \n",
        "            markerfacecolor=\"y\", lw=3, c=\"black\")\n",
        "\n",
        "    ax.set_zlim(0, 5)\n",
        "    ax.view_init(elev=60)\n",
        "    plt.show()\n",
        "    \n",
        "    return steps"
      ]
    },
    {
      "cell_type": "code",
      "execution_count": null,
      "id": "6d61bf52-070a-49af-b6a1-20f8777cd99b",
      "metadata": {
        "colab": {
          "base_uri": "https://localhost:8080/",
          "height": 584
        },
        "id": "6d61bf52-070a-49af-b6a1-20f8777cd99b",
        "outputId": "88c807bc-b921-4a40-91f1-0e2231b41ba5"
      },
      "outputs": [
        {
          "output_type": "display_data",
          "data": {
            "text/plain": [
              "<Figure size 1152x720 with 1 Axes>"
            ],
            "image/png": "[encoded data removed]"
          },
          "metadata": {}
        }
      ],
      "source": [
        "steps = gradient_desc_vis(f, grad_f)"
      ]
    },
    {
      "cell_type": "markdown",
      "id": "9926b095-f101-4a0d-b480-e5b1e98e082e",
      "metadata": {
        "id": "9926b095-f101-4a0d-b480-e5b1e98e082e"
      },
      "source": [
        "Посмотрим на зависимость значения функции от шага градиентного спуска."
      ]
    },
    {
      "cell_type": "code",
      "execution_count": null,
      "id": "502f4b3e-bce5-42d8-a91b-34c7591bf830",
      "metadata": {
        "colab": {
          "base_uri": "https://localhost:8080/",
          "height": 458
        },
        "id": "502f4b3e-bce5-42d8-a91b-34c7591bf830",
        "outputId": "07e1460c-70ef-4e6f-fe8e-dd6f66b4229d"
      },
      "outputs": [
        {
          "output_type": "display_data",
          "data": {
            "text/plain": [
              "<Figure size 1008x504 with 1 Axes>"
            ],
            "image/png": "[encoded data removed]"
          },
          "metadata": {}
        }
      ],
      "source": [
        "plt.figure(figsize=(14,7))\n",
        "plt.xlabel(\"grad descent step number\")\n",
        "plt.ylabel(\"$f(x)$\")\n",
        "plt.title(\"Значение функции на каждом шаге гардиентного спуска.\")\n",
        "\n",
        "f_values = list(map(lambda x: x[2], steps))\n",
        "plt.plot(f_values, label=\"gradient descent result\")\n",
        "plt.legend();"
      ]
    },
    {
      "cell_type": "markdown",
      "id": "b861f39c-8850-42db-9e9f-23e96652c376",
      "metadata": {
        "id": "b861f39c-8850-42db-9e9f-23e96652c376"
      },
      "source": [
        "### Задание 2. Реализация линейной регресии (суммарно 9 баллов)"
      ]
    },
    {
      "cell_type": "markdown",
      "id": "357ad605-faf2-4a3a-9d6f-aad2f6a452d4",
      "metadata": {
        "id": "357ad605-faf2-4a3a-9d6f-aad2f6a452d4"
      },
      "source": [
        "Так как мы будем использовать градиентный спуск для обучения модели, важной часть является реализация функции потерь и функции для расчета ее градиента. Перем началом стоит напомнить, как считать градиент MSE. Вывод этой формулы можно найти  [здесь](https://medium.com/analytics-vidhya/linear-regression-gradient-descent-intuition-and-math-c9a8f5aeeb22)\n",
        "\n",
        "$$\n",
        "    MSE = \\frac{1}{N}\\sum(y_{true} - y_{pred}) ^ 2\n",
        "$$\n",
        "\n",
        "$$\n",
        "    \\nabla{MSE} = \\frac{2}{N} X^T (y_{pred} - y_{true})\n",
        "$$\n",
        "\n",
        "Здесь имеется в виду именно матричное умножение."
      ]
    },
    {
      "cell_type": "markdown",
      "id": "b008e5f3-f2d8-4807-812f-ca2d8b3a5bc5",
      "metadata": {
        "id": "b008e5f3-f2d8-4807-812f-ca2d8b3a5bc5"
      },
      "source": [
        "#### Задание 2.1. MSE и ее градиент (2 балла)"
      ]
    },
    {
      "cell_type": "code",
      "execution_count": null,
      "id": "d96e3cf7-2c6c-4572-a5d8-add05e952bf7",
      "metadata": {
        "id": "d96e3cf7-2c6c-4572-a5d8-add05e952bf7"
      },
      "outputs": [],
      "source": [
        "def mse(y_true, y_pred):\n",
        "    \"\"\"\n",
        "    Функция потерь MSE.\n",
        "        :param y_true: np.array[n_samples]: вектор из правильных ответов\n",
        "        :param y_pred: np.array[n_samples]: вектор из предсказаний модели\n",
        "        :return: значение функции потерь\n",
        "    \"\"\"\n",
        "    \n",
        "      \n",
        "    if  y_true.shape[0] != y_pred.shape[0]:\n",
        "        raise ValueError(\"Number of samples in both vectors should be equal\")\n",
        "        \n",
        "    return np.sum((y_true - y_pred)**2)/len(y_true)\n",
        "\n",
        "\n",
        "def mse_grad(y_true, y_pred, X):\n",
        "    \"\"\"\n",
        "    Функция для расчета градиента MSE.\n",
        "        :param y_true: np.array[n_samples]: вектор из правильных ответов\n",
        "        :param y_pred: np.array[n_samples]: вектор из предсказаний модели\n",
        "        :param X: np.array[n_samples, n_features]: матрица объекты x признаки\n",
        "        :return: градиент функции потерь MSE\n",
        "    \"\"\"\n",
        "    \n",
        "    if  y_true.shape[0] != y_pred.shape[0]:\n",
        "        raise ValueError(\"Number of samples in both vectors should be equal\")\n",
        "        \n",
        "    return 2*(X.T @ (y_pred - y_true))/len(y_true)\n",
        "\n",
        "\n",
        "class MSELoss:\n",
        "    \"\"\"\n",
        "    Класс, реализующий функцию потерь MSE. Нужен для того, чтобы\n",
        "    объединять в одном месте функцию потерь и градиент для нее.\n",
        "    \"\"\"\n",
        "    \n",
        "    def __call__(self, y_true, y_pred):\n",
        "        return mse(y_true, y_pred)\n",
        "    \n",
        "    def calculate_gradient(self, y_true, y_pred, X):\n",
        "        return mse_grad(y_true, y_pred, X)"
      ]
    },
    {
      "cell_type": "markdown",
      "id": "1f7728e2-91bb-4925-9ebd-066f51a45a3b",
      "metadata": {
        "id": "1f7728e2-91bb-4925-9ebd-066f51a45a3b"
      },
      "source": [
        "Мы будем использовать следующий класс для расчета градиента наших функций потерь:"
      ]
    },
    {
      "cell_type": "code",
      "execution_count": null,
      "id": "de02bf42-aa5e-473e-811d-d0f203228c8e",
      "metadata": {
        "id": "de02bf42-aa5e-473e-811d-d0f203228c8e"
      },
      "outputs": [],
      "source": [
        "class BasicGradientDescent:\n",
        "    \"\"\"\n",
        "    Класс, позволяющий делать шаги градиентного спуска,\n",
        "    а также рассчитывающих норму градиента.\n",
        "    \"\"\"\n",
        "    \n",
        "    def __init__(self, loss_function, grad_norm):\n",
        "        self.loss = loss_function\n",
        "        self.grad_norm = grad_norm\n",
        "        \n",
        "    \n",
        "    def step(self, y, y_pred, X):\n",
        "        grad_i = self.loss.calculate_gradient(y, y_pred, X)\n",
        "        grad_i_norm = self._calculate_grad_norm(grad_i)\n",
        "        \n",
        "        return grad_i, grad_i_norm\n",
        "            \n",
        "            \n",
        "    def _calculate_grad_norm(self, grad_i):\n",
        "        if self.grad_norm == \"l1\":\n",
        "            return np.abs(grad_i).sum()\n",
        "        elif self.grad_norm == \"l2\":\n",
        "            return np.sqrt(np.square(grad_i).sum())\n",
        "        else:\n",
        "            raise ValueError(f\"I can't calculate {self.grad_norm} norm of gradient\")"
      ]
    },
    {
      "cell_type": "markdown",
      "id": "d9efeb62-1226-4816-ad30-856ca0ac7dcb",
      "metadata": {
        "id": "d9efeb62-1226-4816-ad30-856ca0ac7dcb"
      },
      "source": [
        "В данном задании нужно будет реализовать линейную регрессию и обучить ее при помощи градиентного спуска. Для этого нужно будет заполнять пропуски кода в соответствующих классах. Для начала мы реализуем базовый класс для всех линейных моделей, от которого потом будем наследоваться при реализации линейной и логистической регресий. Не переживайте, этот класс уже реализован, вам достостаточно просто разобраться с кодом."
      ]
    },
    {
      "cell_type": "code",
      "execution_count": null,
      "id": "a064fe6a-9ffa-4cb2-8418-b9a0d4c21b0b",
      "metadata": {
        "id": "a064fe6a-9ffa-4cb2-8418-b9a0d4c21b0b"
      },
      "outputs": [],
      "source": [
        "class BaseLinearModel:\n",
        "    \"\"\"\n",
        "    Класс, который представляет из себя базовую линейную модель, наследуюясь от которого, мы будем\n",
        "    реализовывать линейную и логистическую регрессии.\n",
        "    \"\"\"\n",
        "    \n",
        "    def __init__(self, learning_rate, \n",
        "                 loss_function, fit_intercept,\n",
        "                 n_iter, tol, optimizer, grad_norm):\n",
        "        \"\"\"\n",
        "        Конструктор нашего класса. \n",
        "            :param learning_rate: скорость обучения\n",
        "            :param loss_function: функция потерь (MSE или кросс-энтропия)\n",
        "            :param fit_intercept: нужно ли нам включать свободных член в модель\n",
        "            :param n_iter: количество итераций градиентного спуска\n",
        "            :param tol: параметр для остановки градиентного спуска,\n",
        "                        если норма градиента (l1 или l2) меньше tol, то останавливаемся\n",
        "            :param optimizer: класс, который будет рассчитывать градиент и его норму\n",
        "            :param grad_norm: тип нормы градиента l1 или l2\n",
        "        \"\"\"\n",
        "        \n",
        "        self.learning_rate = learning_rate\n",
        "        self.loss = loss_function\n",
        "        self.fit_intercept = fit_intercept\n",
        "        self.n_iter = n_iter\n",
        "        self.tol = tol\n",
        "        self.grad_norm = grad_norm\n",
        "        self.optimizer = optimizer(loss_function, grad_norm)\n",
        "        \n",
        "        # В начале параметры модели не заданы\n",
        "        self.W = None\n",
        "        \n",
        "        \n",
        "    def fit(self, X, y):\n",
        "        \"\"\"\n",
        "        Метод для обучения нашей модели \n",
        "            :param X: матрица объекты x признаки\n",
        "            :param y: вектор значений целевой переменной\n",
        "            :return: обученная модель\n",
        "        \"\"\"\n",
        "        \n",
        "        # Сделаем из y вектор-столбец (n_samples, 1)\n",
        "        y = y.reshape(-1, 1)\n",
        "        n_samples = X.shape[0]\n",
        "        \n",
        "        # Добавим колонку из 1 в матрицу X\n",
        "        if self.fit_intercept:\n",
        "            ones_column = np.ones((n_samples, 1))\n",
        "            X_new = np.hstack((ones_column, X))\n",
        "        \n",
        "        n_features = X_new.shape[1]\n",
        "        \n",
        "        # Инициализируем веса модели\n",
        "        if self.W is None:\n",
        "            self.W = np.random.randn(n_features, 1)\n",
        "        \n",
        "        # Обучаем модель градиентным спуском\n",
        "        for i in range(self.n_iter):\n",
        "            y_pred = self.predict(X)\n",
        "            grad_i, grad_i_norm = self.optimizer.step(y, y_pred, X_new)\n",
        "            \n",
        "            # Если градиент близок к 0, останавливаемся\n",
        "            if grad_i_norm <= self.tol:\n",
        "                return self\n",
        "            \n",
        "            else:\n",
        "                self.W -= self.learning_rate * grad_i\n",
        "        \n",
        "        return self\n",
        "    \n",
        "    \n",
        "    def predict(self, X):\n",
        "        raise NotImplementedError(\"It is a basic class for all linear models. You should implement it for descendant class.\")\n",
        "    \n",
        "    \n",
        "    def __repr__(self):\n",
        "        return \"Base linear model without prediction skill :(\""
      ]
    },
    {
      "cell_type": "markdown",
      "id": "a07f9ba2-ea51-4bd1-a809-cb3d725cb633",
      "metadata": {
        "id": "a07f9ba2-ea51-4bd1-a809-cb3d725cb633"
      },
      "source": [
        "#### Задание 2.2. Предсказания линейной регрессии (3 балла)\n",
        "\n",
        "Реализуйте метод `predict` у класса `CustomLinearRegression`, не забудьте про свободный член!"
      ]
    },
    {
      "cell_type": "code",
      "execution_count": null,
      "id": "57bf7176-1acf-42ec-9689-d8667ba49ce6",
      "metadata": {
        "id": "57bf7176-1acf-42ec-9689-d8667ba49ce6"
      },
      "outputs": [],
      "source": [
        "class CustomLinearRegression(BaseLinearModel):\n",
        "    def __init__(self, learning_rate: float = 1e-2, \n",
        "                 loss_function=MSELoss(), fit_intercept=True,\n",
        "                 n_iter=1000, tol=1e-5, optimizer=BasicGradientDescent, grad_norm=\"l1\"):\n",
        "        \n",
        "        # Если вы не проходили наследование и в частности `super`, то не страшно\n",
        "        # коротко, с помощью этого мы можем вызывать методы родительского класса\n",
        "        # в частности здесь мы используем метод `init`\n",
        "        super().__init__(learning_rate=learning_rate, \n",
        "                         loss_function=loss_function, fit_intercept=fit_intercept,\n",
        "                         n_iter=n_iter, tol=tol, optimizer=optimizer, grad_norm=grad_norm)\n",
        "        \n",
        "    \n",
        "    def predict(self, X_test):\n",
        "        \"\"\"\n",
        "        Метод для вычисления предсказаний \n",
        "            :param X_test: np.array[n_test_samples, n_features]: \n",
        "                           матрица объекты x признаки (тестовый датасет)\n",
        "            :return: y_pred: np.array[n_test_samples, 1]: предсказания модели\n",
        "        \"\"\"\n",
        "        \n",
        "        if self.W is None:\n",
        "            raise NotFittedError(\"This CustomLinearRegression instance is not fitted yet, run fit method.\")\n",
        "        \n",
        "        n_test_samples = X_test.shape[0]\n",
        "        if self.fit_intercept:\n",
        "            ones_column = np.ones((n_test_samples, 1))\n",
        "            X_test = np.hstack((ones_column, X_test))\n",
        "            \n",
        "        return X_test @ self.W\n",
        "    \n",
        "    \n",
        "    def __repr__(self):\n",
        "        return \"My custom linear regression\""
      ]
    },
    {
      "cell_type": "markdown",
      "id": "a20d6bd1-9d65-4e54-b817-a64358a9dfee",
      "metadata": {
        "id": "a20d6bd1-9d65-4e54-b817-a64358a9dfee"
      },
      "source": [
        "##### Проверим нашу реализацию на простом примере"
      ]
    },
    {
      "cell_type": "code",
      "execution_count": null,
      "id": "e35eaf43-d38f-40d6-b901-b7daa2741dcc",
      "metadata": {
        "id": "e35eaf43-d38f-40d6-b901-b7daa2741dcc"
      },
      "outputs": [],
      "source": [
        "X = np.random.randn(100, 1)\n",
        "y = 2 * X + 5 + 0.5 * np.random.randn(100, 1)"
      ]
    },
    {
      "cell_type": "code",
      "execution_count": null,
      "id": "f3c2603a-85a5-4ae1-8c1d-0174680e80c1",
      "metadata": {
        "colab": {
          "base_uri": "https://localhost:8080/",
          "height": 537
        },
        "id": "f3c2603a-85a5-4ae1-8c1d-0174680e80c1",
        "outputId": "f43c09dd-001c-449f-9555-3b01ab1bbcf8"
      },
      "outputs": [
        {
          "output_type": "display_data",
          "data": {
            "text/plain": [
              "<Figure size 864x648 with 1 Axes>"
            ],
            "image/png": "[encoded data removed]"
          },
          "metadata": {}
        }
      ],
      "source": [
        "plt.scatter(X, y);"
      ]
    },
    {
      "cell_type": "code",
      "execution_count": null,
      "id": "0e126a10-449d-4d6a-b752-986e9b8bab88",
      "metadata": {
        "id": "0e126a10-449d-4d6a-b752-986e9b8bab88"
      },
      "outputs": [],
      "source": [
        "custom_lin_reg = CustomLinearRegression()"
      ]
    },
    {
      "cell_type": "code",
      "execution_count": null,
      "id": "ae63e50e-4ae6-4fc0-8121-03758417e233",
      "metadata": {
        "colab": {
          "base_uri": "https://localhost:8080/"
        },
        "id": "ae63e50e-4ae6-4fc0-8121-03758417e233",
        "outputId": "de77eba8-f92c-438f-e099-1f3bc4e3f57a"
      },
      "outputs": [
        {
          "output_type": "execute_result",
          "data": {
            "text/plain": [
              "My custom linear regression"
            ]
          },
          "metadata": {},
          "execution_count": 20
        }
      ],
      "source": [
        "custom_lin_reg.fit(X, y)"
      ]
    },
    {
      "cell_type": "code",
      "execution_count": null,
      "id": "19d9394a-d9d4-40d0-b772-208d4953cb9b",
      "metadata": {
        "colab": {
          "base_uri": "https://localhost:8080/",
          "height": 537
        },
        "id": "19d9394a-d9d4-40d0-b772-208d4953cb9b",
        "outputId": "4f8b7447-9714-4569-bfb0-f35c6da5d6f3"
      },
      "outputs": [
        {
          "output_type": "display_data",
          "data": {
            "text/plain": [
              "<Figure size 864x648 with 1 Axes>"
            ],
            "image/png": "[encoded data removed]"
          },
          "metadata": {}
        }
      ],
      "source": [
        "plt.scatter(X, y)\n",
        "plt.plot(X, custom_lin_reg.predict(X));"
      ]
    },
    {
      "cell_type": "markdown",
      "id": "3ad4bf18-9a5d-4409-b04b-dba080f9ab73",
      "metadata": {
        "id": "3ad4bf18-9a5d-4409-b04b-dba080f9ab73"
      },
      "source": [
        "#### Задание 2.3. Используем встроенную линейную регрессию (4 балла)\n",
        "\n",
        "Поработаем с данными о ценах на дома в Калифорнии. Постройте модель линейной регресии при помощи `LinearRegression` из `sklearn`. Не забудьте разделить данные на тренировочную и тестовую части, а также правильно предобработать признаки. В конце воспользуйтесь какими-то изученными метриками регресии и сделайте выводы о качестве полученной модели, а также о том, какие признаки наиболее важны с точки зрения полученной модели."
      ]
    },
    {
      "cell_type": "code",
      "execution_count": null,
      "id": "e160cf48-e9ad-4866-aaf0-77429002065f",
      "metadata": {
        "id": "e160cf48-e9ad-4866-aaf0-77429002065f"
      },
      "outputs": [],
      "source": [
        "data = fetch_california_housing()\n",
        "X, y = data[\"data\"], data[\"target\"]\n",
        "feature_names = data[\"feature_names\"]"
      ]
    },
    {
      "cell_type": "markdown",
      "id": "36099aea-e9c1-4e76-a3c0-bb6f9b8f24ca",
      "metadata": {
        "id": "36099aea-e9c1-4e76-a3c0-bb6f9b8f24ca"
      },
      "source": [
        "Ваш ход:"
      ]
    },
    {
      "cell_type": "code",
      "execution_count": null,
      "id": "92ea784d-41a9-45ac-9c75-7307c207020b",
      "metadata": {
        "colab": {
          "base_uri": "https://localhost:8080/",
          "height": 423
        },
        "id": "92ea784d-41a9-45ac-9c75-7307c207020b",
        "outputId": "a6950474-3e2d-46cf-a120-9073b309b1a0"
      },
      "outputs": [
        {
          "output_type": "execute_result",
          "data": {
            "text/plain": [
              "       MedInc  HouseAge  AveRooms  AveBedrms  Population  AveOccup  Latitude  \\\n",
              "0      8.3252      41.0  6.984127   1.023810       322.0  2.555556     37.88   \n",
              "1      8.3014      21.0  6.238137   0.971880      2401.0  2.109842     37.86   \n",
              "2      7.2574      52.0  8.288136   1.073446       496.0  2.802260     37.85   \n",
              "3      5.6431      52.0  5.817352   1.073059       558.0  2.547945     37.85   \n",
              "4      3.8462      52.0  6.281853   1.081081       565.0  2.181467     37.85   \n",
              "...       ...       ...       ...        ...         ...       ...       ...   \n",
              "20635  1.5603      25.0  5.045455   1.133333       845.0  2.560606     39.48   \n",
              "20636  2.5568      18.0  6.114035   1.315789       356.0  3.122807     39.49   \n",
              "20637  1.7000      17.0  5.205543   1.120092      1007.0  2.325635     39.43   \n",
              "20638  1.8672      18.0  5.329513   1.171920       741.0  2.123209     39.43   \n",
              "20639  2.3886      16.0  5.254717   1.162264      1387.0  2.616981     39.37   \n",
              "\n",
              "       Longitude  \n",
              "0        -122.23  \n",
              "1        -122.22  \n",
              "2        -122.24  \n",
              "3        -122.25  \n",
              "4        -122.25  \n",
              "...          ...  \n",
              "20635    -121.09  \n",
              "20636    -121.21  \n",
              "20637    -121.22  \n",
              "20638    -121.32  \n",
              "20639    -121.24  \n",
              "\n",
              "[20640 rows x 8 columns]"
            ],
            "text/html": [
              "\n",
              "  <div id=\"df-fa44b03e-9805-461b-bbd9-c388fc719274\">\n",
              "    <div class=\"colab-df-container\">\n",
              "      <div>\n",
              "<style scoped>\n",
              "    .dataframe tbody tr th:only-of-type {\n",
              "        vertical-align: middle;\n",
              "    }\n",
              "\n",
              "    .dataframe tbody tr th {\n",
              "        vertical-align: top;\n",
              "    }\n",
              "\n",
              "    .dataframe thead th {\n",
              "        text-align: right;\n",
              "    }\n",
              "</style>\n",
              "<table border=\"1\" class=\"dataframe\">\n",
              "  <thead>\n",
              "    <tr style=\"text-align: right;\">\n",
              "      <th></th>\n",
              "      <th>MedInc</th>\n",
              "      <th>HouseAge</th>\n",
              "      <th>AveRooms</th>\n",
              "      <th>AveBedrms</th>\n",
              "      <th>Population</th>\n",
              "      <th>AveOccup</th>\n",
              "      <th>Latitude</th>\n",
              "      <th>Longitude</th>\n",
              "    </tr>\n",
              "  </thead>\n",
              "  <tbody>\n",
              "    <tr>\n",
              "      <th>0</th>\n",
              "      <td>8.3252</td>\n",
              "      <td>41.0</td>\n",
              "      <td>6.984127</td>\n",
              "      <td>1.023810</td>\n",
              "      <td>322.0</td>\n",
              "      <td>2.555556</td>\n",
              "      <td>37.88</td>\n",
              "      <td>-122.23</td>\n",
              "    </tr>\n",
              "    <tr>\n",
              "      <th>1</th>\n",
              "      <td>8.3014</td>\n",
              "      <td>21.0</td>\n",
              "      <td>6.238137</td>\n",
              "      <td>0.971880</td>\n",
              "      <td>2401.0</td>\n",
              "      <td>2.109842</td>\n",
              "      <td>37.86</td>\n",
              "      <td>-122.22</td>\n",
              "    </tr>\n",
              "    <tr>\n",
              "      <th>2</th>\n",
              "      <td>7.2574</td>\n",
              "      <td>52.0</td>\n",
              "      <td>8.288136</td>\n",
              "      <td>1.073446</td>\n",
              "      <td>496.0</td>\n",
              "      <td>2.802260</td>\n",
              "      <td>37.85</td>\n",
              "      <td>-122.24</td>\n",
              "    </tr>\n",
              "    <tr>\n",
              "      <th>3</th>\n",
              "      <td>5.6431</td>\n",
              "      <td>52.0</td>\n",
              "      <td>5.817352</td>\n",
              "      <td>1.073059</td>\n",
              "      <td>558.0</td>\n",
              "      <td>2.547945</td>\n",
              "      <td>37.85</td>\n",
              "      <td>-122.25</td>\n",
              "    </tr>\n",
              "    <tr>\n",
              "      <th>4</th>\n",
              "      <td>3.8462</td>\n",
              "      <td>52.0</td>\n",
              "      <td>6.281853</td>\n",
              "      <td>1.081081</td>\n",
              "      <td>565.0</td>\n",
              "      <td>2.181467</td>\n",
              "      <td>37.85</td>\n",
              "      <td>-122.25</td>\n",
              "    </tr>\n",
              "    <tr>\n",
              "      <th>...</th>\n",
              "      <td>...</td>\n",
              "      <td>...</td>\n",
              "      <td>...</td>\n",
              "      <td>...</td>\n",
              "      <td>...</td>\n",
              "      <td>...</td>\n",
              "      <td>...</td>\n",
              "      <td>...</td>\n",
              "    </tr>\n",
              "    <tr>\n",
              "      <th>20635</th>\n",
              "      <td>1.5603</td>\n",
              "      <td>25.0</td>\n",
              "      <td>5.045455</td>\n",
              "      <td>1.133333</td>\n",
              "      <td>845.0</td>\n",
              "      <td>2.560606</td>\n",
              "      <td>39.48</td>\n",
              "      <td>-121.09</td>\n",
              "    </tr>\n",
              "    <tr>\n",
              "      <th>20636</th>\n",
              "      <td>2.5568</td>\n",
              "      <td>18.0</td>\n",
              "      <td>6.114035</td>\n",
              "      <td>1.315789</td>\n",
              "      <td>356.0</td>\n",
              "      <td>3.122807</td>\n",
              "      <td>39.49</td>\n",
              "      <td>-121.21</td>\n",
              "    </tr>\n",
              "    <tr>\n",
              "      <th>20637</th>\n",
              "      <td>1.7000</td>\n",
              "      <td>17.0</td>\n",
              "      <td>5.205543</td>\n",
              "      <td>1.120092</td>\n",
              "      <td>1007.0</td>\n",
              "      <td>2.325635</td>\n",
              "      <td>39.43</td>\n",
              "      <td>-121.22</td>\n",
              "    </tr>\n",
              "    <tr>\n",
              "      <th>20638</th>\n",
              "      <td>1.8672</td>\n",
              "      <td>18.0</td>\n",
              "      <td>5.329513</td>\n",
              "      <td>1.171920</td>\n",
              "      <td>741.0</td>\n",
              "      <td>2.123209</td>\n",
              "      <td>39.43</td>\n",
              "      <td>-121.32</td>\n",
              "    </tr>\n",
              "    <tr>\n",
              "      <th>20639</th>\n",
              "      <td>2.3886</td>\n",
              "      <td>16.0</td>\n",
              "      <td>5.254717</td>\n",
              "      <td>1.162264</td>\n",
              "      <td>1387.0</td>\n",
              "      <td>2.616981</td>\n",
              "      <td>39.37</td>\n",
              "      <td>-121.24</td>\n",
              "    </tr>\n",
              "  </tbody>\n",
              "</table>\n",
              "<p>20640 rows × 8 columns</p>\n",
              "</div>\n",
              "      <button class=\"colab-df-convert\" onclick=\"convertToInteractive('df-fa44b03e-9805-461b-bbd9-c388fc719274')\"\n",
              "              title=\"Convert this dataframe to an interactive table.\"\n",
              "              style=\"display:none;\">\n",
              "        \n",
              "  <svg xmlns=\"http://www.w3.org/2000/svg\" height=\"24px\"viewBox=\"0 0 24 24\"\n",
              "       width=\"24px\">\n",
              "    <path d=\"M0 0h24v24H0V0z\" fill=\"none\"/>\n",
              "    <path d=\"M18.56 5.44l.94 2.06.94-2.06 2.06-.94-2.06-.94-.94-2.06-.94 2.06-2.06.94zm-11 1L8.5 8.5l.94-2.06 2.06-.94-2.06-.94L8.5 2.5l-.94 2.06-2.06.94zm10 10l.94 2.06.94-2.06 2.06-.94-2.06-.94-.94-2.06-.94 2.06-2.06.94z\"/><path d=\"M17.41 7.96l-1.37-1.37c-.4-.4-.92-.59-1.43-.59-.52 0-1.04.2-1.43.59L10.3 9.45l-7.72 7.72c-.78.78-.78 2.05 0 2.83L4 21.41c.39.39.9.59 1.41.59.51 0 1.02-.2 1.41-.59l7.78-7.78 2.81-2.81c.8-.78.8-2.07 0-2.86zM5.41 20L4 18.59l7.72-7.72 1.47 1.35L5.41 20z\"/>\n",
              "  </svg>\n",
              "      </button>\n",
              "      \n",
              "  <style>\n",
              "    .colab-df-container {\n",
              "      display:flex;\n",
              "      flex-wrap:wrap;\n",
              "      gap: 12px;\n",
              "    }\n",
              "\n",
              "    .colab-df-convert {\n",
              "      background-color: #E8F0FE;\n",
              "      border: none;\n",
              "      border-radius: 50%;\n",
              "      cursor: pointer;\n",
              "      display: none;\n",
              "      fill: #1967D2;\n",
              "      height: 32px;\n",
              "      padding: 0 0 0 0;\n",
              "      width: 32px;\n",
              "    }\n",
              "\n",
              "    .colab-df-convert:hover {\n",
              "      background-color: #E2EBFA;\n",
              "      box-shadow: 0px 1px 2px rgba(60, 64, 67, 0.3), 0px 1px 3px 1px rgba(60, 64, 67, 0.15);\n",
              "      fill: #174EA6;\n",
              "    }\n",
              "\n",
              "    [theme=dark] .colab-df-convert {\n",
              "      background-color: #3B4455;\n",
              "      fill: #D2E3FC;\n",
              "    }\n",
              "\n",
              "    [theme=dark] .colab-df-convert:hover {\n",
              "      background-color: #434B5C;\n",
              "      box-shadow: 0px 1px 3px 1px rgba(0, 0, 0, 0.15);\n",
              "      filter: drop-shadow(0px 1px 2px rgba(0, 0, 0, 0.3));\n",
              "      fill: #FFFFFF;\n",
              "    }\n",
              "  </style>\n",
              "\n",
              "      <script>\n",
              "        const buttonEl =\n",
              "          document.querySelector('#df-fa44b03e-9805-461b-bbd9-c388fc719274 button.colab-df-convert');\n",
              "        buttonEl.style.display =\n",
              "          google.colab.kernel.accessAllowed ? 'block' : 'none';\n",
              "\n",
              "        async function convertToInteractive(key) {\n",
              "          const element = document.querySelector('#df-fa44b03e-9805-461b-bbd9-c388fc719274');\n",
              "          const dataTable =\n",
              "            await google.colab.kernel.invokeFunction('convertToInteractive',\n",
              "                                                     [key], {});\n",
              "          if (!dataTable) return;\n",
              "\n",
              "          const docLinkHtml = 'Like what you see? Visit the ' +\n",
              "            '<a target=\"_blank\" href=https://colab.research.google.com/notebooks/data_table.ipynb>data table notebook</a>'\n",
              "            + ' to learn more about interactive tables.';\n",
              "          element.innerHTML = '';\n",
              "          dataTable['output_type'] = 'display_data';\n",
              "          await google.colab.output.renderOutput(dataTable, element);\n",
              "          const docLink = document.createElement('div');\n",
              "          docLink.innerHTML = docLinkHtml;\n",
              "          element.appendChild(docLink);\n",
              "        }\n",
              "      </script>\n",
              "    </div>\n",
              "  </div>\n",
              "  "
            ]
          },
          "metadata": {},
          "execution_count": 23
        }
      ],
      "source": [
        "X = pd.DataFrame(X, columns=feature_names)\n",
        "X"
      ]
    },
    {
      "cell_type": "code",
      "source": [
        "X.info()"
      ],
      "metadata": {
        "colab": {
          "base_uri": "https://localhost:8080/"
        },
        "id": "_OuUWQXpPqSt",
        "outputId": "a9671dfe-6f21-47fb-c74c-688780cc45d3"
      },
      "id": "_OuUWQXpPqSt",
      "execution_count": null,
      "outputs": [
        {
          "output_type": "stream",
          "name": "stdout",
          "text": [
            "<class 'pandas.core.frame.DataFrame'>\n",
            "RangeIndex: 20640 entries, 0 to 20639\n",
            "Data columns (total 8 columns):\n",
            " #   Column      Non-Null Count  Dtype  \n",
            "---  ------      --------------  -----  \n",
            " 0   MedInc      20640 non-null  float64\n",
            " 1   HouseAge    20640 non-null  float64\n",
            " 2   AveRooms    20640 non-null  float64\n",
            " 3   AveBedrms   20640 non-null  float64\n",
            " 4   Population  20640 non-null  float64\n",
            " 5   AveOccup    20640 non-null  float64\n",
            " 6   Latitude    20640 non-null  float64\n",
            " 7   Longitude   20640 non-null  float64\n",
            "dtypes: float64(8)\n",
            "memory usage: 1.3 MB\n"
          ]
        }
      ]
    },
    {
      "cell_type": "code",
      "source": [
        "X_train, X_test, y_train, y_test = train_test_split(X, y, test_size=0.2)"
      ],
      "metadata": {
        "id": "Kv7tiGzIPqM5"
      },
      "id": "Kv7tiGzIPqM5",
      "execution_count": null,
      "outputs": []
    },
    {
      "cell_type": "code",
      "source": [
        "scaler = StandardScaler()\n",
        "scaler.fit(X_train)\n",
        "X_train = scaler.transform(X_train)\n",
        "X_test = scaler.transform(X_test)"
      ],
      "metadata": {
        "id": "YEYk3IyMPqAG"
      },
      "id": "YEYk3IyMPqAG",
      "execution_count": null,
      "outputs": []
    },
    {
      "cell_type": "code",
      "source": [
        "lin_reg = LinearRegression()\n",
        "lin_reg.fit(X_train, y_train)\n",
        "y_pred = lin_reg.predict(X_train)"
      ],
      "metadata": {
        "id": "JJ8XIP1lPvw7"
      },
      "id": "JJ8XIP1lPvw7",
      "execution_count": null,
      "outputs": []
    },
    {
      "cell_type": "code",
      "source": [
        "mean_squared_error(y_train, y_pred), r2_score(y_train, y_pred)"
      ],
      "metadata": {
        "colab": {
          "base_uri": "https://localhost:8080/"
        },
        "id": "GpIJIfjkP0se",
        "outputId": "acec7b11-a1c5-43f0-cb7a-74aff5c2f2ae"
      },
      "id": "GpIJIfjkP0se",
      "execution_count": null,
      "outputs": [
        {
          "output_type": "execute_result",
          "data": {
            "text/plain": [
              "(0.524414664837944, 0.6082890537673835)"
            ]
          },
          "metadata": {},
          "execution_count": 32
        }
      ]
    },
    {
      "cell_type": "code",
      "source": [
        "lin_coefs = lin_reg.coef_\n",
        "np.argsort(abs(lin_coefs))[::-1][:3]"
      ],
      "metadata": {
        "colab": {
          "base_uri": "https://localhost:8080/"
        },
        "id": "kr0ZE010P0pp",
        "outputId": "2ed4cf7d-f493-466c-c7a1-614113d7346c"
      },
      "id": "kr0ZE010P0pp",
      "execution_count": null,
      "outputs": [
        {
          "output_type": "execute_result",
          "data": {
            "text/plain": [
              "array([6, 7, 0])"
            ]
          },
          "metadata": {},
          "execution_count": 33
        }
      ]
    },
    {
      "cell_type": "code",
      "source": [
        "#список самых лучших важных красивых признаков в модели\n",
        "feature_names[6], feature_names[7], feature_names[0]"
      ],
      "metadata": {
        "colab": {
          "base_uri": "https://localhost:8080/"
        },
        "id": "AiUO3gwJP0mi",
        "outputId": "3de03e73-0d9c-452a-dc47-591a317a7de3"
      },
      "id": "AiUO3gwJP0mi",
      "execution_count": null,
      "outputs": [
        {
          "output_type": "execute_result",
          "data": {
            "text/plain": [
              "('Latitude', 'Longitude', 'MedInc')"
            ]
          },
          "metadata": {},
          "execution_count": 34
        }
      ]
    },
    {
      "cell_type": "markdown",
      "id": "2b3df567-878f-4f94-942e-18c77422281e",
      "metadata": {
        "id": "2b3df567-878f-4f94-942e-18c77422281e"
      },
      "source": [
        "### Задание 3. Реализация логистической регресии (суммарно 10 баллов)"
      ]
    },
    {
      "cell_type": "markdown",
      "id": "98eb7773-98ab-4451-b83d-6c0c4288137a",
      "metadata": {
        "id": "98eb7773-98ab-4451-b83d-6c0c4288137a"
      },
      "source": [
        "Логистическая регрессия не очень сильно отличается от обычной линейной регрессии и используется в задах классификации. Так как здесь мы снова будем пользоваться градиентным спуском, то нужно определить функцию потерь и ее градиент. Одним из самых популярных вариантов в задаче бинарной классификации является бинарная кросс-энтропия (BCE).\n",
        "\n",
        "$$\\mathcal L_{BCE}(y, \\hat y) = -\\sum_i \\left[y_i\\log\\sigma(\\hat y_i) + (1-y_i)\\log(1-\\sigma(\\hat y_i))\\right].$$\n",
        "\n",
        "где $y$ это  таргет желаемого результата и $\\hat y$ является выходом модели. $\\sigma$ - это [*логистическая* функция](https://en.wikipedia.org/wiki/Sigmoid_function), который преобразует действительное число $\\mathbb R$ в вероятность $[0,1]$.\n",
        "\n",
        "Единственная проблема данной функции это возможность получить 0 под знаком логарифма, что не очень хорошо. Попробуем справить с этим \"в лоб\". Скажем, что наши предсказания могут принимать значения от 0 + eps до 1 - eps, где eps очень маленькое число."
      ]
    },
    {
      "cell_type": "markdown",
      "id": "3b6156cf-1749-4a43-b7ea-d469caeb7d01",
      "metadata": {
        "id": "3b6156cf-1749-4a43-b7ea-d469caeb7d01"
      },
      "source": [
        "#### Задание 3.1. Реализация сигмоиды (0.5 баллов)\n",
        "\n",
        "Реализуйте функцию `sigmoid`, которая переводит действительное число $\\mathbb R$ в вероятность $[0,1]$."
      ]
    },
    {
      "cell_type": "code",
      "execution_count": null,
      "id": "c3632a03-f8e3-43e1-9949-2b8019d4c167",
      "metadata": {
        "id": "c3632a03-f8e3-43e1-9949-2b8019d4c167"
      },
      "outputs": [],
      "source": [
        "def sigmoid(output):\n",
        "    # output результат X@w (-inf, +inf)\n",
        "    return 1/(1 + np.e**(-output))"
      ]
    },
    {
      "cell_type": "markdown",
      "id": "4e243127-1e87-4b70-9205-b2a1c9709054",
      "metadata": {
        "id": "4e243127-1e87-4b70-9205-b2a1c9709054"
      },
      "source": [
        "#### Задание 3.2. BCE Loss и ее градиент (2.5 балла)"
      ]
    },
    {
      "cell_type": "markdown",
      "id": "de43d40c-4c9a-4120-b8e6-6dfb41e5d261",
      "metadata": {
        "id": "de43d40c-4c9a-4120-b8e6-6dfb41e5d261"
      },
      "source": [
        "Так как мы с вами только начинаем изучать машинное обучение, то было бы слишком жестоко просить вас вычислить градиент BCE Loss (он не так сложен, просто нужно привыкнуть). Поэтому сразу напишем формулу для него:\n",
        "\n",
        "$$\n",
        "\\nabla{\\mathcal L_{BCE}(y, \\hat y), X} = X^T (\\sigma({\\hat{y}}) - y)\n",
        "$$"
      ]
    },
    {
      "cell_type": "code",
      "execution_count": null,
      "id": "057a5d74-5e8f-4949-a068-8d20c464869e",
      "metadata": {
        "id": "057a5d74-5e8f-4949-a068-8d20c464869e"
      },
      "outputs": [],
      "source": [
        "def bce(y_true, y_pred, eps=1e-15):\n",
        "    \"\"\"\n",
        "    Функция потерь BCE.\n",
        "        :param y_true: np.array[n_samples]: вектор из правильных ответов 0/1\n",
        "        :param y_pred: np.array[n_samples]: вектор из предсказаний модели (вероятности)\n",
        "        :return: значение функции потерь\n",
        "    \"\"\"\n",
        "    \n",
        "    if  y_true.shape[0] != y_pred.shape[0]:\n",
        "        raise ValueError(\"Number of samples in both vectors should be equal\")\n",
        "        \n",
        "    n = y_true.shape[0]\n",
        "    \n",
        "    # So I want escape log(0)\n",
        "    y_pred = np.clip(y_pred, eps, 1 - eps)\n",
        "      \n",
        "    return -np.sum(y_true*np.log(y_pred) + (1-y_true)*np.log(1 - y_pred)) / len(y_true)\n",
        "    \n",
        "\n",
        "def bce_grad(y_true, y_pred, X):\n",
        "    \"\"\"\n",
        "    Функция потерь BCE.\n",
        "        :param y_true: np.array[n_samples]: вектор из правильных ответов 0/1\n",
        "        :param y_pred: np.array[n_samples]: вектор из предсказаний модели (вероятности)\n",
        "        :param X: np.array[n_samples, n_features]: матрица объекты x признаки\n",
        "        :return: значение функции потерь\n",
        "    \"\"\"\n",
        "    \n",
        "    if  y_true.shape[0] != y_pred.shape[0]:\n",
        "        raise ValueError(\"Number of samples in both vectors should be equal\")\n",
        "        \n",
        "    return X.T @ (y_pred - y_true)    \n",
        "\n",
        "\n",
        "class BCELoss:\n",
        "    \"\"\"\n",
        "    Класс, реализующий функцию потерь BCE. Нужен для того, чтобы\n",
        "    объединять в одном месте функцию потерь и градиент для нее.\n",
        "    \"\"\"\n",
        "    \n",
        "    def __call__(self, y_true, y_pred):\n",
        "        return bce(y_true, y_pred)\n",
        "    \n",
        "    def calculate_gradient(self, y_true, y_pred, X):\n",
        "        return bce_grad(y_true, y_pred, X)"
      ]
    },
    {
      "cell_type": "markdown",
      "id": "7139689e-729b-40e5-b903-c0d9af8880e0",
      "metadata": {
        "id": "7139689e-729b-40e5-b903-c0d9af8880e0"
      },
      "source": [
        "#### Задание 3.3. Предсказания логистической регрессии (2 балла)\n",
        "\n",
        "Реализуйте метод `predict` у класса `CustomLogisticRegression`, не забудьте про свободный член!"
      ]
    },
    {
      "cell_type": "code",
      "execution_count": null,
      "id": "28b82913-7674-49e6-8f04-8d0d428be019",
      "metadata": {
        "id": "28b82913-7674-49e6-8f04-8d0d428be019"
      },
      "outputs": [],
      "source": [
        "class CustomLogisticRegression(BaseLinearModel):\n",
        "    def __init__(self, learning_rate: float = 1e-3,\n",
        "                 loss_function=BCELoss(), fit_intercept=True,\n",
        "                 n_iter=1000, tol=1e-5, optimizer=BasicGradientDescent, grad_norm=\"l1\"):\n",
        "        \n",
        "        super().__init__(learning_rate=learning_rate,\n",
        "                         loss_function=loss_function, fit_intercept=fit_intercept,\n",
        "                         n_iter=n_iter, tol=tol, optimizer=optimizer, grad_norm=grad_norm)\n",
        "    \n",
        "    \n",
        "    def predict(self, X_test):\n",
        "        if self.W is None:\n",
        "            raise NotFittedError(\"This CustomLogisticRegression instance is not fitted, run fit method.\")\n",
        "        \n",
        "        n_test_samples = X_test.shape[0]\n",
        "        if self.fit_intercept:\n",
        "            ones_column = np.ones((n_test_samples, 1))\n",
        "            X_test = np.hstack((ones_column, X_test))\n",
        "            \n",
        "        return sigmoid(np.matmul(X_test, self.W))\n",
        "    \n",
        "    \n",
        "    def __repr__(self):\n",
        "        return \"My custom logistic regression\""
      ]
    },
    {
      "cell_type": "markdown",
      "id": "d3ca2d1a-a382-4c1f-bfa3-e23568ff7832",
      "metadata": {
        "id": "d3ca2d1a-a382-4c1f-bfa3-e23568ff7832"
      },
      "source": [
        "#### Снова проверим работу алгоритма на простом примере"
      ]
    },
    {
      "cell_type": "code",
      "execution_count": null,
      "id": "8f5b577c-032c-4114-b797-9f3d08806e66",
      "metadata": {
        "id": "8f5b577c-032c-4114-b797-9f3d08806e66"
      },
      "outputs": [],
      "source": [
        "# Создадим датасет из 1 признака и 2 классов\n",
        "X, y = make_classification(n_features=1, n_informative=1,\n",
        "                           n_redundant=0, n_clusters_per_class=1)"
      ]
    },
    {
      "cell_type": "code",
      "execution_count": null,
      "id": "ece8ab2c-8a8d-474f-a820-96e61fba35a4",
      "metadata": {
        "colab": {
          "base_uri": "https://localhost:8080/",
          "height": 537
        },
        "id": "ece8ab2c-8a8d-474f-a820-96e61fba35a4",
        "outputId": "8430f4d0-3de6-4d8b-c4e5-62c802c82a44"
      },
      "outputs": [
        {
          "output_type": "display_data",
          "data": {
            "text/plain": [
              "<Figure size 864x648 with 1 Axes>"
            ],
            "image/png": "[encoded data removed]"
          },
          "metadata": {}
        }
      ],
      "source": [
        "plt.scatter(X, y);"
      ]
    },
    {
      "cell_type": "code",
      "execution_count": null,
      "id": "e0dfdb15-835a-471a-b4e1-9f93396d21da",
      "metadata": {
        "id": "e0dfdb15-835a-471a-b4e1-9f93396d21da"
      },
      "outputs": [],
      "source": [
        "custom_log_reg = CustomLogisticRegression()\n",
        "custom_log_reg.fit(X, y)\n",
        "y_pred = custom_log_reg.predict(X)"
      ]
    },
    {
      "cell_type": "code",
      "execution_count": null,
      "id": "b714d857-68b0-401e-88cd-a722712419f8",
      "metadata": {
        "colab": {
          "base_uri": "https://localhost:8080/",
          "height": 537
        },
        "id": "b714d857-68b0-401e-88cd-a722712419f8",
        "outputId": "86bbd7cd-48f4-4816-cd51-7fd1081b2869"
      },
      "outputs": [
        {
          "output_type": "display_data",
          "data": {
            "text/plain": [
              "<Figure size 864x648 with 1 Axes>"
            ],
            "image/png": "[encoded data removed]"
          },
          "metadata": {}
        }
      ],
      "source": [
        "plt.scatter(X, y)\n",
        "plt.scatter(X, y_pred);"
      ]
    },
    {
      "cell_type": "markdown",
      "id": "588c4a67-beac-4566-be93-95eb1e985d26",
      "metadata": {
        "id": "588c4a67-beac-4566-be93-95eb1e985d26"
      },
      "source": [
        "Проверьте качество работы модели при помощи известных вам метрик бинарной классификации."
      ]
    },
    {
      "cell_type": "code",
      "execution_count": null,
      "id": "fd4c6acd-2257-4f27-aba2-d9ebd585ae32",
      "metadata": {
        "id": "fd4c6acd-2257-4f27-aba2-d9ebd585ae32"
      },
      "outputs": [],
      "source": [
        "from sklearn.metrics import precision_score, recall_score, f1_score, accuracy_score"
      ]
    },
    {
      "cell_type": "code",
      "source": [
        "y_pred = np.where(y_pred >= 0.5, 1, 0)\n",
        "precision_score(y, y_pred), recall_score(y, y_pred), f1_score(y, y_pred), accuracy_score(y, y_pred)"
      ],
      "metadata": {
        "colab": {
          "base_uri": "https://localhost:8080/"
        },
        "id": "U0kiccedSmmB",
        "outputId": "fd87eed7-1e08-435c-d7eb-a62e8b4e96d1"
      },
      "id": "U0kiccedSmmB",
      "execution_count": null,
      "outputs": [
        {
          "output_type": "execute_result",
          "data": {
            "text/plain": [
              "(1.0, 1.0, 1.0, 1.0)"
            ]
          },
          "metadata": {},
          "execution_count": 44
        }
      ]
    },
    {
      "cell_type": "markdown",
      "source": [
        "выглядит волшебно"
      ],
      "metadata": {
        "id": "5Jr6tnVNStoY"
      },
      "id": "5Jr6tnVNStoY"
    },
    {
      "cell_type": "markdown",
      "id": "916b7736-caf6-4c5d-920d-1d3d9c7b89ea",
      "metadata": {
        "id": "916b7736-caf6-4c5d-920d-1d3d9c7b89ea"
      },
      "source": [
        "#### Задание 3.4. Применение логистической регрессии (5 баллов)\n",
        "\n",
        "Мы будем использовать данные по свойствам покемонов (https://www.kaggle.com/abcsds/pokemon). В данном задании вам необходимо сначала сделать краткий EDA (Посмотреть на данные и их распределения, а также посмотреть, как различные признаки связаны между собой и с целевой переменной (`Legendary`))."
      ]
    },
    {
      "cell_type": "code",
      "execution_count": null,
      "id": "d29db297",
      "metadata": {
        "colab": {
          "base_uri": "https://localhost:8080/",
          "height": 206
        },
        "id": "d29db297",
        "outputId": "8134641d-e54f-4505-d797-9444ca4d5350"
      },
      "outputs": [
        {
          "output_type": "execute_result",
          "data": {
            "text/plain": [
              "   #                   Name Type 1  Type 2  Total  HP  Attack  Defense  \\\n",
              "0  1              Bulbasaur  Grass  Poison    318  45      49       49   \n",
              "1  2                Ivysaur  Grass  Poison    405  60      62       63   \n",
              "2  3               Venusaur  Grass  Poison    525  80      82       83   \n",
              "3  3  VenusaurMega Venusaur  Grass  Poison    625  80     100      123   \n",
              "4  4             Charmander   Fire     NaN    309  39      52       43   \n",
              "\n",
              "   Sp. Atk  Sp. Def  Speed  Generation  Legendary  \n",
              "0       65       65     45           1      False  \n",
              "1       80       80     60           1      False  \n",
              "2      100      100     80           1      False  \n",
              "3      122      120     80           1      False  \n",
              "4       60       50     65           1      False  "
            ],
            "text/html": [
              "\n",
              "  <div id=\"df-ad10b8a6-678d-4055-a16d-cd82fc640681\">\n",
              "    <div class=\"colab-df-container\">\n",
              "      <div>\n",
              "<style scoped>\n",
              "    .dataframe tbody tr th:only-of-type {\n",
              "        vertical-align: middle;\n",
              "    }\n",
              "\n",
              "    .dataframe tbody tr th {\n",
              "        vertical-align: top;\n",
              "    }\n",
              "\n",
              "    .dataframe thead th {\n",
              "        text-align: right;\n",
              "    }\n",
              "</style>\n",
              "<table border=\"1\" class=\"dataframe\">\n",
              "  <thead>\n",
              "    <tr style=\"text-align: right;\">\n",
              "      <th></th>\n",
              "      <th>#</th>\n",
              "      <th>Name</th>\n",
              "      <th>Type 1</th>\n",
              "      <th>Type 2</th>\n",
              "      <th>Total</th>\n",
              "      <th>HP</th>\n",
              "      <th>Attack</th>\n",
              "      <th>Defense</th>\n",
              "      <th>Sp. Atk</th>\n",
              "      <th>Sp. Def</th>\n",
              "      <th>Speed</th>\n",
              "      <th>Generation</th>\n",
              "      <th>Legendary</th>\n",
              "    </tr>\n",
              "  </thead>\n",
              "  <tbody>\n",
              "    <tr>\n",
              "      <th>0</th>\n",
              "      <td>1</td>\n",
              "      <td>Bulbasaur</td>\n",
              "      <td>Grass</td>\n",
              "      <td>Poison</td>\n",
              "      <td>318</td>\n",
              "      <td>45</td>\n",
              "      <td>49</td>\n",
              "      <td>49</td>\n",
              "      <td>65</td>\n",
              "      <td>65</td>\n",
              "      <td>45</td>\n",
              "      <td>1</td>\n",
              "      <td>False</td>\n",
              "    </tr>\n",
              "    <tr>\n",
              "      <th>1</th>\n",
              "      <td>2</td>\n",
              "      <td>Ivysaur</td>\n",
              "      <td>Grass</td>\n",
              "      <td>Poison</td>\n",
              "      <td>405</td>\n",
              "      <td>60</td>\n",
              "      <td>62</td>\n",
              "      <td>63</td>\n",
              "      <td>80</td>\n",
              "      <td>80</td>\n",
              "      <td>60</td>\n",
              "      <td>1</td>\n",
              "      <td>False</td>\n",
              "    </tr>\n",
              "    <tr>\n",
              "      <th>2</th>\n",
              "      <td>3</td>\n",
              "      <td>Venusaur</td>\n",
              "      <td>Grass</td>\n",
              "      <td>Poison</td>\n",
              "      <td>525</td>\n",
              "      <td>80</td>\n",
              "      <td>82</td>\n",
              "      <td>83</td>\n",
              "      <td>100</td>\n",
              "      <td>100</td>\n",
              "      <td>80</td>\n",
              "      <td>1</td>\n",
              "      <td>False</td>\n",
              "    </tr>\n",
              "    <tr>\n",
              "      <th>3</th>\n",
              "      <td>3</td>\n",
              "      <td>VenusaurMega Venusaur</td>\n",
              "      <td>Grass</td>\n",
              "      <td>Poison</td>\n",
              "      <td>625</td>\n",
              "      <td>80</td>\n",
              "      <td>100</td>\n",
              "      <td>123</td>\n",
              "      <td>122</td>\n",
              "      <td>120</td>\n",
              "      <td>80</td>\n",
              "      <td>1</td>\n",
              "      <td>False</td>\n",
              "    </tr>\n",
              "    <tr>\n",
              "      <th>4</th>\n",
              "      <td>4</td>\n",
              "      <td>Charmander</td>\n",
              "      <td>Fire</td>\n",
              "      <td>NaN</td>\n",
              "      <td>309</td>\n",
              "      <td>39</td>\n",
              "      <td>52</td>\n",
              "      <td>43</td>\n",
              "      <td>60</td>\n",
              "      <td>50</td>\n",
              "      <td>65</td>\n",
              "      <td>1</td>\n",
              "      <td>False</td>\n",
              "    </tr>\n",
              "  </tbody>\n",
              "</table>\n",
              "</div>\n",
              "      <button class=\"colab-df-convert\" onclick=\"convertToInteractive('df-ad10b8a6-678d-4055-a16d-cd82fc640681')\"\n",
              "              title=\"Convert this dataframe to an interactive table.\"\n",
              "              style=\"display:none;\">\n",
              "        \n",
              "  <svg xmlns=\"http://www.w3.org/2000/svg\" height=\"24px\"viewBox=\"0 0 24 24\"\n",
              "       width=\"24px\">\n",
              "    <path d=\"M0 0h24v24H0V0z\" fill=\"none\"/>\n",
              "    <path d=\"M18.56 5.44l.94 2.06.94-2.06 2.06-.94-2.06-.94-.94-2.06-.94 2.06-2.06.94zm-11 1L8.5 8.5l.94-2.06 2.06-.94-2.06-.94L8.5 2.5l-.94 2.06-2.06.94zm10 10l.94 2.06.94-2.06 2.06-.94-2.06-.94-.94-2.06-.94 2.06-2.06.94z\"/><path d=\"M17.41 7.96l-1.37-1.37c-.4-.4-.92-.59-1.43-.59-.52 0-1.04.2-1.43.59L10.3 9.45l-7.72 7.72c-.78.78-.78 2.05 0 2.83L4 21.41c.39.39.9.59 1.41.59.51 0 1.02-.2 1.41-.59l7.78-7.78 2.81-2.81c.8-.78.8-2.07 0-2.86zM5.41 20L4 18.59l7.72-7.72 1.47 1.35L5.41 20z\"/>\n",
              "  </svg>\n",
              "      </button>\n",
              "      \n",
              "  <style>\n",
              "    .colab-df-container {\n",
              "      display:flex;\n",
              "      flex-wrap:wrap;\n",
              "      gap: 12px;\n",
              "    }\n",
              "\n",
              "    .colab-df-convert {\n",
              "      background-color: #E8F0FE;\n",
              "      border: none;\n",
              "      border-radius: 50%;\n",
              "      cursor: pointer;\n",
              "      display: none;\n",
              "      fill: #1967D2;\n",
              "      height: 32px;\n",
              "      padding: 0 0 0 0;\n",
              "      width: 32px;\n",
              "    }\n",
              "\n",
              "    .colab-df-convert:hover {\n",
              "      background-color: #E2EBFA;\n",
              "      box-shadow: 0px 1px 2px rgba(60, 64, 67, 0.3), 0px 1px 3px 1px rgba(60, 64, 67, 0.15);\n",
              "      fill: #174EA6;\n",
              "    }\n",
              "\n",
              "    [theme=dark] .colab-df-convert {\n",
              "      background-color: #3B4455;\n",
              "      fill: #D2E3FC;\n",
              "    }\n",
              "\n",
              "    [theme=dark] .colab-df-convert:hover {\n",
              "      background-color: #434B5C;\n",
              "      box-shadow: 0px 1px 3px 1px rgba(0, 0, 0, 0.15);\n",
              "      filter: drop-shadow(0px 1px 2px rgba(0, 0, 0, 0.3));\n",
              "      fill: #FFFFFF;\n",
              "    }\n",
              "  </style>\n",
              "\n",
              "      <script>\n",
              "        const buttonEl =\n",
              "          document.querySelector('#df-ad10b8a6-678d-4055-a16d-cd82fc640681 button.colab-df-convert');\n",
              "        buttonEl.style.display =\n",
              "          google.colab.kernel.accessAllowed ? 'block' : 'none';\n",
              "\n",
              "        async function convertToInteractive(key) {\n",
              "          const element = document.querySelector('#df-ad10b8a6-678d-4055-a16d-cd82fc640681');\n",
              "          const dataTable =\n",
              "            await google.colab.kernel.invokeFunction('convertToInteractive',\n",
              "                                                     [key], {});\n",
              "          if (!dataTable) return;\n",
              "\n",
              "          const docLinkHtml = 'Like what you see? Visit the ' +\n",
              "            '<a target=\"_blank\" href=https://colab.research.google.com/notebooks/data_table.ipynb>data table notebook</a>'\n",
              "            + ' to learn more about interactive tables.';\n",
              "          element.innerHTML = '';\n",
              "          dataTable['output_type'] = 'display_data';\n",
              "          await google.colab.output.renderOutput(dataTable, element);\n",
              "          const docLink = document.createElement('div');\n",
              "          docLink.innerHTML = docLinkHtml;\n",
              "          element.appendChild(docLink);\n",
              "        }\n",
              "      </script>\n",
              "    </div>\n",
              "  </div>\n",
              "  "
            ]
          },
          "metadata": {},
          "execution_count": 107
        }
      ],
      "source": [
        "pokemon = pd.read_csv(\"Pokemon.csv\")\n",
        "pokemon.head()"
      ]
    },
    {
      "cell_type": "code",
      "source": [
        "pokemon.info()"
      ],
      "metadata": {
        "colab": {
          "base_uri": "https://localhost:8080/"
        },
        "id": "UBvwI4EpThWQ",
        "outputId": "c625371b-2ac3-4321-8a11-f6d38ea56109"
      },
      "id": "UBvwI4EpThWQ",
      "execution_count": null,
      "outputs": [
        {
          "output_type": "stream",
          "name": "stdout",
          "text": [
            "<class 'pandas.core.frame.DataFrame'>\n",
            "RangeIndex: 800 entries, 0 to 799\n",
            "Data columns (total 13 columns):\n",
            " #   Column      Non-Null Count  Dtype \n",
            "---  ------      --------------  ----- \n",
            " 0   #           800 non-null    int64 \n",
            " 1   Name        800 non-null    object\n",
            " 2   Type 1      800 non-null    object\n",
            " 3   Type 2      414 non-null    object\n",
            " 4   Total       800 non-null    int64 \n",
            " 5   HP          800 non-null    int64 \n",
            " 6   Attack      800 non-null    int64 \n",
            " 7   Defense     800 non-null    int64 \n",
            " 8   Sp. Atk     800 non-null    int64 \n",
            " 9   Sp. Def     800 non-null    int64 \n",
            " 10  Speed       800 non-null    int64 \n",
            " 11  Generation  800 non-null    int64 \n",
            " 12  Legendary   800 non-null    bool  \n",
            "dtypes: bool(1), int64(9), object(3)\n",
            "memory usage: 75.9+ KB\n"
          ]
        }
      ]
    },
    {
      "cell_type": "markdown",
      "id": "33d89ccc",
      "metadata": {
        "id": "33d89ccc"
      },
      "source": [
        "Мы будем предсказывать является ли покемон легендарным или нет. Замените логическое значение колонки на числовое (перекодировав на 0 и 1). Также подумайте, как в этом случае лучше закодировать категориальные признаки (может быть, лучше их просто выбросить?)."
      ]
    },
    {
      "cell_type": "code",
      "execution_count": null,
      "id": "0db7a2c5",
      "metadata": {
        "colab": {
          "base_uri": "https://localhost:8080/",
          "height": 516
        },
        "id": "0db7a2c5",
        "outputId": "1127d07b-7754-4445-db76-8c59ecf11550"
      },
      "outputs": [
        {
          "output_type": "stream",
          "name": "stderr",
          "text": [
            "<ipython-input-109-ef2df6c85691>:5: SettingWithCopyWarning: \n",
            "A value is trying to be set on a copy of a slice from a DataFrame\n",
            "\n",
            "See the caveats in the documentation: https://pandas.pydata.org/pandas-docs/stable/user_guide/indexing.html#returning-a-view-versus-a-copy\n",
            "  pokemon[\"Legendary\"][i] = 0\n"
          ]
        },
        {
          "output_type": "execute_result",
          "data": {
            "text/plain": [
              "       #                   Name   Type 1  Type 2  Total  HP  Attack  Defense  \\\n",
              "0      1              Bulbasaur    Grass  Poison    318  45      49       49   \n",
              "1      2                Ivysaur    Grass  Poison    405  60      62       63   \n",
              "2      3               Venusaur    Grass  Poison    525  80      82       83   \n",
              "3      3  VenusaurMega Venusaur    Grass  Poison    625  80     100      123   \n",
              "4      4             Charmander     Fire     NaN    309  39      52       43   \n",
              "..   ...                    ...      ...     ...    ...  ..     ...      ...   \n",
              "795  719                Diancie     Rock   Fairy    600  50     100      150   \n",
              "796  719    DiancieMega Diancie     Rock   Fairy    700  50     160      110   \n",
              "797  720    HoopaHoopa Confined  Psychic   Ghost    600  80     110       60   \n",
              "798  720     HoopaHoopa Unbound  Psychic    Dark    680  80     160       60   \n",
              "799  721              Volcanion     Fire   Water    600  80     110      120   \n",
              "\n",
              "     Sp. Atk  Sp. Def  Speed  Generation Legendary  \n",
              "0         65       65     45           1         0  \n",
              "1         80       80     60           1         0  \n",
              "2        100      100     80           1         0  \n",
              "3        122      120     80           1         0  \n",
              "4         60       50     65           1         0  \n",
              "..       ...      ...    ...         ...       ...  \n",
              "795      100      150     50           6         1  \n",
              "796      160      110    110           6         1  \n",
              "797      150      130     70           6         1  \n",
              "798      170      130     80           6         1  \n",
              "799      130       90     70           6         1  \n",
              "\n",
              "[800 rows x 13 columns]"
            ],
            "text/html": [
              "\n",
              "  <div id=\"df-322ba3de-14dd-4199-a874-d837a6034c0a\">\n",
              "    <div class=\"colab-df-container\">\n",
              "      <div>\n",
              "<style scoped>\n",
              "    .dataframe tbody tr th:only-of-type {\n",
              "        vertical-align: middle;\n",
              "    }\n",
              "\n",
              "    .dataframe tbody tr th {\n",
              "        vertical-align: top;\n",
              "    }\n",
              "\n",
              "    .dataframe thead th {\n",
              "        text-align: right;\n",
              "    }\n",
              "</style>\n",
              "<table border=\"1\" class=\"dataframe\">\n",
              "  <thead>\n",
              "    <tr style=\"text-align: right;\">\n",
              "      <th></th>\n",
              "      <th>#</th>\n",
              "      <th>Name</th>\n",
              "      <th>Type 1</th>\n",
              "      <th>Type 2</th>\n",
              "      <th>Total</th>\n",
              "      <th>HP</th>\n",
              "      <th>Attack</th>\n",
              "      <th>Defense</th>\n",
              "      <th>Sp. Atk</th>\n",
              "      <th>Sp. Def</th>\n",
              "      <th>Speed</th>\n",
              "      <th>Generation</th>\n",
              "      <th>Legendary</th>\n",
              "    </tr>\n",
              "  </thead>\n",
              "  <tbody>\n",
              "    <tr>\n",
              "      <th>0</th>\n",
              "      <td>1</td>\n",
              "      <td>Bulbasaur</td>\n",
              "      <td>Grass</td>\n",
              "      <td>Poison</td>\n",
              "      <td>318</td>\n",
              "      <td>45</td>\n",
              "      <td>49</td>\n",
              "      <td>49</td>\n",
              "      <td>65</td>\n",
              "      <td>65</td>\n",
              "      <td>45</td>\n",
              "      <td>1</td>\n",
              "      <td>0</td>\n",
              "    </tr>\n",
              "    <tr>\n",
              "      <th>1</th>\n",
              "      <td>2</td>\n",
              "      <td>Ivysaur</td>\n",
              "      <td>Grass</td>\n",
              "      <td>Poison</td>\n",
              "      <td>405</td>\n",
              "      <td>60</td>\n",
              "      <td>62</td>\n",
              "      <td>63</td>\n",
              "      <td>80</td>\n",
              "      <td>80</td>\n",
              "      <td>60</td>\n",
              "      <td>1</td>\n",
              "      <td>0</td>\n",
              "    </tr>\n",
              "    <tr>\n",
              "      <th>2</th>\n",
              "      <td>3</td>\n",
              "      <td>Venusaur</td>\n",
              "      <td>Grass</td>\n",
              "      <td>Poison</td>\n",
              "      <td>525</td>\n",
              "      <td>80</td>\n",
              "      <td>82</td>\n",
              "      <td>83</td>\n",
              "      <td>100</td>\n",
              "      <td>100</td>\n",
              "      <td>80</td>\n",
              "      <td>1</td>\n",
              "      <td>0</td>\n",
              "    </tr>\n",
              "    <tr>\n",
              "      <th>3</th>\n",
              "      <td>3</td>\n",
              "      <td>VenusaurMega Venusaur</td>\n",
              "      <td>Grass</td>\n",
              "      <td>Poison</td>\n",
              "      <td>625</td>\n",
              "      <td>80</td>\n",
              "      <td>100</td>\n",
              "      <td>123</td>\n",
              "      <td>122</td>\n",
              "      <td>120</td>\n",
              "      <td>80</td>\n",
              "      <td>1</td>\n",
              "      <td>0</td>\n",
              "    </tr>\n",
              "    <tr>\n",
              "      <th>4</th>\n",
              "      <td>4</td>\n",
              "      <td>Charmander</td>\n",
              "      <td>Fire</td>\n",
              "      <td>NaN</td>\n",
              "      <td>309</td>\n",
              "      <td>39</td>\n",
              "      <td>52</td>\n",
              "      <td>43</td>\n",
              "      <td>60</td>\n",
              "      <td>50</td>\n",
              "      <td>65</td>\n",
              "      <td>1</td>\n",
              "      <td>0</td>\n",
              "    </tr>\n",
              "    <tr>\n",
              "      <th>...</th>\n",
              "      <td>...</td>\n",
              "      <td>...</td>\n",
              "      <td>...</td>\n",
              "      <td>...</td>\n",
              "      <td>...</td>\n",
              "      <td>...</td>\n",
              "      <td>...</td>\n",
              "      <td>...</td>\n",
              "      <td>...</td>\n",
              "      <td>...</td>\n",
              "      <td>...</td>\n",
              "      <td>...</td>\n",
              "      <td>...</td>\n",
              "    </tr>\n",
              "    <tr>\n",
              "      <th>795</th>\n",
              "      <td>719</td>\n",
              "      <td>Diancie</td>\n",
              "      <td>Rock</td>\n",
              "      <td>Fairy</td>\n",
              "      <td>600</td>\n",
              "      <td>50</td>\n",
              "      <td>100</td>\n",
              "      <td>150</td>\n",
              "      <td>100</td>\n",
              "      <td>150</td>\n",
              "      <td>50</td>\n",
              "      <td>6</td>\n",
              "      <td>1</td>\n",
              "    </tr>\n",
              "    <tr>\n",
              "      <th>796</th>\n",
              "      <td>719</td>\n",
              "      <td>DiancieMega Diancie</td>\n",
              "      <td>Rock</td>\n",
              "      <td>Fairy</td>\n",
              "      <td>700</td>\n",
              "      <td>50</td>\n",
              "      <td>160</td>\n",
              "      <td>110</td>\n",
              "      <td>160</td>\n",
              "      <td>110</td>\n",
              "      <td>110</td>\n",
              "      <td>6</td>\n",
              "      <td>1</td>\n",
              "    </tr>\n",
              "    <tr>\n",
              "      <th>797</th>\n",
              "      <td>720</td>\n",
              "      <td>HoopaHoopa Confined</td>\n",
              "      <td>Psychic</td>\n",
              "      <td>Ghost</td>\n",
              "      <td>600</td>\n",
              "      <td>80</td>\n",
              "      <td>110</td>\n",
              "      <td>60</td>\n",
              "      <td>150</td>\n",
              "      <td>130</td>\n",
              "      <td>70</td>\n",
              "      <td>6</td>\n",
              "      <td>1</td>\n",
              "    </tr>\n",
              "    <tr>\n",
              "      <th>798</th>\n",
              "      <td>720</td>\n",
              "      <td>HoopaHoopa Unbound</td>\n",
              "      <td>Psychic</td>\n",
              "      <td>Dark</td>\n",
              "      <td>680</td>\n",
              "      <td>80</td>\n",
              "      <td>160</td>\n",
              "      <td>60</td>\n",
              "      <td>170</td>\n",
              "      <td>130</td>\n",
              "      <td>80</td>\n",
              "      <td>6</td>\n",
              "      <td>1</td>\n",
              "    </tr>\n",
              "    <tr>\n",
              "      <th>799</th>\n",
              "      <td>721</td>\n",
              "      <td>Volcanion</td>\n",
              "      <td>Fire</td>\n",
              "      <td>Water</td>\n",
              "      <td>600</td>\n",
              "      <td>80</td>\n",
              "      <td>110</td>\n",
              "      <td>120</td>\n",
              "      <td>130</td>\n",
              "      <td>90</td>\n",
              "      <td>70</td>\n",
              "      <td>6</td>\n",
              "      <td>1</td>\n",
              "    </tr>\n",
              "  </tbody>\n",
              "</table>\n",
              "<p>800 rows × 13 columns</p>\n",
              "</div>\n",
              "      <button class=\"colab-df-convert\" onclick=\"convertToInteractive('df-322ba3de-14dd-4199-a874-d837a6034c0a')\"\n",
              "              title=\"Convert this dataframe to an interactive table.\"\n",
              "              style=\"display:none;\">\n",
              "        \n",
              "  <svg xmlns=\"http://www.w3.org/2000/svg\" height=\"24px\"viewBox=\"0 0 24 24\"\n",
              "       width=\"24px\">\n",
              "    <path d=\"M0 0h24v24H0V0z\" fill=\"none\"/>\n",
              "    <path d=\"M18.56 5.44l.94 2.06.94-2.06 2.06-.94-2.06-.94-.94-2.06-.94 2.06-2.06.94zm-11 1L8.5 8.5l.94-2.06 2.06-.94-2.06-.94L8.5 2.5l-.94 2.06-2.06.94zm10 10l.94 2.06.94-2.06 2.06-.94-2.06-.94-.94-2.06-.94 2.06-2.06.94z\"/><path d=\"M17.41 7.96l-1.37-1.37c-.4-.4-.92-.59-1.43-.59-.52 0-1.04.2-1.43.59L10.3 9.45l-7.72 7.72c-.78.78-.78 2.05 0 2.83L4 21.41c.39.39.9.59 1.41.59.51 0 1.02-.2 1.41-.59l7.78-7.78 2.81-2.81c.8-.78.8-2.07 0-2.86zM5.41 20L4 18.59l7.72-7.72 1.47 1.35L5.41 20z\"/>\n",
              "  </svg>\n",
              "      </button>\n",
              "      \n",
              "  <style>\n",
              "    .colab-df-container {\n",
              "      display:flex;\n",
              "      flex-wrap:wrap;\n",
              "      gap: 12px;\n",
              "    }\n",
              "\n",
              "    .colab-df-convert {\n",
              "      background-color: #E8F0FE;\n",
              "      border: none;\n",
              "      border-radius: 50%;\n",
              "      cursor: pointer;\n",
              "      display: none;\n",
              "      fill: #1967D2;\n",
              "      height: 32px;\n",
              "      padding: 0 0 0 0;\n",
              "      width: 32px;\n",
              "    }\n",
              "\n",
              "    .colab-df-convert:hover {\n",
              "      background-color: #E2EBFA;\n",
              "      box-shadow: 0px 1px 2px rgba(60, 64, 67, 0.3), 0px 1px 3px 1px rgba(60, 64, 67, 0.15);\n",
              "      fill: #174EA6;\n",
              "    }\n",
              "\n",
              "    [theme=dark] .colab-df-convert {\n",
              "      background-color: #3B4455;\n",
              "      fill: #D2E3FC;\n",
              "    }\n",
              "\n",
              "    [theme=dark] .colab-df-convert:hover {\n",
              "      background-color: #434B5C;\n",
              "      box-shadow: 0px 1px 3px 1px rgba(0, 0, 0, 0.15);\n",
              "      filter: drop-shadow(0px 1px 2px rgba(0, 0, 0, 0.3));\n",
              "      fill: #FFFFFF;\n",
              "    }\n",
              "  </style>\n",
              "\n",
              "      <script>\n",
              "        const buttonEl =\n",
              "          document.querySelector('#df-322ba3de-14dd-4199-a874-d837a6034c0a button.colab-df-convert');\n",
              "        buttonEl.style.display =\n",
              "          google.colab.kernel.accessAllowed ? 'block' : 'none';\n",
              "\n",
              "        async function convertToInteractive(key) {\n",
              "          const element = document.querySelector('#df-322ba3de-14dd-4199-a874-d837a6034c0a');\n",
              "          const dataTable =\n",
              "            await google.colab.kernel.invokeFunction('convertToInteractive',\n",
              "                                                     [key], {});\n",
              "          if (!dataTable) return;\n",
              "\n",
              "          const docLinkHtml = 'Like what you see? Visit the ' +\n",
              "            '<a target=\"_blank\" href=https://colab.research.google.com/notebooks/data_table.ipynb>data table notebook</a>'\n",
              "            + ' to learn more about interactive tables.';\n",
              "          element.innerHTML = '';\n",
              "          dataTable['output_type'] = 'display_data';\n",
              "          await google.colab.output.renderOutput(dataTable, element);\n",
              "          const docLink = document.createElement('div');\n",
              "          docLink.innerHTML = docLinkHtml;\n",
              "          element.appendChild(docLink);\n",
              "        }\n",
              "      </script>\n",
              "    </div>\n",
              "  </div>\n",
              "  "
            ]
          },
          "metadata": {},
          "execution_count": 109
        }
      ],
      "source": [
        "for i in range(len(pokemon)):\n",
        "    if pokemon[\"Legendary\"][i]:\n",
        "        pokemon[\"Legendary\"][i] = 1\n",
        "    else:\n",
        "        pokemon[\"Legendary\"][i] = 0\n",
        "pokemon"
      ]
    },
    {
      "cell_type": "code",
      "source": [
        "pokemon.describe()"
      ],
      "metadata": {
        "colab": {
          "base_uri": "https://localhost:8080/",
          "height": 300
        },
        "id": "Q__S3ow9TzV_",
        "outputId": "bc9e14b5-a586-407e-8003-ca97c3aa1fdb"
      },
      "id": "Q__S3ow9TzV_",
      "execution_count": null,
      "outputs": [
        {
          "output_type": "execute_result",
          "data": {
            "text/plain": [
              "                #      Total          HP      Attack     Defense     Sp. Atk  \\\n",
              "count  800.000000  800.00000  800.000000  800.000000  800.000000  800.000000   \n",
              "mean   362.813750  435.10250   69.258750   79.001250   73.842500   72.820000   \n",
              "std    208.343798  119.96304   25.534669   32.457366   31.183501   32.722294   \n",
              "min      1.000000  180.00000    1.000000    5.000000    5.000000   10.000000   \n",
              "25%    184.750000  330.00000   50.000000   55.000000   50.000000   49.750000   \n",
              "50%    364.500000  450.00000   65.000000   75.000000   70.000000   65.000000   \n",
              "75%    539.250000  515.00000   80.000000  100.000000   90.000000   95.000000   \n",
              "max    721.000000  780.00000  255.000000  190.000000  230.000000  194.000000   \n",
              "\n",
              "          Sp. Def       Speed  Generation  \n",
              "count  800.000000  800.000000   800.00000  \n",
              "mean    71.902500   68.277500     3.32375  \n",
              "std     27.828916   29.060474     1.66129  \n",
              "min     20.000000    5.000000     1.00000  \n",
              "25%     50.000000   45.000000     2.00000  \n",
              "50%     70.000000   65.000000     3.00000  \n",
              "75%     90.000000   90.000000     5.00000  \n",
              "max    230.000000  180.000000     6.00000  "
            ],
            "text/html": [
              "\n",
              "  <div id=\"df-c77f3187-7f08-4992-af60-42d9c03e65e8\">\n",
              "    <div class=\"colab-df-container\">\n",
              "      <div>\n",
              "<style scoped>\n",
              "    .dataframe tbody tr th:only-of-type {\n",
              "        vertical-align: middle;\n",
              "    }\n",
              "\n",
              "    .dataframe tbody tr th {\n",
              "        vertical-align: top;\n",
              "    }\n",
              "\n",
              "    .dataframe thead th {\n",
              "        text-align: right;\n",
              "    }\n",
              "</style>\n",
              "<table border=\"1\" class=\"dataframe\">\n",
              "  <thead>\n",
              "    <tr style=\"text-align: right;\">\n",
              "      <th></th>\n",
              "      <th>#</th>\n",
              "      <th>Total</th>\n",
              "      <th>HP</th>\n",
              "      <th>Attack</th>\n",
              "      <th>Defense</th>\n",
              "      <th>Sp. Atk</th>\n",
              "      <th>Sp. Def</th>\n",
              "      <th>Speed</th>\n",
              "      <th>Generation</th>\n",
              "    </tr>\n",
              "  </thead>\n",
              "  <tbody>\n",
              "    <tr>\n",
              "      <th>count</th>\n",
              "      <td>800.000000</td>\n",
              "      <td>800.00000</td>\n",
              "      <td>800.000000</td>\n",
              "      <td>800.000000</td>\n",
              "      <td>800.000000</td>\n",
              "      <td>800.000000</td>\n",
              "      <td>800.000000</td>\n",
              "      <td>800.000000</td>\n",
              "      <td>800.00000</td>\n",
              "    </tr>\n",
              "    <tr>\n",
              "      <th>mean</th>\n",
              "      <td>362.813750</td>\n",
              "      <td>435.10250</td>\n",
              "      <td>69.258750</td>\n",
              "      <td>79.001250</td>\n",
              "      <td>73.842500</td>\n",
              "      <td>72.820000</td>\n",
              "      <td>71.902500</td>\n",
              "      <td>68.277500</td>\n",
              "      <td>3.32375</td>\n",
              "    </tr>\n",
              "    <tr>\n",
              "      <th>std</th>\n",
              "      <td>208.343798</td>\n",
              "      <td>119.96304</td>\n",
              "      <td>25.534669</td>\n",
              "      <td>32.457366</td>\n",
              "      <td>31.183501</td>\n",
              "      <td>32.722294</td>\n",
              "      <td>27.828916</td>\n",
              "      <td>29.060474</td>\n",
              "      <td>1.66129</td>\n",
              "    </tr>\n",
              "    <tr>\n",
              "      <th>min</th>\n",
              "      <td>1.000000</td>\n",
              "      <td>180.00000</td>\n",
              "      <td>1.000000</td>\n",
              "      <td>5.000000</td>\n",
              "      <td>5.000000</td>\n",
              "      <td>10.000000</td>\n",
              "      <td>20.000000</td>\n",
              "      <td>5.000000</td>\n",
              "      <td>1.00000</td>\n",
              "    </tr>\n",
              "    <tr>\n",
              "      <th>25%</th>\n",
              "      <td>184.750000</td>\n",
              "      <td>330.00000</td>\n",
              "      <td>50.000000</td>\n",
              "      <td>55.000000</td>\n",
              "      <td>50.000000</td>\n",
              "      <td>49.750000</td>\n",
              "      <td>50.000000</td>\n",
              "      <td>45.000000</td>\n",
              "      <td>2.00000</td>\n",
              "    </tr>\n",
              "    <tr>\n",
              "      <th>50%</th>\n",
              "      <td>364.500000</td>\n",
              "      <td>450.00000</td>\n",
              "      <td>65.000000</td>\n",
              "      <td>75.000000</td>\n",
              "      <td>70.000000</td>\n",
              "      <td>65.000000</td>\n",
              "      <td>70.000000</td>\n",
              "      <td>65.000000</td>\n",
              "      <td>3.00000</td>\n",
              "    </tr>\n",
              "    <tr>\n",
              "      <th>75%</th>\n",
              "      <td>539.250000</td>\n",
              "      <td>515.00000</td>\n",
              "      <td>80.000000</td>\n",
              "      <td>100.000000</td>\n",
              "      <td>90.000000</td>\n",
              "      <td>95.000000</td>\n",
              "      <td>90.000000</td>\n",
              "      <td>90.000000</td>\n",
              "      <td>5.00000</td>\n",
              "    </tr>\n",
              "    <tr>\n",
              "      <th>max</th>\n",
              "      <td>721.000000</td>\n",
              "      <td>780.00000</td>\n",
              "      <td>255.000000</td>\n",
              "      <td>190.000000</td>\n",
              "      <td>230.000000</td>\n",
              "      <td>194.000000</td>\n",
              "      <td>230.000000</td>\n",
              "      <td>180.000000</td>\n",
              "      <td>6.00000</td>\n",
              "    </tr>\n",
              "  </tbody>\n",
              "</table>\n",
              "</div>\n",
              "      <button class=\"colab-df-convert\" onclick=\"convertToInteractive('df-c77f3187-7f08-4992-af60-42d9c03e65e8')\"\n",
              "              title=\"Convert this dataframe to an interactive table.\"\n",
              "              style=\"display:none;\">\n",
              "        \n",
              "  <svg xmlns=\"http://www.w3.org/2000/svg\" height=\"24px\"viewBox=\"0 0 24 24\"\n",
              "       width=\"24px\">\n",
              "    <path d=\"M0 0h24v24H0V0z\" fill=\"none\"/>\n",
              "    <path d=\"M18.56 5.44l.94 2.06.94-2.06 2.06-.94-2.06-.94-.94-2.06-.94 2.06-2.06.94zm-11 1L8.5 8.5l.94-2.06 2.06-.94-2.06-.94L8.5 2.5l-.94 2.06-2.06.94zm10 10l.94 2.06.94-2.06 2.06-.94-2.06-.94-.94-2.06-.94 2.06-2.06.94z\"/><path d=\"M17.41 7.96l-1.37-1.37c-.4-.4-.92-.59-1.43-.59-.52 0-1.04.2-1.43.59L10.3 9.45l-7.72 7.72c-.78.78-.78 2.05 0 2.83L4 21.41c.39.39.9.59 1.41.59.51 0 1.02-.2 1.41-.59l7.78-7.78 2.81-2.81c.8-.78.8-2.07 0-2.86zM5.41 20L4 18.59l7.72-7.72 1.47 1.35L5.41 20z\"/>\n",
              "  </svg>\n",
              "      </button>\n",
              "      \n",
              "  <style>\n",
              "    .colab-df-container {\n",
              "      display:flex;\n",
              "      flex-wrap:wrap;\n",
              "      gap: 12px;\n",
              "    }\n",
              "\n",
              "    .colab-df-convert {\n",
              "      background-color: #E8F0FE;\n",
              "      border: none;\n",
              "      border-radius: 50%;\n",
              "      cursor: pointer;\n",
              "      display: none;\n",
              "      fill: #1967D2;\n",
              "      height: 32px;\n",
              "      padding: 0 0 0 0;\n",
              "      width: 32px;\n",
              "    }\n",
              "\n",
              "    .colab-df-convert:hover {\n",
              "      background-color: #E2EBFA;\n",
              "      box-shadow: 0px 1px 2px rgba(60, 64, 67, 0.3), 0px 1px 3px 1px rgba(60, 64, 67, 0.15);\n",
              "      fill: #174EA6;\n",
              "    }\n",
              "\n",
              "    [theme=dark] .colab-df-convert {\n",
              "      background-color: #3B4455;\n",
              "      fill: #D2E3FC;\n",
              "    }\n",
              "\n",
              "    [theme=dark] .colab-df-convert:hover {\n",
              "      background-color: #434B5C;\n",
              "      box-shadow: 0px 1px 3px 1px rgba(0, 0, 0, 0.15);\n",
              "      filter: drop-shadow(0px 1px 2px rgba(0, 0, 0, 0.3));\n",
              "      fill: #FFFFFF;\n",
              "    }\n",
              "  </style>\n",
              "\n",
              "      <script>\n",
              "        const buttonEl =\n",
              "          document.querySelector('#df-c77f3187-7f08-4992-af60-42d9c03e65e8 button.colab-df-convert');\n",
              "        buttonEl.style.display =\n",
              "          google.colab.kernel.accessAllowed ? 'block' : 'none';\n",
              "\n",
              "        async function convertToInteractive(key) {\n",
              "          const element = document.querySelector('#df-c77f3187-7f08-4992-af60-42d9c03e65e8');\n",
              "          const dataTable =\n",
              "            await google.colab.kernel.invokeFunction('convertToInteractive',\n",
              "                                                     [key], {});\n",
              "          if (!dataTable) return;\n",
              "\n",
              "          const docLinkHtml = 'Like what you see? Visit the ' +\n",
              "            '<a target=\"_blank\" href=https://colab.research.google.com/notebooks/data_table.ipynb>data table notebook</a>'\n",
              "            + ' to learn more about interactive tables.';\n",
              "          element.innerHTML = '';\n",
              "          dataTable['output_type'] = 'display_data';\n",
              "          await google.colab.output.renderOutput(dataTable, element);\n",
              "          const docLink = document.createElement('div');\n",
              "          docLink.innerHTML = docLinkHtml;\n",
              "          element.appendChild(docLink);\n",
              "        }\n",
              "      </script>\n",
              "    </div>\n",
              "  </div>\n",
              "  "
            ]
          },
          "metadata": {},
          "execution_count": 110
        }
      ]
    },
    {
      "cell_type": "code",
      "source": [
        "pokemon[\"Type 1\"].unique()"
      ],
      "metadata": {
        "colab": {
          "base_uri": "https://localhost:8080/"
        },
        "id": "LaiC844wTzSO",
        "outputId": "e1de72ae-0306-4f8a-d33d-da851c4313a6"
      },
      "id": "LaiC844wTzSO",
      "execution_count": null,
      "outputs": [
        {
          "output_type": "execute_result",
          "data": {
            "text/plain": [
              "array(['Grass', 'Fire', 'Water', 'Bug', 'Normal', 'Poison', 'Electric',\n",
              "       'Ground', 'Fairy', 'Fighting', 'Psychic', 'Rock', 'Ghost', 'Ice',\n",
              "       'Dragon', 'Dark', 'Steel', 'Flying'], dtype=object)"
            ]
          },
          "metadata": {},
          "execution_count": 111
        }
      ]
    },
    {
      "cell_type": "code",
      "source": [
        "pokemon[\"Type 2\"].unique()"
      ],
      "metadata": {
        "colab": {
          "base_uri": "https://localhost:8080/"
        },
        "id": "lbLZlvc3TzOz",
        "outputId": "b42d4b22-594b-4875-9da6-4c4107413849"
      },
      "id": "lbLZlvc3TzOz",
      "execution_count": null,
      "outputs": [
        {
          "output_type": "execute_result",
          "data": {
            "text/plain": [
              "array(['Poison', nan, 'Flying', 'Dragon', 'Ground', 'Fairy', 'Grass',\n",
              "       'Fighting', 'Psychic', 'Steel', 'Ice', 'Rock', 'Dark', 'Water',\n",
              "       'Electric', 'Fire', 'Ghost', 'Bug', 'Normal'], dtype=object)"
            ]
          },
          "metadata": {},
          "execution_count": 112
        }
      ]
    },
    {
      "cell_type": "code",
      "source": [
        "pokemon['Name'].unique()"
      ],
      "metadata": {
        "colab": {
          "base_uri": "https://localhost:8080/"
        },
        "id": "Sq1CIOzHTzIT",
        "outputId": "a3e4d509-439e-41df-8860-b8f28f34ef9d"
      },
      "id": "Sq1CIOzHTzIT",
      "execution_count": null,
      "outputs": [
        {
          "output_type": "execute_result",
          "data": {
            "text/plain": [
              "array(['Bulbasaur', 'Ivysaur', 'Venusaur', 'VenusaurMega Venusaur',\n",
              "       'Charmander', 'Charmeleon', 'Charizard',\n",
              "       'CharizardMega Charizard X', 'CharizardMega Charizard Y',\n",
              "       'Squirtle', 'Wartortle', 'Blastoise', 'BlastoiseMega Blastoise',\n",
              "       'Caterpie', 'Metapod', 'Butterfree', 'Weedle', 'Kakuna',\n",
              "       'Beedrill', 'BeedrillMega Beedrill', 'Pidgey', 'Pidgeotto',\n",
              "       'Pidgeot', 'PidgeotMega Pidgeot', 'Rattata', 'Raticate', 'Spearow',\n",
              "       'Fearow', 'Ekans', 'Arbok', 'Pikachu', 'Raichu', 'Sandshrew',\n",
              "       'Sandslash', 'Nidoran♀', 'Nidorina', 'Nidoqueen', 'Nidoran♂',\n",
              "       'Nidorino', 'Nidoking', 'Clefairy', 'Clefable', 'Vulpix',\n",
              "       'Ninetales', 'Jigglypuff', 'Wigglytuff', 'Zubat', 'Golbat',\n",
              "       'Oddish', 'Gloom', 'Vileplume', 'Paras', 'Parasect', 'Venonat',\n",
              "       'Venomoth', 'Diglett', 'Dugtrio', 'Meowth', 'Persian', 'Psyduck',\n",
              "       'Golduck', 'Mankey', 'Primeape', 'Growlithe', 'Arcanine',\n",
              "       'Poliwag', 'Poliwhirl', 'Poliwrath', 'Abra', 'Kadabra', 'Alakazam',\n",
              "       'AlakazamMega Alakazam', 'Machop', 'Machoke', 'Machamp',\n",
              "       'Bellsprout', 'Weepinbell', 'Victreebel', 'Tentacool',\n",
              "       'Tentacruel', 'Geodude', 'Graveler', 'Golem', 'Ponyta', 'Rapidash',\n",
              "       'Slowpoke', 'Slowbro', 'SlowbroMega Slowbro', 'Magnemite',\n",
              "       'Magneton', \"Farfetch'd\", 'Doduo', 'Dodrio', 'Seel', 'Dewgong',\n",
              "       'Grimer', 'Muk', 'Shellder', 'Cloyster', 'Gastly', 'Haunter',\n",
              "       'Gengar', 'GengarMega Gengar', 'Onix', 'Drowzee', 'Hypno',\n",
              "       'Krabby', 'Kingler', 'Voltorb', 'Electrode', 'Exeggcute',\n",
              "       'Exeggutor', 'Cubone', 'Marowak', 'Hitmonlee', 'Hitmonchan',\n",
              "       'Lickitung', 'Koffing', 'Weezing', 'Rhyhorn', 'Rhydon', 'Chansey',\n",
              "       'Tangela', 'Kangaskhan', 'KangaskhanMega Kangaskhan', 'Horsea',\n",
              "       'Seadra', 'Goldeen', 'Seaking', 'Staryu', 'Starmie', 'Mr. Mime',\n",
              "       'Scyther', 'Jynx', 'Electabuzz', 'Magmar', 'Pinsir',\n",
              "       'PinsirMega Pinsir', 'Tauros', 'Magikarp', 'Gyarados',\n",
              "       'GyaradosMega Gyarados', 'Lapras', 'Ditto', 'Eevee', 'Vaporeon',\n",
              "       'Jolteon', 'Flareon', 'Porygon', 'Omanyte', 'Omastar', 'Kabuto',\n",
              "       'Kabutops', 'Aerodactyl', 'AerodactylMega Aerodactyl', 'Snorlax',\n",
              "       'Articuno', 'Zapdos', 'Moltres', 'Dratini', 'Dragonair',\n",
              "       'Dragonite', 'Mewtwo', 'MewtwoMega Mewtwo X',\n",
              "       'MewtwoMega Mewtwo Y', 'Mew', 'Chikorita', 'Bayleef', 'Meganium',\n",
              "       'Cyndaquil', 'Quilava', 'Typhlosion', 'Totodile', 'Croconaw',\n",
              "       'Feraligatr', 'Sentret', 'Furret', 'Hoothoot', 'Noctowl', 'Ledyba',\n",
              "       'Ledian', 'Spinarak', 'Ariados', 'Crobat', 'Chinchou', 'Lanturn',\n",
              "       'Pichu', 'Cleffa', 'Igglybuff', 'Togepi', 'Togetic', 'Natu',\n",
              "       'Xatu', 'Mareep', 'Flaaffy', 'Ampharos', 'AmpharosMega Ampharos',\n",
              "       'Bellossom', 'Marill', 'Azumarill', 'Sudowoodo', 'Politoed',\n",
              "       'Hoppip', 'Skiploom', 'Jumpluff', 'Aipom', 'Sunkern', 'Sunflora',\n",
              "       'Yanma', 'Wooper', 'Quagsire', 'Espeon', 'Umbreon', 'Murkrow',\n",
              "       'Slowking', 'Misdreavus', 'Unown', 'Wobbuffet', 'Girafarig',\n",
              "       'Pineco', 'Forretress', 'Dunsparce', 'Gligar', 'Steelix',\n",
              "       'SteelixMega Steelix', 'Snubbull', 'Granbull', 'Qwilfish',\n",
              "       'Scizor', 'ScizorMega Scizor', 'Shuckle', 'Heracross',\n",
              "       'HeracrossMega Heracross', 'Sneasel', 'Teddiursa', 'Ursaring',\n",
              "       'Slugma', 'Magcargo', 'Swinub', 'Piloswine', 'Corsola', 'Remoraid',\n",
              "       'Octillery', 'Delibird', 'Mantine', 'Skarmory', 'Houndour',\n",
              "       'Houndoom', 'HoundoomMega Houndoom', 'Kingdra', 'Phanpy',\n",
              "       'Donphan', 'Porygon2', 'Stantler', 'Smeargle', 'Tyrogue',\n",
              "       'Hitmontop', 'Smoochum', 'Elekid', 'Magby', 'Miltank', 'Blissey',\n",
              "       'Raikou', 'Entei', 'Suicune', 'Larvitar', 'Pupitar', 'Tyranitar',\n",
              "       'TyranitarMega Tyranitar', 'Lugia', 'Ho-oh', 'Celebi', 'Treecko',\n",
              "       'Grovyle', 'Sceptile', 'SceptileMega Sceptile', 'Torchic',\n",
              "       'Combusken', 'Blaziken', 'BlazikenMega Blaziken', 'Mudkip',\n",
              "       'Marshtomp', 'Swampert', 'SwampertMega Swampert', 'Poochyena',\n",
              "       'Mightyena', 'Zigzagoon', 'Linoone', 'Wurmple', 'Silcoon',\n",
              "       'Beautifly', 'Cascoon', 'Dustox', 'Lotad', 'Lombre', 'Ludicolo',\n",
              "       'Seedot', 'Nuzleaf', 'Shiftry', 'Taillow', 'Swellow', 'Wingull',\n",
              "       'Pelipper', 'Ralts', 'Kirlia', 'Gardevoir',\n",
              "       'GardevoirMega Gardevoir', 'Surskit', 'Masquerain', 'Shroomish',\n",
              "       'Breloom', 'Slakoth', 'Vigoroth', 'Slaking', 'Nincada', 'Ninjask',\n",
              "       'Shedinja', 'Whismur', 'Loudred', 'Exploud', 'Makuhita',\n",
              "       'Hariyama', 'Azurill', 'Nosepass', 'Skitty', 'Delcatty', 'Sableye',\n",
              "       'SableyeMega Sableye', 'Mawile', 'MawileMega Mawile', 'Aron',\n",
              "       'Lairon', 'Aggron', 'AggronMega Aggron', 'Meditite', 'Medicham',\n",
              "       'MedichamMega Medicham', 'Electrike', 'Manectric',\n",
              "       'ManectricMega Manectric', 'Plusle', 'Minun', 'Volbeat',\n",
              "       'Illumise', 'Roselia', 'Gulpin', 'Swalot', 'Carvanha', 'Sharpedo',\n",
              "       'SharpedoMega Sharpedo', 'Wailmer', 'Wailord', 'Numel', 'Camerupt',\n",
              "       'CameruptMega Camerupt', 'Torkoal', 'Spoink', 'Grumpig', 'Spinda',\n",
              "       'Trapinch', 'Vibrava', 'Flygon', 'Cacnea', 'Cacturne', 'Swablu',\n",
              "       'Altaria', 'AltariaMega Altaria', 'Zangoose', 'Seviper',\n",
              "       'Lunatone', 'Solrock', 'Barboach', 'Whiscash', 'Corphish',\n",
              "       'Crawdaunt', 'Baltoy', 'Claydol', 'Lileep', 'Cradily', 'Anorith',\n",
              "       'Armaldo', 'Feebas', 'Milotic', 'Castform', 'Kecleon', 'Shuppet',\n",
              "       'Banette', 'BanetteMega Banette', 'Duskull', 'Dusclops', 'Tropius',\n",
              "       'Chimecho', 'Absol', 'AbsolMega Absol', 'Wynaut', 'Snorunt',\n",
              "       'Glalie', 'GlalieMega Glalie', 'Spheal', 'Sealeo', 'Walrein',\n",
              "       'Clamperl', 'Huntail', 'Gorebyss', 'Relicanth', 'Luvdisc', 'Bagon',\n",
              "       'Shelgon', 'Salamence', 'SalamenceMega Salamence', 'Beldum',\n",
              "       'Metang', 'Metagross', 'MetagrossMega Metagross', 'Regirock',\n",
              "       'Regice', 'Registeel', 'Latias', 'LatiasMega Latias', 'Latios',\n",
              "       'LatiosMega Latios', 'Kyogre', 'KyogrePrimal Kyogre', 'Groudon',\n",
              "       'GroudonPrimal Groudon', 'Rayquaza', 'RayquazaMega Rayquaza',\n",
              "       'Jirachi', 'DeoxysNormal Forme', 'DeoxysAttack Forme',\n",
              "       'DeoxysDefense Forme', 'DeoxysSpeed Forme', 'Turtwig', 'Grotle',\n",
              "       'Torterra', 'Chimchar', 'Monferno', 'Infernape', 'Piplup',\n",
              "       'Prinplup', 'Empoleon', 'Starly', 'Staravia', 'Staraptor',\n",
              "       'Bidoof', 'Bibarel', 'Kricketot', 'Kricketune', 'Shinx', 'Luxio',\n",
              "       'Luxray', 'Budew', 'Roserade', 'Cranidos', 'Rampardos', 'Shieldon',\n",
              "       'Bastiodon', 'Burmy', 'WormadamPlant Cloak', 'WormadamSandy Cloak',\n",
              "       'WormadamTrash Cloak', 'Mothim', 'Combee', 'Vespiquen',\n",
              "       'Pachirisu', 'Buizel', 'Floatzel', 'Cherubi', 'Cherrim', 'Shellos',\n",
              "       'Gastrodon', 'Ambipom', 'Drifloon', 'Drifblim', 'Buneary',\n",
              "       'Lopunny', 'LopunnyMega Lopunny', 'Mismagius', 'Honchkrow',\n",
              "       'Glameow', 'Purugly', 'Chingling', 'Stunky', 'Skuntank', 'Bronzor',\n",
              "       'Bronzong', 'Bonsly', 'Mime Jr.', 'Happiny', 'Chatot', 'Spiritomb',\n",
              "       'Gible', 'Gabite', 'Garchomp', 'GarchompMega Garchomp', 'Munchlax',\n",
              "       'Riolu', 'Lucario', 'LucarioMega Lucario', 'Hippopotas',\n",
              "       'Hippowdon', 'Skorupi', 'Drapion', 'Croagunk', 'Toxicroak',\n",
              "       'Carnivine', 'Finneon', 'Lumineon', 'Mantyke', 'Snover',\n",
              "       'Abomasnow', 'AbomasnowMega Abomasnow', 'Weavile', 'Magnezone',\n",
              "       'Lickilicky', 'Rhyperior', 'Tangrowth', 'Electivire', 'Magmortar',\n",
              "       'Togekiss', 'Yanmega', 'Leafeon', 'Glaceon', 'Gliscor',\n",
              "       'Mamoswine', 'Porygon-Z', 'Gallade', 'GalladeMega Gallade',\n",
              "       'Probopass', 'Dusknoir', 'Froslass', 'Rotom', 'RotomHeat Rotom',\n",
              "       'RotomWash Rotom', 'RotomFrost Rotom', 'RotomFan Rotom',\n",
              "       'RotomMow Rotom', 'Uxie', 'Mesprit', 'Azelf', 'Dialga', 'Palkia',\n",
              "       'Heatran', 'Regigigas', 'GiratinaAltered Forme',\n",
              "       'GiratinaOrigin Forme', 'Cresselia', 'Phione', 'Manaphy',\n",
              "       'Darkrai', 'ShayminLand Forme', 'ShayminSky Forme', 'Arceus',\n",
              "       'Victini', 'Snivy', 'Servine', 'Serperior', 'Tepig', 'Pignite',\n",
              "       'Emboar', 'Oshawott', 'Dewott', 'Samurott', 'Patrat', 'Watchog',\n",
              "       'Lillipup', 'Herdier', 'Stoutland', 'Purrloin', 'Liepard',\n",
              "       'Pansage', 'Simisage', 'Pansear', 'Simisear', 'Panpour',\n",
              "       'Simipour', 'Munna', 'Musharna', 'Pidove', 'Tranquill', 'Unfezant',\n",
              "       'Blitzle', 'Zebstrika', 'Roggenrola', 'Boldore', 'Gigalith',\n",
              "       'Woobat', 'Swoobat', 'Drilbur', 'Excadrill', 'Audino',\n",
              "       'AudinoMega Audino', 'Timburr', 'Gurdurr', 'Conkeldurr', 'Tympole',\n",
              "       'Palpitoad', 'Seismitoad', 'Throh', 'Sawk', 'Sewaddle', 'Swadloon',\n",
              "       'Leavanny', 'Venipede', 'Whirlipede', 'Scolipede', 'Cottonee',\n",
              "       'Whimsicott', 'Petilil', 'Lilligant', 'Basculin', 'Sandile',\n",
              "       'Krokorok', 'Krookodile', 'Darumaka', 'DarmanitanStandard Mode',\n",
              "       'DarmanitanZen Mode', 'Maractus', 'Dwebble', 'Crustle', 'Scraggy',\n",
              "       'Scrafty', 'Sigilyph', 'Yamask', 'Cofagrigus', 'Tirtouga',\n",
              "       'Carracosta', 'Archen', 'Archeops', 'Trubbish', 'Garbodor',\n",
              "       'Zorua', 'Zoroark', 'Minccino', 'Cinccino', 'Gothita', 'Gothorita',\n",
              "       'Gothitelle', 'Solosis', 'Duosion', 'Reuniclus', 'Ducklett',\n",
              "       'Swanna', 'Vanillite', 'Vanillish', 'Vanilluxe', 'Deerling',\n",
              "       'Sawsbuck', 'Emolga', 'Karrablast', 'Escavalier', 'Foongus',\n",
              "       'Amoonguss', 'Frillish', 'Jellicent', 'Alomomola', 'Joltik',\n",
              "       'Galvantula', 'Ferroseed', 'Ferrothorn', 'Klink', 'Klang',\n",
              "       'Klinklang', 'Tynamo', 'Eelektrik', 'Eelektross', 'Elgyem',\n",
              "       'Beheeyem', 'Litwick', 'Lampent', 'Chandelure', 'Axew', 'Fraxure',\n",
              "       'Haxorus', 'Cubchoo', 'Beartic', 'Cryogonal', 'Shelmet',\n",
              "       'Accelgor', 'Stunfisk', 'Mienfoo', 'Mienshao', 'Druddigon',\n",
              "       'Golett', 'Golurk', 'Pawniard', 'Bisharp', 'Bouffalant', 'Rufflet',\n",
              "       'Braviary', 'Vullaby', 'Mandibuzz', 'Heatmor', 'Durant', 'Deino',\n",
              "       'Zweilous', 'Hydreigon', 'Larvesta', 'Volcarona', 'Cobalion',\n",
              "       'Terrakion', 'Virizion', 'TornadusIncarnate Forme',\n",
              "       'TornadusTherian Forme', 'ThundurusIncarnate Forme',\n",
              "       'ThundurusTherian Forme', 'Reshiram', 'Zekrom',\n",
              "       'LandorusIncarnate Forme', 'LandorusTherian Forme', 'Kyurem',\n",
              "       'KyuremBlack Kyurem', 'KyuremWhite Kyurem', 'KeldeoOrdinary Forme',\n",
              "       'KeldeoResolute Forme', 'MeloettaAria Forme',\n",
              "       'MeloettaPirouette Forme', 'Genesect', 'Chespin', 'Quilladin',\n",
              "       'Chesnaught', 'Fennekin', 'Braixen', 'Delphox', 'Froakie',\n",
              "       'Frogadier', 'Greninja', 'Bunnelby', 'Diggersby', 'Fletchling',\n",
              "       'Fletchinder', 'Talonflame', 'Scatterbug', 'Spewpa', 'Vivillon',\n",
              "       'Litleo', 'Pyroar', 'Flabébé', 'Floette', 'Florges', 'Skiddo',\n",
              "       'Gogoat', 'Pancham', 'Pangoro', 'Furfrou', 'Espurr',\n",
              "       'MeowsticMale', 'MeowsticFemale', 'Honedge', 'Doublade',\n",
              "       'AegislashBlade Forme', 'AegislashShield Forme', 'Spritzee',\n",
              "       'Aromatisse', 'Swirlix', 'Slurpuff', 'Inkay', 'Malamar', 'Binacle',\n",
              "       'Barbaracle', 'Skrelp', 'Dragalge', 'Clauncher', 'Clawitzer',\n",
              "       'Helioptile', 'Heliolisk', 'Tyrunt', 'Tyrantrum', 'Amaura',\n",
              "       'Aurorus', 'Sylveon', 'Hawlucha', 'Dedenne', 'Carbink', 'Goomy',\n",
              "       'Sliggoo', 'Goodra', 'Klefki', 'Phantump', 'Trevenant',\n",
              "       'PumpkabooAverage Size', 'PumpkabooSmall Size',\n",
              "       'PumpkabooLarge Size', 'PumpkabooSuper Size',\n",
              "       'GourgeistAverage Size', 'GourgeistSmall Size',\n",
              "       'GourgeistLarge Size', 'GourgeistSuper Size', 'Bergmite',\n",
              "       'Avalugg', 'Noibat', 'Noivern', 'Xerneas', 'Yveltal',\n",
              "       'Zygarde50% Forme', 'Diancie', 'DiancieMega Diancie',\n",
              "       'HoopaHoopa Confined', 'HoopaHoopa Unbound', 'Volcanion'],\n",
              "      dtype=object)"
            ]
          },
          "metadata": {},
          "execution_count": 113
        }
      ]
    },
    {
      "cell_type": "markdown",
      "source": [
        "очень странные айди, не нужные имена и типы"
      ],
      "metadata": {
        "id": "bIJCB70_UOUi"
      },
      "id": "bIJCB70_UOUi"
    },
    {
      "cell_type": "code",
      "source": [
        "pokemon = pokemon.drop([\"#\", \"Type 1\", \"Type 2\", \"Name\"], axis = 1)\n",
        "pokemon"
      ],
      "metadata": {
        "colab": {
          "base_uri": "https://localhost:8080/",
          "height": 423
        },
        "id": "kp4IaHbuUKfV",
        "outputId": "b4d8f9e3-9838-49f7-b182-82b3019d86c2"
      },
      "id": "kp4IaHbuUKfV",
      "execution_count": null,
      "outputs": [
        {
          "output_type": "execute_result",
          "data": {
            "text/plain": [
              "     Total  HP  Attack  Defense  Sp. Atk  Sp. Def  Speed  Generation Legendary\n",
              "0      318  45      49       49       65       65     45           1         0\n",
              "1      405  60      62       63       80       80     60           1         0\n",
              "2      525  80      82       83      100      100     80           1         0\n",
              "3      625  80     100      123      122      120     80           1         0\n",
              "4      309  39      52       43       60       50     65           1         0\n",
              "..     ...  ..     ...      ...      ...      ...    ...         ...       ...\n",
              "795    600  50     100      150      100      150     50           6         1\n",
              "796    700  50     160      110      160      110    110           6         1\n",
              "797    600  80     110       60      150      130     70           6         1\n",
              "798    680  80     160       60      170      130     80           6         1\n",
              "799    600  80     110      120      130       90     70           6         1\n",
              "\n",
              "[800 rows x 9 columns]"
            ],
            "text/html": [
              "\n",
              "  <div id=\"df-52d115b1-6029-4186-88b1-deb3287bb0ff\">\n",
              "    <div class=\"colab-df-container\">\n",
              "      <div>\n",
              "<style scoped>\n",
              "    .dataframe tbody tr th:only-of-type {\n",
              "        vertical-align: middle;\n",
              "    }\n",
              "\n",
              "    .dataframe tbody tr th {\n",
              "        vertical-align: top;\n",
              "    }\n",
              "\n",
              "    .dataframe thead th {\n",
              "        text-align: right;\n",
              "    }\n",
              "</style>\n",
              "<table border=\"1\" class=\"dataframe\">\n",
              "  <thead>\n",
              "    <tr style=\"text-align: right;\">\n",
              "      <th></th>\n",
              "      <th>Total</th>\n",
              "      <th>HP</th>\n",
              "      <th>Attack</th>\n",
              "      <th>Defense</th>\n",
              "      <th>Sp. Atk</th>\n",
              "      <th>Sp. Def</th>\n",
              "      <th>Speed</th>\n",
              "      <th>Generation</th>\n",
              "      <th>Legendary</th>\n",
              "    </tr>\n",
              "  </thead>\n",
              "  <tbody>\n",
              "    <tr>\n",
              "      <th>0</th>\n",
              "      <td>318</td>\n",
              "      <td>45</td>\n",
              "      <td>49</td>\n",
              "      <td>49</td>\n",
              "      <td>65</td>\n",
              "      <td>65</td>\n",
              "      <td>45</td>\n",
              "      <td>1</td>\n",
              "      <td>0</td>\n",
              "    </tr>\n",
              "    <tr>\n",
              "      <th>1</th>\n",
              "      <td>405</td>\n",
              "      <td>60</td>\n",
              "      <td>62</td>\n",
              "      <td>63</td>\n",
              "      <td>80</td>\n",
              "      <td>80</td>\n",
              "      <td>60</td>\n",
              "      <td>1</td>\n",
              "      <td>0</td>\n",
              "    </tr>\n",
              "    <tr>\n",
              "      <th>2</th>\n",
              "      <td>525</td>\n",
              "      <td>80</td>\n",
              "      <td>82</td>\n",
              "      <td>83</td>\n",
              "      <td>100</td>\n",
              "      <td>100</td>\n",
              "      <td>80</td>\n",
              "      <td>1</td>\n",
              "      <td>0</td>\n",
              "    </tr>\n",
              "    <tr>\n",
              "      <th>3</th>\n",
              "      <td>625</td>\n",
              "      <td>80</td>\n",
              "      <td>100</td>\n",
              "      <td>123</td>\n",
              "      <td>122</td>\n",
              "      <td>120</td>\n",
              "      <td>80</td>\n",
              "      <td>1</td>\n",
              "      <td>0</td>\n",
              "    </tr>\n",
              "    <tr>\n",
              "      <th>4</th>\n",
              "      <td>309</td>\n",
              "      <td>39</td>\n",
              "      <td>52</td>\n",
              "      <td>43</td>\n",
              "      <td>60</td>\n",
              "      <td>50</td>\n",
              "      <td>65</td>\n",
              "      <td>1</td>\n",
              "      <td>0</td>\n",
              "    </tr>\n",
              "    <tr>\n",
              "      <th>...</th>\n",
              "      <td>...</td>\n",
              "      <td>...</td>\n",
              "      <td>...</td>\n",
              "      <td>...</td>\n",
              "      <td>...</td>\n",
              "      <td>...</td>\n",
              "      <td>...</td>\n",
              "      <td>...</td>\n",
              "      <td>...</td>\n",
              "    </tr>\n",
              "    <tr>\n",
              "      <th>795</th>\n",
              "      <td>600</td>\n",
              "      <td>50</td>\n",
              "      <td>100</td>\n",
              "      <td>150</td>\n",
              "      <td>100</td>\n",
              "      <td>150</td>\n",
              "      <td>50</td>\n",
              "      <td>6</td>\n",
              "      <td>1</td>\n",
              "    </tr>\n",
              "    <tr>\n",
              "      <th>796</th>\n",
              "      <td>700</td>\n",
              "      <td>50</td>\n",
              "      <td>160</td>\n",
              "      <td>110</td>\n",
              "      <td>160</td>\n",
              "      <td>110</td>\n",
              "      <td>110</td>\n",
              "      <td>6</td>\n",
              "      <td>1</td>\n",
              "    </tr>\n",
              "    <tr>\n",
              "      <th>797</th>\n",
              "      <td>600</td>\n",
              "      <td>80</td>\n",
              "      <td>110</td>\n",
              "      <td>60</td>\n",
              "      <td>150</td>\n",
              "      <td>130</td>\n",
              "      <td>70</td>\n",
              "      <td>6</td>\n",
              "      <td>1</td>\n",
              "    </tr>\n",
              "    <tr>\n",
              "      <th>798</th>\n",
              "      <td>680</td>\n",
              "      <td>80</td>\n",
              "      <td>160</td>\n",
              "      <td>60</td>\n",
              "      <td>170</td>\n",
              "      <td>130</td>\n",
              "      <td>80</td>\n",
              "      <td>6</td>\n",
              "      <td>1</td>\n",
              "    </tr>\n",
              "    <tr>\n",
              "      <th>799</th>\n",
              "      <td>600</td>\n",
              "      <td>80</td>\n",
              "      <td>110</td>\n",
              "      <td>120</td>\n",
              "      <td>130</td>\n",
              "      <td>90</td>\n",
              "      <td>70</td>\n",
              "      <td>6</td>\n",
              "      <td>1</td>\n",
              "    </tr>\n",
              "  </tbody>\n",
              "</table>\n",
              "<p>800 rows × 9 columns</p>\n",
              "</div>\n",
              "      <button class=\"colab-df-convert\" onclick=\"convertToInteractive('df-52d115b1-6029-4186-88b1-deb3287bb0ff')\"\n",
              "              title=\"Convert this dataframe to an interactive table.\"\n",
              "              style=\"display:none;\">\n",
              "        \n",
              "  <svg xmlns=\"http://www.w3.org/2000/svg\" height=\"24px\"viewBox=\"0 0 24 24\"\n",
              "       width=\"24px\">\n",
              "    <path d=\"M0 0h24v24H0V0z\" fill=\"none\"/>\n",
              "    <path d=\"M18.56 5.44l.94 2.06.94-2.06 2.06-.94-2.06-.94-.94-2.06-.94 2.06-2.06.94zm-11 1L8.5 8.5l.94-2.06 2.06-.94-2.06-.94L8.5 2.5l-.94 2.06-2.06.94zm10 10l.94 2.06.94-2.06 2.06-.94-2.06-.94-.94-2.06-.94 2.06-2.06.94z\"/><path d=\"M17.41 7.96l-1.37-1.37c-.4-.4-.92-.59-1.43-.59-.52 0-1.04.2-1.43.59L10.3 9.45l-7.72 7.72c-.78.78-.78 2.05 0 2.83L4 21.41c.39.39.9.59 1.41.59.51 0 1.02-.2 1.41-.59l7.78-7.78 2.81-2.81c.8-.78.8-2.07 0-2.86zM5.41 20L4 18.59l7.72-7.72 1.47 1.35L5.41 20z\"/>\n",
              "  </svg>\n",
              "      </button>\n",
              "      \n",
              "  <style>\n",
              "    .colab-df-container {\n",
              "      display:flex;\n",
              "      flex-wrap:wrap;\n",
              "      gap: 12px;\n",
              "    }\n",
              "\n",
              "    .colab-df-convert {\n",
              "      background-color: #E8F0FE;\n",
              "      border: none;\n",
              "      border-radius: 50%;\n",
              "      cursor: pointer;\n",
              "      display: none;\n",
              "      fill: #1967D2;\n",
              "      height: 32px;\n",
              "      padding: 0 0 0 0;\n",
              "      width: 32px;\n",
              "    }\n",
              "\n",
              "    .colab-df-convert:hover {\n",
              "      background-color: #E2EBFA;\n",
              "      box-shadow: 0px 1px 2px rgba(60, 64, 67, 0.3), 0px 1px 3px 1px rgba(60, 64, 67, 0.15);\n",
              "      fill: #174EA6;\n",
              "    }\n",
              "\n",
              "    [theme=dark] .colab-df-convert {\n",
              "      background-color: #3B4455;\n",
              "      fill: #D2E3FC;\n",
              "    }\n",
              "\n",
              "    [theme=dark] .colab-df-convert:hover {\n",
              "      background-color: #434B5C;\n",
              "      box-shadow: 0px 1px 3px 1px rgba(0, 0, 0, 0.15);\n",
              "      filter: drop-shadow(0px 1px 2px rgba(0, 0, 0, 0.3));\n",
              "      fill: #FFFFFF;\n",
              "    }\n",
              "  </style>\n",
              "\n",
              "      <script>\n",
              "        const buttonEl =\n",
              "          document.querySelector('#df-52d115b1-6029-4186-88b1-deb3287bb0ff button.colab-df-convert');\n",
              "        buttonEl.style.display =\n",
              "          google.colab.kernel.accessAllowed ? 'block' : 'none';\n",
              "\n",
              "        async function convertToInteractive(key) {\n",
              "          const element = document.querySelector('#df-52d115b1-6029-4186-88b1-deb3287bb0ff');\n",
              "          const dataTable =\n",
              "            await google.colab.kernel.invokeFunction('convertToInteractive',\n",
              "                                                     [key], {});\n",
              "          if (!dataTable) return;\n",
              "\n",
              "          const docLinkHtml = 'Like what you see? Visit the ' +\n",
              "            '<a target=\"_blank\" href=https://colab.research.google.com/notebooks/data_table.ipynb>data table notebook</a>'\n",
              "            + ' to learn more about interactive tables.';\n",
              "          element.innerHTML = '';\n",
              "          dataTable['output_type'] = 'display_data';\n",
              "          await google.colab.output.renderOutput(dataTable, element);\n",
              "          const docLink = document.createElement('div');\n",
              "          docLink.innerHTML = docLinkHtml;\n",
              "          element.appendChild(docLink);\n",
              "        }\n",
              "      </script>\n",
              "    </div>\n",
              "  </div>\n",
              "  "
            ]
          },
          "metadata": {},
          "execution_count": 114
        }
      ]
    },
    {
      "cell_type": "markdown",
      "id": "12e09fa0",
      "metadata": {
        "id": "12e09fa0"
      },
      "source": [
        "Разделите ваши данные на тестовую и тренировочную выборку."
      ]
    },
    {
      "cell_type": "code",
      "execution_count": null,
      "id": "e68671bd-8082-4ac7-a159-13e8e8563049",
      "metadata": {
        "id": "e68671bd-8082-4ac7-a159-13e8e8563049"
      },
      "outputs": [],
      "source": [
        "X_train, X_test, y_train, y_test = train_test_split(X, y, test_size=0.2)"
      ]
    },
    {
      "cell_type": "markdown",
      "id": "321d3f38",
      "metadata": {
        "id": "321d3f38"
      },
      "source": [
        "Обучите модель `LogisticRegression` из `sklearn`."
      ]
    },
    {
      "cell_type": "code",
      "execution_count": null,
      "id": "c432c38a-7ebf-4b3c-bb87-60d49a0d5787",
      "metadata": {
        "id": "c432c38a-7ebf-4b3c-bb87-60d49a0d5787"
      },
      "outputs": [],
      "source": [
        "scaler = StandardScaler()\n",
        "X_train = scaler.fit_transform(X_train)\n",
        "X_test = scaler.fit(X_test)"
      ]
    },
    {
      "cell_type": "code",
      "source": [
        "log_reg = LogisticRegression()\n",
        "log_reg.fit(X_train, y_train)"
      ],
      "metadata": {
        "colab": {
          "base_uri": "https://localhost:8080/",
          "height": 52
        },
        "id": "Kiqr0x6PVmYM",
        "outputId": "dcee0eb7-0999-4da8-8c72-708ea4d47c43"
      },
      "id": "Kiqr0x6PVmYM",
      "execution_count": null,
      "outputs": [
        {
          "output_type": "execute_result",
          "data": {
            "text/plain": [
              "LogisticRegression()"
            ],
            "text/html": [
              "<style>#sk-container-id-7 {color: black;background-color: white;}#sk-container-id-7 pre{padding: 0;}#sk-container-id-7 div.sk-toggleable {background-color: white;}#sk-container-id-7 label.sk-toggleable__label {cursor: pointer;display: block;width: 100%;margin-bottom: 0;padding: 0.3em;box-sizing: border-box;text-align: center;}#sk-container-id-7 label.sk-toggleable__label-arrow:before {content: \"▸\";float: left;margin-right: 0.25em;color: #696969;}#sk-container-id-7 label.sk-toggleable__label-arrow:hover:before {color: black;}#sk-container-id-7 div.sk-estimator:hover label.sk-toggleable__label-arrow:before {color: black;}#sk-container-id-7 div.sk-toggleable__content {max-height: 0;max-width: 0;overflow: hidden;text-align: left;background-color: #f0f8ff;}#sk-container-id-7 div.sk-toggleable__content pre {margin: 0.2em;color: black;border-radius: 0.25em;background-color: #f0f8ff;}#sk-container-id-7 input.sk-toggleable__control:checked~div.sk-toggleable__content {max-height: 200px;max-width: 100%;overflow: auto;}#sk-container-id-7 input.sk-toggleable__control:checked~label.sk-toggleable__label-arrow:before {content: \"▾\";}#sk-container-id-7 div.sk-estimator input.sk-toggleable__control:checked~label.sk-toggleable__label {background-color: #d4ebff;}#sk-container-id-7 div.sk-label input.sk-toggleable__control:checked~label.sk-toggleable__label {background-color: #d4ebff;}#sk-container-id-7 input.sk-hidden--visually {border: 0;clip: rect(1px 1px 1px 1px);clip: rect(1px, 1px, 1px, 1px);height: 1px;margin: -1px;overflow: hidden;padding: 0;position: absolute;width: 1px;}#sk-container-id-7 div.sk-estimator {font-family: monospace;background-color: #f0f8ff;border: 1px dotted black;border-radius: 0.25em;box-sizing: border-box;margin-bottom: 0.5em;}#sk-container-id-7 div.sk-estimator:hover {background-color: #d4ebff;}#sk-container-id-7 div.sk-parallel-item::after {content: \"\";width: 100%;border-bottom: 1px solid gray;flex-grow: 1;}#sk-container-id-7 div.sk-label:hover label.sk-toggleable__label {background-color: #d4ebff;}#sk-container-id-7 div.sk-serial::before {content: \"\";position: absolute;border-left: 1px solid gray;box-sizing: border-box;top: 0;bottom: 0;left: 50%;z-index: 0;}#sk-container-id-7 div.sk-serial {display: flex;flex-direction: column;align-items: center;background-color: white;padding-right: 0.2em;padding-left: 0.2em;position: relative;}#sk-container-id-7 div.sk-item {position: relative;z-index: 1;}#sk-container-id-7 div.sk-parallel {display: flex;align-items: stretch;justify-content: center;background-color: white;position: relative;}#sk-container-id-7 div.sk-item::before, #sk-container-id-7 div.sk-parallel-item::before {content: \"\";position: absolute;border-left: 1px solid gray;box-sizing: border-box;top: 0;bottom: 0;left: 50%;z-index: -1;}#sk-container-id-7 div.sk-parallel-item {display: flex;flex-direction: column;z-index: 1;position: relative;background-color: white;}#sk-container-id-7 div.sk-parallel-item:first-child::after {align-self: flex-end;width: 50%;}#sk-container-id-7 div.sk-parallel-item:last-child::after {align-self: flex-start;width: 50%;}#sk-container-id-7 div.sk-parallel-item:only-child::after {width: 0;}#sk-container-id-7 div.sk-dashed-wrapped {border: 1px dashed gray;margin: 0 0.4em 0.5em 0.4em;box-sizing: border-box;padding-bottom: 0.4em;background-color: white;}#sk-container-id-7 div.sk-label label {font-family: monospace;font-weight: bold;display: inline-block;line-height: 1.2em;}#sk-container-id-7 div.sk-label-container {text-align: center;}#sk-container-id-7 div.sk-container {/* jupyter's `normalize.less` sets `[hidden] { display: none; }` but bootstrap.min.css set `[hidden] { display: none !important; }` so we also need the `!important` here to be able to override the default hidden behavior on the sphinx rendered scikit-learn.org. See: https://github.com/scikit-learn/scikit-learn/issues/21755 */display: inline-block !important;position: relative;}#sk-container-id-7 div.sk-text-repr-fallback {display: none;}</style><div id=\"sk-container-id-7\" class=\"sk-top-container\"><div class=\"sk-text-repr-fallback\"><pre>LogisticRegression()</pre><b>In a Jupyter environment, please rerun this cell to show the HTML representation or trust the notebook. <br />On GitHub, the HTML representation is unable to render, please try loading this page with nbviewer.org.</b></div><div class=\"sk-container\" hidden><div class=\"sk-item\"><div class=\"sk-estimator sk-toggleable\"><input class=\"sk-toggleable__control sk-hidden--visually\" id=\"sk-estimator-id-7\" type=\"checkbox\" checked><label for=\"sk-estimator-id-7\" class=\"sk-toggleable__label sk-toggleable__label-arrow\">LogisticRegression</label><div class=\"sk-toggleable__content\"><pre>LogisticRegression()</pre></div></div></div></div></div>"
            ]
          },
          "metadata": {},
          "execution_count": 139
        }
      ]
    },
    {
      "cell_type": "markdown",
      "id": "75dc12fe",
      "metadata": {
        "id": "75dc12fe"
      },
      "source": [
        "Выведите метрики вашего классификатора:\n",
        "\n",
        "1. Нарисуйте [confusion matrix](https://scikit-learn.org/stable/modules/generated/sklearn.metrics.plot_confusion_matrix.html).\n",
        "\n",
        "2. Изобразите ROC кривую и посчитайте площадь под ней.\n",
        "\n",
        "3. Скажите, какие признаки оказались наиболее важны для модели."
      ]
    },
    {
      "cell_type": "code",
      "execution_count": null,
      "id": "63f58f5a-3b46-4562-b4bb-6d09c9a5fb3b",
      "metadata": {
        "id": "63f58f5a-3b46-4562-b4bb-6d09c9a5fb3b"
      },
      "outputs": [],
      "source": [
        "ConfusionMatrixDisplay.from_predictions(y_test, y_train)"
      ]
    },
    {
      "cell_type": "markdown",
      "id": "96c048e4-6624-4a94-af92-650d109ac581",
      "metadata": {
        "id": "96c048e4-6624-4a94-af92-650d109ac581"
      },
      "source": [
        "### Задание 4. Расскажите о вашей любимой музыкальной группе (исполнителе) (0.5 балла)\n",
        "\n",
        "Расскажите, как вы познакомились с этой группой и скиньте несколько наиболее любимых треков)"
      ]
    },
    {
      "cell_type": "markdown",
      "source": [
        "наверное, одна из моих любимых групп - madrugada. услышала их на одном из ранних курсов в университете на автепати после клуба в полумертвом состоянии. до сих пор трогает. Советую наверное что-то вроде песни Salt или New woman new man. последнее на кейва похоже"
      ],
      "metadata": {
        "id": "fe2GZX7GRADA"
      },
      "id": "fe2GZX7GRADA"
    },
    {
      "cell_type": "markdown",
      "id": "8441428d-5ff4-46e0-927f-47ee935b224d",
      "metadata": {
        "id": "8441428d-5ff4-46e0-927f-47ee935b224d"
      },
      "source": [
        "## Therapy time\n",
        "\n",
        "Напишите здесь ваши впечатления о задании: было ли интересно, было ли слишком легко или наоборот сложно и тд. Также сюда можно написать свои идеи по улучшению заданий, а также предложить данные, на основе которых вы бы хотели построить следующие дз. "
      ]
    },
    {
      "cell_type": "markdown",
      "id": "15a2c8ee-96ac-4967-a9d5-55563826ee1d",
      "metadata": {
        "id": "15a2c8ee-96ac-4967-a9d5-55563826ee1d"
      },
      "source": [
        "**Ваши мысли:**"
      ]
    },
    {
      "cell_type": "code",
      "execution_count": null,
      "id": "546c0947-5835-46d4-987f-95248bf7613d",
      "metadata": {
        "id": "546c0947-5835-46d4-987f-95248bf7613d"
      },
      "outputs": [],
      "source": []
    }
  ],
  "metadata": {
    "kernelspec": {
      "display_name": "Python 3",
      "language": "python",
      "name": "python3"
    },
    "language_info": {
      "codemirror_mode": {
        "name": "ipython",
        "version": 3
      },
      "file_extension": ".py",
      "mimetype": "text/x-python",
      "name": "python",
      "nbconvert_exporter": "python",
      "pygments_lexer": "ipython3",
      "version": "3.8.8"
    },
    "colab": {
      "provenance": [],
      "include_colab_link": true
    }
  },
  "nbformat": 4,
  "nbformat_minor": 5
}